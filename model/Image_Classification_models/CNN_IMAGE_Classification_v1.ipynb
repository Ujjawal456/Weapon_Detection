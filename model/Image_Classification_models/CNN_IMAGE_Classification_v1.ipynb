{
 "cells": [
  {
   "cell_type": "code",
   "execution_count": 48,
   "metadata": {},
   "outputs": [],
   "source": [
    "import os"
   ]
  },
  {
   "cell_type": "code",
   "execution_count": 94,
   "metadata": {},
   "outputs": [],
   "source": [
    "train=os.listdir(\"/resources/CNNs/Train\")\n",
    "test=os.listdir(\"/resources/CNNs/Test\")\n"
   ]
  },
  {
   "cell_type": "code",
   "execution_count": 95,
   "metadata": {},
   "outputs": [],
   "source": [
    "train.remove('.ipynb_checkpoints')"
   ]
  },
  {
   "cell_type": "code",
   "execution_count": 96,
   "metadata": {},
   "outputs": [
    {
     "ename": "ValueError",
     "evalue": "list.remove(x): x not in list",
     "output_type": "error",
     "traceback": [
      "\u001b[0;31m---------------------------------------------------------------------------\u001b[0m",
      "\u001b[0;31mValueError\u001b[0m                                Traceback (most recent call last)",
      "\u001b[0;32m<ipython-input-96-e01ff98e1f15>\u001b[0m in \u001b[0;36m<module>\u001b[0;34m\u001b[0m\n\u001b[0;32m----> 1\u001b[0;31m \u001b[0mtest\u001b[0m\u001b[0;34m.\u001b[0m\u001b[0mremove\u001b[0m\u001b[0;34m(\u001b[0m\u001b[0;34m'.ipynb_checkpoints'\u001b[0m\u001b[0;34m)\u001b[0m\u001b[0;34m\u001b[0m\u001b[0;34m\u001b[0m\u001b[0m\n\u001b[0m",
      "\u001b[0;31mValueError\u001b[0m: list.remove(x): x not in list"
     ]
    }
   ],
   "source": [
    "test.remove('.ipynb_checkpoints')"
   ]
  },
  {
   "cell_type": "code",
   "execution_count": 97,
   "metadata": {},
   "outputs": [],
   "source": [
    "from keras.preprocessing.image import ImageDataGenerator, load_img\n",
    "from keras.utils import to_categorical\n",
    "from sklearn.model_selection import train_test_split\n",
    "import matplotlib.pyplot as plt\n",
    "import random\n",
    "from keras.preprocessing import image"
   ]
  },
  {
   "cell_type": "code",
   "execution_count": 98,
   "metadata": {},
   "outputs": [],
   "source": [
    "# We have grayscale images, so while loading the images we will keep grayscale=True, if you have RGB images, you should set grayscale as False\n",
    "train_images = []\n",
    "train_labels=[]\n",
    "for i in train:\n",
    "    img = image.load_img(\"/resources/CNNs/Train/\"+i, target_size=(64,64,3), grayscale=False)\n",
    "    img = image.img_to_array(img)\n",
    "    img = img/255\n",
    "    train_images.append(img)\n",
    "    if i[0:3]==\"GUN\":\n",
    "        train_labels.append(1)\n",
    "    else:\n",
    "        train_labels.append(0)\n",
    "        \n",
    "        \n"
   ]
  },
  {
   "cell_type": "code",
   "execution_count": 99,
   "metadata": {},
   "outputs": [
    {
     "data": {
      "text/plain": [
       "'GUN_76.jpg'"
      ]
     },
     "execution_count": 99,
     "metadata": {},
     "output_type": "execute_result"
    }
   ],
   "source": [
    "train[3]"
   ]
  },
  {
   "cell_type": "code",
   "execution_count": 100,
   "metadata": {},
   "outputs": [
    {
     "data": {
      "text/plain": [
       "1"
      ]
     },
     "execution_count": 100,
     "metadata": {},
     "output_type": "execute_result"
    }
   ],
   "source": [
    "train_labels[3]"
   ]
  },
  {
   "cell_type": "code",
   "execution_count": null,
   "metadata": {},
   "outputs": [],
   "source": []
  },
  {
   "cell_type": "code",
   "execution_count": 101,
   "metadata": {},
   "outputs": [],
   "source": [
    "#Removing duplicate images\n",
    "# for i in test:\n",
    "#     for j in train:\n",
    "#         if(i==j):\n",
    "#             print(i)\n",
    "#             path=\"/resources/CNNs/Train/\"+i\n",
    "#             !rm $path"
   ]
  },
  {
   "cell_type": "code",
   "execution_count": 102,
   "metadata": {},
   "outputs": [],
   "source": [
    "# We have grayscale images, so while loading the images we will keep grayscale=True, if you have RGB images, you should set grayscale as False\n",
    "test_images = []\n",
    "test_labels=[]\n",
    "for i in train:\n",
    "    img = image.load_img(\"/resources/CNNs/Train/\"+i, target_size=(64,64,3), grayscale=False)\n",
    "    img = image.img_to_array(img)\n",
    "    img = img/255\n",
    "    test_images.append(img)\n",
    "    if i[0:3]==\"GUN\":\n",
    "        test_labels.append(1)\n",
    "    else:\n",
    "        test_labels.append(0)\n",
    "        \n",
    "        \n"
   ]
  },
  {
   "cell_type": "code",
   "execution_count": null,
   "metadata": {},
   "outputs": [],
   "source": []
  },
  {
   "cell_type": "code",
   "execution_count": 103,
   "metadata": {},
   "outputs": [],
   "source": [
    "import numpy as np\n",
    "train_images=np.array(train_images)\n",
    "test_images=np.array(test_images)"
   ]
  },
  {
   "cell_type": "code",
   "execution_count": 104,
   "metadata": {},
   "outputs": [],
   "source": [
    "train_labels=np.array(train_labels)\n",
    "test_labels=np.array(test_labels)"
   ]
  },
  {
   "cell_type": "code",
   "execution_count": 105,
   "metadata": {},
   "outputs": [
    {
     "data": {
      "text/plain": [
       "Text(0.5, 1.0, 'Ground Truth : 1')"
      ]
     },
     "execution_count": 105,
     "metadata": {},
     "output_type": "execute_result"
    },
    {
     "data": {
      "image/png": "[encoded data removed]",
      "text/plain": [
       "<Figure size 288x144 with 1 Axes>"
      ]
     },
     "metadata": {
      "needs_background": "light"
     },
     "output_type": "display_data"
    }
   ],
   "source": [
    "plt.figure(figsize=[4,2])\n",
    "\n",
    "# Display the first image in training data\n",
    "plt.subplot(121)\n",
    "plt.imshow(train_images[0,:,:])\n",
    "plt.title(\"Ground Truth : {}\".format(train_labels[0]))"
   ]
  },
  {
   "cell_type": "code",
   "execution_count": 106,
   "metadata": {},
   "outputs": [
    {
     "data": {
      "text/plain": [
       "Text(0.5, 1.0, 'Ground Truth : 0')"
      ]
     },
     "execution_count": 106,
     "metadata": {},
     "output_type": "execute_result"
    },
    {
     "data": {
      "image/png": "[encoded data removed]",
      "text/plain": [
       "<Figure size 288x144 with 1 Axes>"
      ]
     },
     "metadata": {
      "needs_background": "light"
     },
     "output_type": "display_data"
    }
   ],
   "source": [
    "plt.figure(figsize=[4,2])\n",
    "\n",
    "# Display the first image in training data\n",
    "plt.subplot(121)\n",
    "plt.imshow(train_images[10,:,:])\n",
    "plt.title(\"Ground Truth : {}\".format(train_labels[10]))"
   ]
  },
  {
   "cell_type": "code",
   "execution_count": 107,
   "metadata": {},
   "outputs": [],
   "source": [
    "# Find the shape of input images and create the variable input_shape\n",
    "nRows,nCols,nDims = train_images.shape[1:]\n",
    "train_data = train_images.reshape(train_images.shape[0], nRows, nCols, nDims)\n",
    "test_data = test_images.reshape(test_images.shape[0], nRows, nCols, nDims)\n",
    "input_shape = (nRows, nCols, nDims)"
   ]
  },
  {
   "cell_type": "code",
   "execution_count": 108,
   "metadata": {},
   "outputs": [
    {
     "data": {
      "text/plain": [
       "(64, 64, 3)"
      ]
     },
     "execution_count": 108,
     "metadata": {},
     "output_type": "execute_result"
    }
   ],
   "source": [
    "input_shape"
   ]
  },
  {
   "cell_type": "code",
   "execution_count": 109,
   "metadata": {},
   "outputs": [
    {
     "ename": "AttributeError",
     "evalue": "'list' object has no attribute 'shape'",
     "output_type": "error",
     "traceback": [
      "\u001b[0;31m---------------------------------------------------------------------------\u001b[0m",
      "\u001b[0;31mAttributeError\u001b[0m                            Traceback (most recent call last)",
      "\u001b[0;32m<ipython-input-109-5e6a15ce28a5>\u001b[0m in \u001b[0;36m<module>\u001b[0;34m\u001b[0m\n\u001b[0;32m----> 1\u001b[0;31m \u001b[0mtrain\u001b[0m\u001b[0;34m.\u001b[0m\u001b[0mshape\u001b[0m\u001b[0;34m\u001b[0m\u001b[0;34m\u001b[0m\u001b[0m\n\u001b[0m",
      "\u001b[0;31mAttributeError\u001b[0m: 'list' object has no attribute 'shape'"
     ]
    }
   ],
   "source": [
    "train.shape"
   ]
  },
  {
   "cell_type": "code",
   "execution_count": 110,
   "metadata": {},
   "outputs": [
    {
     "name": "stdout",
     "output_type": "stream",
     "text": [
      "Total number of outputs :  2\n",
      "Output classes :  [0 1]\n"
     ]
    }
   ],
   "source": [
    "# Find the unique numbers from the train labels\n",
    "classes = np.unique(train_labels)\n",
    "nClasses = len(classes)\n",
    "print('Total number of outputs : ', nClasses)\n",
    "print('Output classes : ', classes)"
   ]
  },
  {
   "cell_type": "code",
   "execution_count": 111,
   "metadata": {},
   "outputs": [],
   "source": [
    "# Change the labels from integer to categorical data\n",
    "train_labels_one_hot = to_categorical(train_labels)\n",
    "test_labels_one_hot = to_categorical(test_labels)"
   ]
  },
  {
   "cell_type": "code",
   "execution_count": 112,
   "metadata": {},
   "outputs": [],
   "source": [
    "from __future__ import print_function\n",
    "import keras\n",
    "from keras.models import Sequential\n",
    "from keras.layers import Dense, Conv2D, MaxPooling2D, Dropout, Flatten"
   ]
  },
  {
   "cell_type": "code",
   "execution_count": 113,
   "metadata": {},
   "outputs": [],
   "source": [
    "def createModel():\n",
    "    model = Sequential()\n",
    "    # The first two layers with 32 filters of window size 3x3\n",
    "    model.add(Conv2D(32, (3, 3), padding='same', activation='relu', input_shape=input_shape))\n",
    "    model.add(Conv2D(32, (3, 3), activation='relu'))\n",
    "    model.add(MaxPooling2D(pool_size=(2, 2)))\n",
    "    model.add(Dropout(0.25))\n",
    "\n",
    "    model.add(Conv2D(64, (3, 3), padding='same', activation='relu'))\n",
    "    model.add(Conv2D(64, (3, 3), activation='relu'))\n",
    "    model.add(MaxPooling2D(pool_size=(2, 2)))\n",
    "    model.add(Dropout(0.25))\n",
    "\n",
    "    model.add(Conv2D(64, (3, 3), padding='same', activation='relu'))\n",
    "    model.add(Conv2D(64, (3, 3), activation='relu'))\n",
    "    model.add(MaxPooling2D(pool_size=(2, 2)))\n",
    "    model.add(Dropout(0.25))\n",
    "\n",
    "    model.add(Flatten())\n",
    "    model.add(Dense(512, activation='relu'))\n",
    "    model.add(Dropout(0.5))\n",
    "    model.add(Dense(nClasses, activation='softmax'))\n",
    "\n",
    "\n",
    "    return model"
   ]
  },
  {
   "cell_type": "code",
   "execution_count": 117,
   "metadata": {},
   "outputs": [
    {
     "name": "stdout",
     "output_type": "stream",
     "text": [
      "_________________________________________________________________\n",
      "Layer (type)                 Output Shape              Param #   \n",
      "=================================================================\n",
      "conv2d_37 (Conv2D)           (None, 64, 64, 32)        896       \n",
      "_________________________________________________________________\n",
      "conv2d_38 (Conv2D)           (None, 62, 62, 32)        9248      \n",
      "_________________________________________________________________\n",
      "max_pooling2d_19 (MaxPooling (None, 31, 31, 32)        0         \n",
      "_________________________________________________________________\n",
      "dropout_25 (Dropout)         (None, 31, 31, 32)        0         \n",
      "_________________________________________________________________\n",
      "conv2d_39 (Conv2D)           (None, 31, 31, 64)        18496     \n",
      "_________________________________________________________________\n",
      "conv2d_40 (Conv2D)           (None, 29, 29, 64)        36928     \n",
      "_________________________________________________________________\n",
      "max_pooling2d_20 (MaxPooling (None, 14, 14, 64)        0         \n",
      "_________________________________________________________________\n",
      "dropout_26 (Dropout)         (None, 14, 14, 64)        0         \n",
      "_________________________________________________________________\n",
      "conv2d_41 (Conv2D)           (None, 14, 14, 64)        36928     \n",
      "_________________________________________________________________\n",
      "conv2d_42 (Conv2D)           (None, 12, 12, 64)        36928     \n",
      "_________________________________________________________________\n",
      "max_pooling2d_21 (MaxPooling (None, 6, 6, 64)          0         \n",
      "_________________________________________________________________\n",
      "dropout_27 (Dropout)         (None, 6, 6, 64)          0         \n",
      "_________________________________________________________________\n",
      "flatten_7 (Flatten)          (None, 2304)              0         \n",
      "_________________________________________________________________\n",
      "dense_12 (Dense)             (None, 512)               1180160   \n",
      "_________________________________________________________________\n",
      "dropout_28 (Dropout)         (None, 512)               0         \n",
      "_________________________________________________________________\n",
      "dense_13 (Dense)             (None, 2)                 1026      \n",
      "=================================================================\n",
      "Total params: 1,320,610\n",
      "Trainable params: 1,320,610\n",
      "Non-trainable params: 0\n",
      "_________________________________________________________________\n",
      "Train on 177 samples, validate on 177 samples\n",
      "Epoch 1/15\n",
      "177/177 [==============================] - 8s 45ms/step - loss: 0.7679 - acc: 0.7175 - val_loss: 0.6204 - val_acc: 0.7345\n",
      "Epoch 2/15\n",
      "177/177 [==============================] - 7s 40ms/step - loss: 0.6390 - acc: 0.7345 - val_loss: 0.5750 - val_acc: 0.7345\n",
      "Epoch 3/15\n",
      "177/177 [==============================] - 7s 40ms/step - loss: 0.6498 - acc: 0.7345 - val_loss: 0.4994 - val_acc: 0.7345\n",
      "Epoch 4/15\n",
      "177/177 [==============================] - 7s 40ms/step - loss: 0.5206 - acc: 0.7345 - val_loss: 0.6049 - val_acc: 0.7345\n",
      "Epoch 5/15\n",
      "177/177 [==============================] - 7s 40ms/step - loss: 0.4543 - acc: 0.7797 - val_loss: 0.4921 - val_acc: 0.8531\n",
      "Epoch 6/15\n",
      "177/177 [==============================] - 7s 40ms/step - loss: 0.4652 - acc: 0.8079 - val_loss: 0.3724 - val_acc: 0.8757\n",
      "Epoch 7/15\n",
      "177/177 [==============================] - 7s 40ms/step - loss: 0.3653 - acc: 0.8588 - val_loss: 0.2614 - val_acc: 0.8983\n",
      "Epoch 8/15\n",
      "177/177 [==============================] - 7s 41ms/step - loss: 0.3453 - acc: 0.9040 - val_loss: 2.8579 - val_acc: 0.7401\n",
      "Epoch 9/15\n",
      "177/177 [==============================] - 7s 40ms/step - loss: 0.3886 - acc: 0.8418 - val_loss: 0.2945 - val_acc: 0.9096\n",
      "Epoch 10/15\n",
      "177/177 [==============================] - 7s 40ms/step - loss: 0.3178 - acc: 0.8814 - val_loss: 0.2915 - val_acc: 0.8588\n",
      "Epoch 11/15\n",
      "177/177 [==============================] - 7s 41ms/step - loss: 0.2606 - acc: 0.8927 - val_loss: 0.1474 - val_acc: 0.9548\n",
      "Epoch 12/15\n",
      "177/177 [==============================] - 7s 40ms/step - loss: 0.3227 - acc: 0.8757 - val_loss: 0.1628 - val_acc: 0.9379\n",
      "Epoch 13/15\n",
      "177/177 [==============================] - 7s 40ms/step - loss: 0.2393 - acc: 0.9209 - val_loss: 0.1566 - val_acc: 0.9492\n",
      "Epoch 14/15\n",
      "177/177 [==============================] - 7s 40ms/step - loss: 0.2433 - acc: 0.9096 - val_loss: 0.1485 - val_acc: 0.9379\n",
      "Epoch 15/15\n",
      "177/177 [==============================] - 7s 40ms/step - loss: 0.1641 - acc: 0.9153 - val_loss: 0.2569 - val_acc: 0.9153\n"
     ]
    }
   ],
   "source": [
    "model = createModel()\n",
    "batch_size = 5\n",
    "epochs = 50\n",
    "model.compile(optimizer='rmsprop', loss='categorical_crossentropy', metrics=['accuracy'])\n",
    "\n",
    "model.summary()\n",
    "\n",
    "history = model.fit(train_data, train_labels_one_hot, batch_size=batch_size, epochs=epochs, verbose=1, \n",
    "                   validation_data=(test_data, test_labels_one_hot))"
   ]
  },
  {
   "cell_type": "code",
   "execution_count": 115,
   "metadata": {},
   "outputs": [
    {
     "data": {
      "text/plain": [
       "['loss', 'acc']"
      ]
     },
     "execution_count": 115,
     "metadata": {},
     "output_type": "execute_result"
    }
   ],
   "source": [
    "model.metrics_names"
   ]
  },
  {
   "cell_type": "code",
   "execution_count": 118,
   "metadata": {},
   "outputs": [
    {
     "name": "stdout",
     "output_type": "stream",
     "text": [
      "177/177 [==============================] - 2s 9ms/step\n"
     ]
    },
    {
     "data": {
      "text/plain": [
       "[0.2568605284990564, 0.9152542379616344]"
      ]
     },
     "execution_count": 118,
     "metadata": {},
     "output_type": "execute_result"
    }
   ],
   "source": [
    "model.evaluate(test_data, test_labels_one_hot)"
   ]
  },
  {
   "cell_type": "markdown",
   "metadata": {},
   "source": [
    "## Check the loss and accuracy curves"
   ]
  },
  {
   "cell_type": "code",
   "execution_count": 119,
   "metadata": {},
   "outputs": [],
   "source": [
    "import matplotlib.pyplot as plt"
   ]
  },
  {
   "cell_type": "code",
   "execution_count": 120,
   "metadata": {},
   "outputs": [
    {
     "data": {
      "text/plain": [
       "Text(0.5, 1.0, 'Loss Curves')"
      ]
     },
     "execution_count": 120,
     "metadata": {},
     "output_type": "execute_result"
    },
    {
     "data": {
      "image/png": "[encoded data removed]",
      "text/plain": [
       "<Figure size 576x432 with 1 Axes>"
      ]
     },
     "metadata": {
      "needs_background": "light"
     },
     "output_type": "display_data"
    }
   ],
   "source": [
    "plt.figure(figsize=[8,6])\n",
    "plt.plot(history.history['loss'],'r',linewidth=3.0)\n",
    "plt.plot(history.history['val_loss'],'b',linewidth=3.0)\n",
    "plt.legend(['Training loss', 'Validation Loss'],fontsize=18)\n",
    "plt.xlabel('Epochs ',fontsize=16)\n",
    "plt.ylabel('Loss',fontsize=16)\n",
    "plt.title('Loss Curves',fontsize=16)"
   ]
  },
  {
   "cell_type": "code",
   "execution_count": 121,
   "metadata": {},
   "outputs": [
    {
     "data": {
      "text/plain": [
       "Text(0.5, 1.0, 'Accuracy Curves')"
      ]
     },
     "execution_count": 121,
     "metadata": {},
     "output_type": "execute_result"
    },
    {
     "data": {
      "image/png": "[encoded data removed]",
      "text/plain": [
       "<Figure size 576x432 with 1 Axes>"
      ]
     },
     "metadata": {
      "needs_background": "light"
     },
     "output_type": "display_data"
    }
   ],
   "source": [
    "plt.figure(figsize=[8,6])\n",
    "plt.plot(history.history['acc'],'r',linewidth=3.0)\n",
    "plt.plot(history.history['val_acc'],'b',linewidth=3.0)\n",
    "plt.legend(['Training Accuracy', 'Validation Accuracy'],fontsize=18)\n",
    "plt.xlabel('Epochs ',fontsize=16)\n",
    "plt.ylabel('Accuracy',fontsize=16)\n",
    "plt.title('Accuracy Curves',fontsize=16)"
   ]
  },
  {
   "cell_type": "code",
   "execution_count": 137,
   "metadata": {},
   "outputs": [
    {
     "data": {
      "text/plain": [
       "array([0.00252295, 0.997477  ], dtype=float32)"
      ]
     },
     "execution_count": 137,
     "metadata": {},
     "output_type": "execute_result"
    }
   ],
   "source": [
    "model.predict(test_images)[0]"
   ]
  },
  {
   "cell_type": "markdown",
   "metadata": {},
   "source": [
    "# Data Augementation"
   ]
  },
  {
   "cell_type": "code",
   "execution_count": 136,
   "metadata": {},
   "outputs": [
    {
     "name": "stdout",
     "output_type": "stream",
     "text": [
      "Epoch 1/10\n",
      "36/36 [==============================] - 8s 227ms/step - loss: 0.7577 - acc: 0.7140 - val_loss: 0.6168 - val_acc: 0.7345\n",
      "Epoch 2/10\n",
      "36/36 [==============================] - 7s 204ms/step - loss: 0.6337 - acc: 0.7388 - val_loss: 0.5768 - val_acc: 0.7345\n",
      "Epoch 3/10\n",
      "36/36 [==============================] - 7s 197ms/step - loss: 0.6216 - acc: 0.7388 - val_loss: 0.5746 - val_acc: 0.7345\n",
      "Epoch 4/10\n",
      "36/36 [==============================] - 7s 197ms/step - loss: 0.6073 - acc: 0.7388 - val_loss: 0.5359 - val_acc: 0.7345\n",
      "Epoch 5/10\n",
      "36/36 [==============================] - 7s 192ms/step - loss: 0.5423 - acc: 0.7388 - val_loss: 0.4669 - val_acc: 0.7345\n",
      "Epoch 6/10\n",
      "36/36 [==============================] - 7s 196ms/step - loss: 0.4961 - acc: 0.7443 - val_loss: 0.4996 - val_acc: 0.8305\n",
      "Epoch 7/10\n",
      "36/36 [==============================] - 7s 195ms/step - loss: 0.5658 - acc: 0.7443 - val_loss: 0.3771 - val_acc: 0.8023\n",
      "Epoch 8/10\n",
      "36/36 [==============================] - 7s 196ms/step - loss: 0.4845 - acc: 0.7862 - val_loss: 0.3566 - val_acc: 0.8531\n",
      "Epoch 9/10\n",
      "36/36 [==============================] - 7s 193ms/step - loss: 0.5137 - acc: 0.7696 - val_loss: 0.3574 - val_acc: 0.8079\n",
      "Epoch 10/10\n",
      "36/36 [==============================] - 7s 197ms/step - loss: 0.5001 - acc: 0.8085 - val_loss: 0.4246 - val_acc: 0.8870\n",
      "177/177 [==============================] - 1s 8ms/step\n"
     ]
    },
    {
     "data": {
      "text/plain": [
       "[0.4245710893202636, 0.8870056500542636]"
      ]
     },
     "execution_count": 136,
     "metadata": {},
     "output_type": "execute_result"
    }
   ],
   "source": [
    "from keras.preprocessing.image import ImageDataGenerator\n",
    "\n",
    "model2 = createModel()\n",
    "\n",
    "model2.compile(optimizer='rmsprop', loss='categorical_crossentropy', metrics=['accuracy'])\n",
    "\n",
    "batch_size = 5\n",
    "epochs = 10\n",
    "datagen = ImageDataGenerator(\n",
    "#         zoom_range=0.2, # randomly zoom into images\n",
    "#         rotation_range=10,  # randomly rotate images in the range (degrees, 0 to 180)\n",
    "        width_shift_range=0.1,  # randomly shift images horizontally (fraction of total width)\n",
    "        height_shift_range=0.1,  # randomly shift images vertically (fraction of total height)\n",
    "        horizontal_flip=True,  # randomly flip images\n",
    "        vertical_flip=False)  # randomly flip images\n",
    "\n",
    "\n",
    "# datagen.fit(train_data)\n",
    "\n",
    "# Fit the model on the batches generated by datagen.flow().\n",
    "history2 = model2.fit_generator(datagen.flow(train_data, train_labels_one_hot, batch_size=batch_size),\n",
    "                              steps_per_epoch=int(np.ceil(train_data.shape[0] / float(batch_size))),\n",
    "                              epochs=epochs,\n",
    "                              validation_data=(test_data, test_labels_one_hot),\n",
    "                              workers=4)\n",
    "\n",
    "model2.evaluate(test_data, test_labels_one_hot)"
   ]
  },
  {
   "cell_type": "code",
   "execution_count": 143,
   "metadata": {},
   "outputs": [
    {
     "data": {
      "text/plain": [
       "[{'class_name': 'Conv2D',\n",
       "  'config': {'name': 'conv2d_55',\n",
       "   'trainable': True,\n",
       "   'batch_input_shape': (None, 64, 64, 3),\n",
       "   'dtype': 'float32',\n",
       "   'filters': 32,\n",
       "   'kernel_size': (3, 3),\n",
       "   'strides': (1, 1),\n",
       "   'padding': 'same',\n",
       "   'data_format': 'channels_last',\n",
       "   'dilation_rate': (1, 1),\n",
       "   'activation': 'relu',\n",
       "   'use_bias': True,\n",
       "   'kernel_initializer': {'class_name': 'VarianceScaling',\n",
       "    'config': {'scale': 1.0,\n",
       "     'mode': 'fan_avg',\n",
       "     'distribution': 'uniform',\n",
       "     'seed': None}},\n",
       "   'bias_initializer': {'class_name': 'Zeros', 'config': {}},\n",
       "   'kernel_regularizer': None,\n",
       "   'bias_regularizer': None,\n",
       "   'activity_regularizer': None,\n",
       "   'kernel_constraint': None,\n",
       "   'bias_constraint': None}},\n",
       " {'class_name': 'Conv2D',\n",
       "  'config': {'name': 'conv2d_56',\n",
       "   'trainable': True,\n",
       "   'filters': 32,\n",
       "   'kernel_size': (3, 3),\n",
       "   'strides': (1, 1),\n",
       "   'padding': 'valid',\n",
       "   'data_format': 'channels_last',\n",
       "   'dilation_rate': (1, 1),\n",
       "   'activation': 'relu',\n",
       "   'use_bias': True,\n",
       "   'kernel_initializer': {'class_name': 'VarianceScaling',\n",
       "    'config': {'scale': 1.0,\n",
       "     'mode': 'fan_avg',\n",
       "     'distribution': 'uniform',\n",
       "     'seed': None}},\n",
       "   'bias_initializer': {'class_name': 'Zeros', 'config': {}},\n",
       "   'kernel_regularizer': None,\n",
       "   'bias_regularizer': None,\n",
       "   'activity_regularizer': None,\n",
       "   'kernel_constraint': None,\n",
       "   'bias_constraint': None}},\n",
       " {'class_name': 'MaxPooling2D',\n",
       "  'config': {'name': 'max_pooling2d_28',\n",
       "   'trainable': True,\n",
       "   'pool_size': (2, 2),\n",
       "   'padding': 'valid',\n",
       "   'strides': (2, 2),\n",
       "   'data_format': 'channels_last'}},\n",
       " {'class_name': 'Dropout',\n",
       "  'config': {'name': 'dropout_37',\n",
       "   'trainable': True,\n",
       "   'rate': 0.25,\n",
       "   'noise_shape': None,\n",
       "   'seed': None}},\n",
       " {'class_name': 'Conv2D',\n",
       "  'config': {'name': 'conv2d_57',\n",
       "   'trainable': True,\n",
       "   'filters': 64,\n",
       "   'kernel_size': (3, 3),\n",
       "   'strides': (1, 1),\n",
       "   'padding': 'same',\n",
       "   'data_format': 'channels_last',\n",
       "   'dilation_rate': (1, 1),\n",
       "   'activation': 'relu',\n",
       "   'use_bias': True,\n",
       "   'kernel_initializer': {'class_name': 'VarianceScaling',\n",
       "    'config': {'scale': 1.0,\n",
       "     'mode': 'fan_avg',\n",
       "     'distribution': 'uniform',\n",
       "     'seed': None}},\n",
       "   'bias_initializer': {'class_name': 'Zeros', 'config': {}},\n",
       "   'kernel_regularizer': None,\n",
       "   'bias_regularizer': None,\n",
       "   'activity_regularizer': None,\n",
       "   'kernel_constraint': None,\n",
       "   'bias_constraint': None}},\n",
       " {'class_name': 'Conv2D',\n",
       "  'config': {'name': 'conv2d_58',\n",
       "   'trainable': True,\n",
       "   'filters': 64,\n",
       "   'kernel_size': (3, 3),\n",
       "   'strides': (1, 1),\n",
       "   'padding': 'valid',\n",
       "   'data_format': 'channels_last',\n",
       "   'dilation_rate': (1, 1),\n",
       "   'activation': 'relu',\n",
       "   'use_bias': True,\n",
       "   'kernel_initializer': {'class_name': 'VarianceScaling',\n",
       "    'config': {'scale': 1.0,\n",
       "     'mode': 'fan_avg',\n",
       "     'distribution': 'uniform',\n",
       "     'seed': None}},\n",
       "   'bias_initializer': {'class_name': 'Zeros', 'config': {}},\n",
       "   'kernel_regularizer': None,\n",
       "   'bias_regularizer': None,\n",
       "   'activity_regularizer': None,\n",
       "   'kernel_constraint': None,\n",
       "   'bias_constraint': None}},\n",
       " {'class_name': 'MaxPooling2D',\n",
       "  'config': {'name': 'max_pooling2d_29',\n",
       "   'trainable': True,\n",
       "   'pool_size': (2, 2),\n",
       "   'padding': 'valid',\n",
       "   'strides': (2, 2),\n",
       "   'data_format': 'channels_last'}},\n",
       " {'class_name': 'Dropout',\n",
       "  'config': {'name': 'dropout_38',\n",
       "   'trainable': True,\n",
       "   'rate': 0.25,\n",
       "   'noise_shape': None,\n",
       "   'seed': None}},\n",
       " {'class_name': 'Conv2D',\n",
       "  'config': {'name': 'conv2d_59',\n",
       "   'trainable': True,\n",
       "   'filters': 64,\n",
       "   'kernel_size': (3, 3),\n",
       "   'strides': (1, 1),\n",
       "   'padding': 'same',\n",
       "   'data_format': 'channels_last',\n",
       "   'dilation_rate': (1, 1),\n",
       "   'activation': 'relu',\n",
       "   'use_bias': True,\n",
       "   'kernel_initializer': {'class_name': 'VarianceScaling',\n",
       "    'config': {'scale': 1.0,\n",
       "     'mode': 'fan_avg',\n",
       "     'distribution': 'uniform',\n",
       "     'seed': None}},\n",
       "   'bias_initializer': {'class_name': 'Zeros', 'config': {}},\n",
       "   'kernel_regularizer': None,\n",
       "   'bias_regularizer': None,\n",
       "   'activity_regularizer': None,\n",
       "   'kernel_constraint': None,\n",
       "   'bias_constraint': None}},\n",
       " {'class_name': 'Conv2D',\n",
       "  'config': {'name': 'conv2d_60',\n",
       "   'trainable': True,\n",
       "   'filters': 64,\n",
       "   'kernel_size': (3, 3),\n",
       "   'strides': (1, 1),\n",
       "   'padding': 'valid',\n",
       "   'data_format': 'channels_last',\n",
       "   'dilation_rate': (1, 1),\n",
       "   'activation': 'relu',\n",
       "   'use_bias': True,\n",
       "   'kernel_initializer': {'class_name': 'VarianceScaling',\n",
       "    'config': {'scale': 1.0,\n",
       "     'mode': 'fan_avg',\n",
       "     'distribution': 'uniform',\n",
       "     'seed': None}},\n",
       "   'bias_initializer': {'class_name': 'Zeros', 'config': {}},\n",
       "   'kernel_regularizer': None,\n",
       "   'bias_regularizer': None,\n",
       "   'activity_regularizer': None,\n",
       "   'kernel_constraint': None,\n",
       "   'bias_constraint': None}},\n",
       " {'class_name': 'MaxPooling2D',\n",
       "  'config': {'name': 'max_pooling2d_30',\n",
       "   'trainable': True,\n",
       "   'pool_size': (2, 2),\n",
       "   'padding': 'valid',\n",
       "   'strides': (2, 2),\n",
       "   'data_format': 'channels_last'}},\n",
       " {'class_name': 'Dropout',\n",
       "  'config': {'name': 'dropout_39',\n",
       "   'trainable': True,\n",
       "   'rate': 0.25,\n",
       "   'noise_shape': None,\n",
       "   'seed': None}},\n",
       " {'class_name': 'Flatten',\n",
       "  'config': {'name': 'flatten_10', 'trainable': True}},\n",
       " {'class_name': 'Dense',\n",
       "  'config': {'name': 'dense_18',\n",
       "   'trainable': True,\n",
       "   'units': 512,\n",
       "   'activation': 'relu',\n",
       "   'use_bias': True,\n",
       "   'kernel_initializer': {'class_name': 'VarianceScaling',\n",
       "    'config': {'scale': 1.0,\n",
       "     'mode': 'fan_avg',\n",
       "     'distribution': 'uniform',\n",
       "     'seed': None}},\n",
       "   'bias_initializer': {'class_name': 'Zeros', 'config': {}},\n",
       "   'kernel_regularizer': None,\n",
       "   'bias_regularizer': None,\n",
       "   'activity_regularizer': None,\n",
       "   'kernel_constraint': None,\n",
       "   'bias_constraint': None}},\n",
       " {'class_name': 'Dropout',\n",
       "  'config': {'name': 'dropout_40',\n",
       "   'trainable': True,\n",
       "   'rate': 0.5,\n",
       "   'noise_shape': None,\n",
       "   'seed': None}},\n",
       " {'class_name': 'Dense',\n",
       "  'config': {'name': 'dense_19',\n",
       "   'trainable': True,\n",
       "   'units': 2,\n",
       "   'activation': 'softmax',\n",
       "   'use_bias': True,\n",
       "   'kernel_initializer': {'class_name': 'VarianceScaling',\n",
       "    'config': {'scale': 1.0,\n",
       "     'mode': 'fan_avg',\n",
       "     'distribution': 'uniform',\n",
       "     'seed': None}},\n",
       "   'bias_initializer': {'class_name': 'Zeros', 'config': {}},\n",
       "   'kernel_regularizer': None,\n",
       "   'bias_regularizer': None,\n",
       "   'activity_regularizer': None,\n",
       "   'kernel_constraint': None,\n",
       "   'bias_constraint': None}}]"
      ]
     },
     "execution_count": 143,
     "metadata": {},
     "output_type": "execute_result"
    }
   ],
   "source": [
    "model2.get_config()"
   ]
  },
  {
   "cell_type": "code",
   "execution_count": 145,
   "metadata": {},
   "outputs": [
    {
     "name": "stdout",
     "output_type": "stream",
     "text": [
      "--2019-02-18 18:34:37--  https://github.com/aayushkubb/learnopencv/tree/master/Keras-Transfer-Learning/clean-dataset/train\n",
      "Resolving github.com (github.com)... 192.30.253.113, 192.30.253.112\n",
      "Connecting to github.com (github.com)|192.30.253.113|:443... connected.\n",
      "HTTP request sent, awaiting response... 200 OK\n",
      "Length: unspecified [text/html]\n",
      "Saving to: ‘train’\n",
      "\n",
      "train                   [ <=>                  ]  52.63K  --.-KB/s   in 0.04s  \n",
      "\n",
      "2019-02-18 18:34:37 (1.16 MB/s) - ‘train’ saved [53895]\n",
      "\n"
     ]
    }
   ],
   "source": [
    "!wget https://github.com/aayushkubb/learnopencv/tree/master/Keras-Transfer-Learning/clean-dataset/train"
   ]
  },
  {
   "cell_type": "code",
   "execution_count": null,
   "metadata": {},
   "outputs": [],
   "source": []
  }
 ],
 "metadata": {
  "kernelspec": {
   "display_name": "Python 3",
   "language": "python",
   "name": "python3"
  },
  "language_info": {
   "codemirror_mode": {
    "name": "ipython",
    "version": 3
   },
   "file_extension": ".py",
   "mimetype": "text/x-python",
   "name": "python",
   "nbconvert_exporter": "python",
   "pygments_lexer": "ipython3",
   "version": "3.6.8"
  }
 },
 "nbformat": 4,
 "nbformat_minor": 2
}
