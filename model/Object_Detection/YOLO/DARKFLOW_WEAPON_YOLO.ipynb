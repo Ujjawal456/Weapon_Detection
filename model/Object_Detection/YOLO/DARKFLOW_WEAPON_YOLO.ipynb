{
  "nbformat": 4,
  "nbformat_minor": 0,
  "metadata": {
    "colab": {
      "name": "DARKFLOW_WEAPON_YOLO.ipynb",
      "version": "0.3.2",
      "provenance": [],
      "collapsed_sections": []
    },
    "kernelspec": {
      "name": "python3",
      "display_name": "Python 3"
    },
    "accelerator": "GPU"
  },
  "cells": [
    {
      "metadata": {
        "id": "aE553h8wpNGY",
        "colab_type": "text"
      },
      "cell_type": "markdown",
      "source": [
        "# Mounting Google Drive"
      ]
    },
    {
      "metadata": {
        "id": "Nnk1t85ygzCk",
        "colab_type": "code",
        "outputId": "d585f11e-8f24-4423-b761-0ff703bdcbc0",
        "colab": {
          "base_uri": "https://localhost:8080/",
          "height": 54
        }
      },
      "cell_type": "code",
      "source": [
        "# Load the Drive helper and mount\n",
        "from google.colab import drive\n",
        "\n",
        "# This will prompt for authorization.\n",
        "drive.mount('/content/drive')"
      ],
      "execution_count": 0,
      "outputs": [
        {
          "output_type": "stream",
          "text": [
            "Drive already mounted at /content/drive; to attempt to forcibly remount, call drive.mount(\"/content/drive\", force_remount=True).\n"
          ],
          "name": "stdout"
        }
      ]
    },
    {
      "metadata": {
        "id": "3j70imcHpSWj",
        "colab_type": "text"
      },
      "cell_type": "markdown",
      "source": [
        "# Data Collection and Data Organization \n",
        "using different set of commands"
      ]
    },
    {
      "metadata": {
        "id": "w5rzx-SWg0S9",
        "colab_type": "code",
        "outputId": "d3c35852-8442-4aa2-9efd-dda2c232dd4c",
        "colab": {
          "base_uri": "https://localhost:8080/",
          "height": 34
        }
      },
      "cell_type": "code",
      "source": [
        "cd /content/drive"
      ],
      "execution_count": 0,
      "outputs": [
        {
          "output_type": "stream",
          "text": [
            "/content/drive\n"
          ],
          "name": "stdout"
        }
      ]
    },
    {
      "metadata": {
        "id": "AEkP0ucJph9A",
        "colab_type": "text"
      },
      "cell_type": "markdown",
      "source": [
        "# Clone Darkflow for YOLO Implementation"
      ]
    },
    {
      "metadata": {
        "id": "ZQbu9ILQphi1",
        "colab_type": "code",
        "colab": {}
      },
      "cell_type": "code",
      "source": [
        ""
      ],
      "execution_count": 0,
      "outputs": []
    },
    {
      "metadata": {
        "id": "nYA00A8mkO2D",
        "colab_type": "code",
        "outputId": "d43584ff-26d6-4b8e-d602-4da62b63ff4f",
        "colab": {
          "base_uri": "https://localhost:8080/",
          "height": 34
        }
      },
      "cell_type": "code",
      "source": [
        "!git clone https://github.com/thtrieu/darkflow.git"
      ],
      "execution_count": 0,
      "outputs": [
        {
          "output_type": "stream",
          "text": [
            "fatal: destination path 'darkflow' already exists and is not an empty directory.\n"
          ],
          "name": "stdout"
        }
      ]
    },
    {
      "metadata": {
        "id": "GGPCpXbtpeYE",
        "colab_type": "text"
      },
      "cell_type": "markdown",
      "source": [
        "# Go to Darkflow Library"
      ]
    },
    {
      "metadata": {
        "id": "CZadGPEmlnfR",
        "colab_type": "code",
        "outputId": "2498bc5d-e5cd-4c32-c206-03f88090eaaa",
        "colab": {
          "base_uri": "https://localhost:8080/",
          "height": 34
        }
      },
      "cell_type": "code",
      "source": [
        "cd /content/darkflow"
      ],
      "execution_count": 0,
      "outputs": [
        {
          "output_type": "stream",
          "text": [
            "/content/darkflow\n"
          ],
          "name": "stdout"
        }
      ]
    },
    {
      "metadata": {
        "id": "BU1c5XQvltuq",
        "colab_type": "code",
        "outputId": "a6db2396-309e-4950-c701-bed51acdc660",
        "colab": {
          "base_uri": "https://localhost:8080/",
          "height": 51
        }
      },
      "cell_type": "code",
      "source": [
        "!ls"
      ],
      "execution_count": 0,
      "outputs": [
        {
          "output_type": "stream",
          "text": [
            "cfg\t  demo.gif  labels.txt\tpreview.png  sample_img  test\n",
            "darkflow  flow\t    LICENSE\tREADME.md    setup.py\n"
          ],
          "name": "stdout"
        }
      ]
    },
    {
      "metadata": {
        "id": "eQkBvi9Dpnbv",
        "colab_type": "text"
      },
      "cell_type": "markdown",
      "source": [
        "# Install Darkflow"
      ]
    },
    {
      "metadata": {
        "id": "eRE5qAOKkXnW",
        "colab_type": "code",
        "outputId": "536c0ba5-5b71-4816-fce1-c0c11b307f88",
        "colab": {
          "base_uri": "https://localhost:8080/",
          "height": 119
        }
      },
      "cell_type": "code",
      "source": [
        "pip install -e ."
      ],
      "execution_count": 0,
      "outputs": [
        {
          "output_type": "stream",
          "text": [
            "Obtaining file:///content/darkflow\n",
            "Installing collected packages: darkflow\n",
            "  Found existing installation: darkflow 1.0.0\n",
            "    Can't uninstall 'darkflow'. No files were found to uninstall.\n",
            "  Running setup.py develop for darkflow\n",
            "Successfully installed darkflow\n"
          ],
          "name": "stdout"
        }
      ]
    },
    {
      "metadata": {
        "id": "9DZchS4GkSjW",
        "colab_type": "code",
        "outputId": "a8aaa1f0-8fa4-4a72-f563-642c8549e4ad",
        "colab": {
          "base_uri": "https://localhost:8080/",
          "height": 51
        }
      },
      "cell_type": "code",
      "source": [
        "!ls -1 cfg/ | grep yolo.cfg"
      ],
      "execution_count": 0,
      "outputs": [
        {
          "output_type": "stream",
          "text": [
            "tiny-yolo.cfg\n",
            "yolo.cfg\n"
          ],
          "name": "stdout"
        }
      ]
    },
    {
      "metadata": {
        "id": "vIWzXDoMpvRW",
        "colab_type": "text"
      },
      "cell_type": "markdown",
      "source": [
        "# Customize the .cfg file and use the appropiate configration."
      ]
    },
    {
      "metadata": {
        "id": "pbcCMsR8pumT",
        "colab_type": "code",
        "colab": {}
      },
      "cell_type": "code",
      "source": [
        ""
      ],
      "execution_count": 0,
      "outputs": []
    },
    {
      "metadata": {
        "id": "Da1NwGiL1-_H",
        "colab_type": "code",
        "colab": {}
      },
      "cell_type": "code",
      "source": [
        "cp /content/yolo-new.cfg /content/darkflow/cfg"
      ],
      "execution_count": 0,
      "outputs": []
    },
    {
      "metadata": {
        "id": "CoUINLkB2U91",
        "colab_type": "code",
        "colab": {}
      },
      "cell_type": "code",
      "source": [
        ""
      ],
      "execution_count": 0,
      "outputs": []
    },
    {
      "metadata": {
        "id": "Elgh-IV2hDA4",
        "colab_type": "code",
        "colab": {}
      },
      "cell_type": "code",
      "source": [
        "\n",
        "# modify cfg/yolo-new.cfg\n"
      ],
      "execution_count": 0,
      "outputs": []
    },
    {
      "metadata": {
        "id": "QTS-3msRhn5R",
        "colab_type": "code",
        "colab": {}
      },
      "cell_type": "code",
      "source": [
        "mv /content/labels.txt /content/darkflow/"
      ],
      "execution_count": 0,
      "outputs": []
    },
    {
      "metadata": {
        "id": "J25FNdyRhq-r",
        "colab_type": "code",
        "outputId": "a6d47f21-8500-4b48-9d3e-6525a2763c48",
        "colab": {
          "base_uri": "https://localhost:8080/",
          "height": 119
        }
      },
      "cell_type": "code",
      "source": [
        "!ls -l cfg/ | grep yolo"
      ],
      "execution_count": 0,
      "outputs": [
        {
          "output_type": "stream",
          "text": [
            "-rw-r--r-- 1 root root 1404 Mar 24 07:06 tiny-yolo-4c.cfg\n",
            "-rw-r--r-- 1 root root 1438 Mar 24 07:06 tiny-yolo.cfg\n",
            "-rw-r--r-- 1 root root 1408 Mar 24 07:06 tiny-yolo-voc.cfg\n",
            "-rw-r--r-- 1 root root 2726 Mar 24 07:06 yolo.cfg\n",
            "-rw-r--r-- 1 root root 2724 Mar 24 07:13 yolo-new.cfg\n",
            "-rw-r--r-- 1 root root 2554 Mar 24 07:06 yolo-voc.cfg\n"
          ],
          "name": "stdout"
        }
      ]
    },
    {
      "metadata": {
        "id": "ZkHBOlf3jfmo",
        "colab_type": "code",
        "outputId": "ac135ad5-d481-433a-bc1a-1d0ed9a4bf92",
        "colab": {
          "base_uri": "https://localhost:8080/",
          "height": 2244
        }
      },
      "cell_type": "code",
      "source": [
        "!ls -l\n"
      ],
      "execution_count": 0,
      "outputs": [
        {
          "output_type": "stream",
          "text": [
            "total 466335\n",
            "-rw------- 1 root root    903337 Nov 25 15:55  15_boosting_3-16-2015.pdf\n",
            "-rw------- 1 root root     70466 Jul 30  2017  aayu22313.pdf\n",
            "drwx------ 2 root root      4096 Dec 28  2016 'Aayush Kubba(Education Documents)'\n",
            "-rw------- 1 root root     88576 Aug 24  2018 'AAYUSH KUBBA(EVF) (1).doc'\n",
            "-rw------- 1 root root     88576 Aug 24  2018 'AAYUSH KUBBA(EVF).doc'\n",
            "-rw------- 1 root root     52593 Mar 22 13:04  AayushKubba_PassportSize_Photo.pdf\n",
            "-rw------- 1 root root    189126 Oct 19  2016 'Aayush Kubba.pdf'\n",
            "-rw------- 1 root root    523922 Aug  8  2018 'Aayush Kubba(Resume)14.0.pdf'\n",
            "-rw------- 1 root root         1 Dec 14 07:57 'Aayush Kubba(Resume)18.0 (1).gdoc'\n",
            "-rw------- 1 root root         1 Dec 14 07:59 'Aayush Kubba(Resume)18.0.gdoc'\n",
            "-rw------- 1 root root     35632 Sep 10  2016 'Aayush Kubba(Resume) (1).docx'\n",
            "-rw------- 1 root root     52385 Feb 27  2016 'Aayush Kubba(Resume).docx'\n",
            "-rw------- 1 root root         1 Sep 10  2016 'Aayush Kubba(Resume).docx.gdoc'\n",
            "-rw------- 1 root root    109629 Jul 25  2017 'Aayush Kubba(Resume).pdf'\n",
            "-rw------- 1 root root   2547185 Sep 18  2018  Accenture-TechVision-2018-Tech-Trends-Report.pdf\n",
            "drwx------ 2 root root      4096 Feb 27 19:15 'AI International Group Resourses'\n",
            "drwx------ 2 root root      4096 Apr  8  2017 'AK Classes'\n",
            "-rw------- 1 root root   2835686 May  9  2015 'AK CLASSES.jpg'\n",
            "drwx------ 2 root root      4096 Aug 24  2018 'Ameriprise Documents'\n",
            "-rw------- 1 root root   5081211 Dec  5 03:50 'Analysis of financial time series Tsay.pdf'\n",
            "-rw------- 1 root root         1 Mar 24 11:54 'annotation (1).gdoc'\n",
            "-rw------- 1 root root         1 Mar 24 11:18  annotation.gdoc\n",
            "drwx------ 2 root root      4096 Dec 13  2016 'Aon Hewitt'\n",
            "drwx------ 2 root root      4096 Aug 24  2018 'Aon Hewitt Documents'\n",
            "drwx------ 2 root root      4096 Dec  5  2016 'Aon Hewitt Resingation Documents'\n",
            "-rw------- 1 root root         1 Oct 29 17:38 'Application format_Summers_LTFS (1).gsheet'\n",
            "-rw------- 1 root root     10624 Oct 29 17:33 'Application format_Summers_LTFS (1).xlsx'\n",
            "-rw------- 1 root root         1 Nov 20 17:27 'Application format_Summers_LTFS.gsheet'\n",
            "-rw------- 1 root root      7770 Nov 20 17:27 'Application format_Summers_LTFS.xlsx'\n",
            "-rw------- 1 root root         1 Mar 23 10:53 'Applying fuzzy match in SAS for name matching similarity.gdoc'\n",
            "-rw------- 1 root root         1 Nov 10 17:59  APST_HACK.gdoc\n",
            "dr-x------ 3 root root      4096 Oct 17  2017 'Aptitude Tests'\n",
            "-rw------- 1 root root        48 Mar 21 03:25  BackupRestoreTest.txt\n",
            "drwx------ 2 root root      4096 Mar 16 08:55  Bak\n",
            "-rw------- 1 root root    135721 Mar 21 03:25  calls-20190321085516.xml\n",
            "drwx------ 2 root root      4096 Jul 19  2018 'Colab Notebooks'\n",
            "-rw------- 1 root root         1 Nov 20 17:24 'Copy of Campus Selects Details (1).gsheet'\n",
            "-rw------- 1 root root         1 Nov 20 17:39 'Copy of Campus Selects Details.gsheet'\n",
            "-rw------- 1 root root     11002 Nov 20 17:24 'Copy of Campus Selects Details.xlsx'\n",
            "-rw------- 1 root root         1 Nov 16 08:27 'Credential Check Format.gsheet'\n",
            "-rw------- 1 root root         1 Nov 10 17:00 'DATA PROFILING FOR AGENTS.gdoc'\n",
            "-rw------- 1 root root         1 Jan 15 13:15 'Data Science Analyst Interview Questions.gform'\n",
            "-rw------- 1 root root         1 Jan 27 16:33 'Data Science Analyst Interview Questions (Responses).gsheet'\n",
            "-rw------- 1 root root         1 Oct 11 17:49  DBSCAN1.gslides\n",
            "dr-x------ 3 root root      4096 Feb 12  2018 'Deep Learning - Jaydip Sen'\n",
            "drwx------ 2 root root      4096 Mar  6 04:57  DL_CLASS\n",
            "drwx------ 2 root root      4096 Mar 22 04:40  DL_END_TERM_CLASS\n",
            "drwx------ 2 root root      4096 Sep 22  2016 'Documents '\n",
            "-rw------- 1 root root  18481549 Feb 24  2018  download.pdf\n",
            "drwx------ 2 root root      4096 Feb 11  2018 'DS EBooks shared by Priyanka'\n",
            "-rw------- 1 root root         1 Mar  3 17:21 'Estimation Problem- First Round Interview .gslides'\n",
            "-r-------- 1 root root     88576 Oct 22 09:26 'EVF - Aayush Kubba.doc'\n",
            "-rw------- 1 root root         1 Mar  6 12:21  GL04-FM-TAM-006_CSEF.gsheet\n",
            "-rw------- 1 root root     60416 Mar  6 12:01  GL04-FM-TAM-006_CSEF.xls\n",
            "drwx------ 2 root root      4096 Feb 16 20:05 'GOOGLE COLAB'\n",
            "drwx------ 2 root root      4096 Oct 19  2016 'Google Photos'\n",
            "-rw------- 1 root root         1 Aug  2  2018  Group2_APST.gslides\n",
            "-rw------- 1 root root         1 Jan 21 05:27  GSSTutorial.gdoc\n",
            "drwx------ 2 root root      4096 Jul 30  2017 'Income tax'\n",
            "-rw------- 1 root root         1 Mar  4 13:28 'Interview questions.gsheet'\n",
            "-rw------- 2 root root   2955833 May 14  2018 'introduction to bayesian statistics.pdf'\n",
            "drwx------ 2 root root      4096 May 30  2018 'ITR RETURN'\n",
            "-rw------- 1 root root   2053437 Jan  5 06:57 'Logistic Regression 2019-1.pptx'\n",
            "-rw------- 1 root root   2053437 Jan  5 06:57 'Logistic Regression 2019-2.pptx'\n",
            "-rw------- 1 root root   2053437 Jan  5 06:56 'Logistic Regression 2019.pptx'\n",
            "dr-x------ 3 root root      4096 Nov 19 06:21  MI_Materials\n",
            "-rw------- 1 root root         1 Aug 25  2018 'ML algorith for missing valu.gdoc'\n",
            "-rw------- 1 root root   7376514 Aug 25  2018 'ML algorith for missing valu.pdf'\n",
            "-rw------- 1 root root    122228 Mar  3  2018 'ML assignment.txt.docx'\n",
            "-rw------- 1 root root         1 Mar  3  2018 'ML assignment.txt.gdoc'\n",
            "dr-x------ 2 root root      4096 Jan 20 14:08  ModelDeployment2019\n",
            "-rw------- 1 root root    304475 Mar  3 16:52 'New Doc 2019-03-03 12.41.27_1.jpg'\n",
            "-rw------- 1 root root    250586 Mar  3 16:52 'New Doc 2019-03-03 12.41.27_2.jpg'\n",
            "-rw------- 1 root root    212958 Mar  3 16:52 'New Doc 2019-03-03 12.41.27_3.jpg'\n",
            "-rw------- 1 root root    304041 Mar  3 16:52 'New Doc 2019-03-03 12.41.27_4.jpg'\n",
            "-rw------- 1 root root    177818 Mar  3 16:52 'New Doc 2019-03-03 12.41.27_5.jpg'\n",
            "-rw------- 1 root root    256490 Mar  7 06:19 'New Praxis Marksheet .pdf'\n",
            "drwx------ 2 root root      4096 Sep  1  2018  NPTEL\n",
            "-rw------- 1 root root         7 Mar 24 11:55  one_label.txt\n",
            "drwx------ 2 root root      4096 Nov 17 18:36  OpenCv\n",
            "-rw------- 1 root root    235009 Aug 10  2018 'PCA and SVD material.pdf'\n",
            "-r-------- 1 root root         1 Jan 15  2018 'Pierian Data Inc. Data Science Career Guide Course Guidebook.gdoc'\n",
            "drwx------ 2 root root      4096 Jul 19  2018 'Praxis Business Analytics'\n",
            "drwx------ 2 root root      4096 May 30  2018 'Praxis Documents and mails'\n",
            "-rw------- 1 root root         1 Jan 15 13:02 'Praxis Interview Questions.gsheet'\n",
            "-rw------- 1 root root    290322 Jan  4 15:34  pump_submission.csv\n",
            "-rw------- 1 root root         1 Jan  4 15:34  pump_submission.gsheet\n",
            "-rw------- 1 root root  34764434 Feb 11  2018  Python_Machine_Learning_Sebastian_Raschka.pdf\n",
            "drwx------ 2 root root      4096 Aug 18  2018 'Python Notebooks for learing'\n",
            "drwx------ 2 root root      4096 Mar  6 15:13  Recipts\n",
            "-rw------- 1 root root    219264 Mar  7 06:07 'Relieving letter-Aayush Kubba.pdf'\n",
            "drwx------ 2 root root      4096 Aug  2  2015  Resume\n",
            "drwx------ 2 root root      4096 May 18  2016 'Resume (1)'\n",
            "drwx------ 2 root root      4096 May 30  2018 'RSA Documents'\n",
            "-rw------- 1 root root         1 Mar 23 09:03 'SAS Certification Prep Guide.gdoc'\n",
            "drwx------ 2 root root      4096 Sep  9  2018 'SAS Classes'\n",
            "drwx------ 2 root root      4096 Sep  9  2018 'SAS Files'\n",
            "drwx------ 2 root root      4096 Feb 20  2016 'Sas weekend '\n",
            "drwx------ 2 root root      4096 May  2  2015 'Scanned Bills'\n",
            "-rw------- 2 root root   1855705 Nov  1 07:12  simpleNN_class.ipynb\n",
            "-rw------- 1 root root   4035303 Mar 21 03:26  sms-20190321085516.xml\n",
            "-rw------- 1 root root    133437 Jan  7 08:27  sub_11.csv\n",
            "-rw------- 1 root root    394258 Jan  7 08:30  sub_13.csv\n",
            "-rw------- 1 root root    224684 Jan  7 06:50  sub_1.csv\n",
            "-rw------- 1 root root    223958 Jan  7 07:04  sub_2.csv\n",
            "-rw------- 1 root root    234806 Jan  7 07:55  sub_3.csv\n",
            "-rw------- 1 root root    398382 Jan  7 07:58  sub_4.csv\n",
            "-rw------- 1 root root    398382 Jan  7 08:07  sub_5.csv\n",
            "-rw------- 1 root root    399110 Jan  7 08:08  sub_6.csv\n",
            "-rw------- 1 root root    399287 Jan  7 08:08  sub_7.csv\n",
            "-rw------- 1 root root     80006 Jan  7 08:10  sub_8.csv\n",
            "-rw------- 1 root root    382988 Jan  7 08:20 'sub_9 (1).csv'\n",
            "-rw------- 1 root root    382988 Jan  7 08:16  sub_9.csv\n",
            "drwx------ 2 root root      4096 Feb 27 21:40  TEST\n",
            "-rw------- 1 root root   1133645 Sep 29 06:36 'The use of KNN for missing values – Towards Data Science.pdf'\n",
            "drwx------ 2 root root      4096 Feb 27 21:39  TRAIN\n",
            "-r-------- 1 root root 376553787 Oct  5 10:45 'train-scene classification.zip'\n",
            "-rw------- 1 root root         1 Mar 22 19:31 'Untitled document (1).gdoc'\n",
            "-rw------- 1 root root         1 Mar 22 06:26 'Untitled document (2).gdoc'\n",
            "-rw------- 1 root root         1 Feb  4 14:25 'Untitled document.gdoc'\n",
            "-rw------- 1 root root         1 Mar 23 03:09 'Untitled presentation.gslides'\n",
            "-rw------- 1 root root         1 Nov 10 13:38 'Untitled spreadsheet.gsheet'\n",
            "drwx------ 2 root root      4096 Aug  7  2017  upx\n",
            "-rw------- 1 root root   5091303 Mar 14 15:50 'Versant Briefing.m4a'\n",
            "-rw------- 1 root root         1 Feb 12 12:21 'Weapon Detection Capstone Project(Write-Up).gdoc'\n",
            "drwx------ 2 root root      4096 Mar 22 09:41  WeaponS\n",
            "drwx------ 2 root root      4096 Mar 24 10:39  WeaponS_bbox\n",
            "drwx------ 2 root root      4096 Mar 24 07:49  Weapon_Shrink\n",
            "-rw------- 1 root root         1 Mar 12 09:41 'Web Analytics Insights from Salt n Soap.gslides'\n",
            "drwx------ 2 root root      4096 Mar 14 18:19  YOLO\n"
          ],
          "name": "stdout"
        }
      ]
    },
    {
      "metadata": {
        "id": "n8INEfyCjnbj",
        "colab_type": "code",
        "outputId": "202f350b-c8c1-4375-abca-61d6265eb4b6",
        "colab": {
          "base_uri": "https://localhost:8080/",
          "height": 34
        }
      },
      "cell_type": "code",
      "source": [
        "cd /content/darkflow"
      ],
      "execution_count": 0,
      "outputs": [
        {
          "output_type": "stream",
          "text": [
            "/content/darkflow\n"
          ],
          "name": "stdout"
        }
      ]
    },
    {
      "metadata": {
        "id": "ELqKgrn4p_a2",
        "colab_type": "text"
      },
      "cell_type": "markdown",
      "source": [
        "# Create Label.txt file."
      ]
    },
    {
      "metadata": {
        "id": "Dus4Uj5Pp-9i",
        "colab_type": "code",
        "colab": {}
      },
      "cell_type": "code",
      "source": [
        ""
      ],
      "execution_count": 0,
      "outputs": []
    },
    {
      "metadata": {
        "id": "gWN-gPjpi2nn",
        "colab_type": "code",
        "colab": {}
      },
      "cell_type": "code",
      "source": [
        "!echo \"pistol\" >> one_label.txt\n"
      ],
      "execution_count": 0,
      "outputs": []
    },
    {
      "metadata": {
        "id": "9u8hJkeFjTcG",
        "colab_type": "code",
        "outputId": "4eada122-a631-412e-d36d-4bc4daa718d6",
        "colab": {
          "base_uri": "https://localhost:8080/",
          "height": 122
        }
      },
      "cell_type": "code",
      "source": [
        ""
      ],
      "execution_count": 0,
      "outputs": [
        {
          "output_type": "stream",
          "text": [
            "Go to this URL in a browser: https://accounts.google.com/o/oauth2/auth?client_id=947318989803-6bn6qk8qdgf4n4g3pfee6491hc0brc4i.apps.googleusercontent.com&redirect_uri=urn%3Aietf%3Awg%3Aoauth%3A2.0%3Aoob&scope=email%20https%3A%2F%2Fwww.googleapis.com%2Fauth%2Fdocs.test%20https%3A%2F%2Fwww.googleapis.com%2Fauth%2Fdrive%20https%3A%2F%2Fwww.googleapis.com%2Fauth%2Fdrive.photos.readonly%20https%3A%2F%2Fwww.googleapis.com%2Fauth%2Fpeopleapi.readonly&response_type=code\n",
            "\n",
            "Enter your authorization code:\n",
            "··········\n",
            "Mounted at /content/drive\n"
          ],
          "name": "stdout"
        }
      ]
    },
    {
      "metadata": {
        "id": "nABLBIO4kIKn",
        "colab_type": "code",
        "outputId": "4a3568f7-51d9-45ec-aba5-8817aed1e3c8",
        "colab": {
          "base_uri": "https://localhost:8080/",
          "height": 34
        }
      },
      "cell_type": "code",
      "source": [
        "import os\n",
        "os.curdir"
      ],
      "execution_count": 0,
      "outputs": [
        {
          "output_type": "execute_result",
          "data": {
            "text/plain": [
              "'.'"
            ]
          },
          "metadata": {
            "tags": []
          },
          "execution_count": 26
        }
      ]
    },
    {
      "metadata": {
        "id": "zlhVzOK1pkKB",
        "colab_type": "code",
        "outputId": "a0fe5d8e-0195-48f0-8665-c579b8996882",
        "colab": {
          "base_uri": "https://localhost:8080/",
          "height": 34
        }
      },
      "cell_type": "code",
      "source": [
        "cd /content/drive/My Drive"
      ],
      "execution_count": 0,
      "outputs": [
        {
          "output_type": "stream",
          "text": [
            "/content/drive/My Drive\n"
          ],
          "name": "stdout"
        }
      ]
    },
    {
      "metadata": {
        "id": "Ds0QGHNiqDyP",
        "colab_type": "text"
      },
      "cell_type": "markdown",
      "source": [
        "# Get weapons dataset in working directory or use from Google Drive"
      ]
    },
    {
      "metadata": {
        "id": "PHWfrpj6qDQW",
        "colab_type": "code",
        "colab": {}
      },
      "cell_type": "code",
      "source": [
        ""
      ],
      "execution_count": 0,
      "outputs": []
    },
    {
      "metadata": {
        "id": "bF23YVucpRKY",
        "colab_type": "code",
        "outputId": "bf3eea2a-a882-4751-ebf6-f7be62390fa0",
        "colab": {
          "base_uri": "https://localhost:8080/",
          "height": 68
        }
      },
      "cell_type": "code",
      "source": [
        "!ls -l | grep Weapon"
      ],
      "execution_count": 0,
      "outputs": [
        {
          "output_type": "stream",
          "text": [
            "-rw------- 1 root root         1 Feb 12 12:21 Weapon Detection Capstone Project(Write-Up).gdoc\n",
            "drwx------ 2 root root      4096 Mar 22 09:41 WeaponS\n",
            "drwx------ 2 root root      4096 Mar 22 09:41 WeaponS_bbox\n"
          ],
          "name": "stdout"
        }
      ]
    },
    {
      "metadata": {
        "id": "VTSu-UOQpzCw",
        "colab_type": "code",
        "colab": {}
      },
      "cell_type": "code",
      "source": [
        "!mkdir Weapon_Shrink"
      ],
      "execution_count": 0,
      "outputs": []
    },
    {
      "metadata": {
        "id": "baF6lVnhrL8M",
        "colab_type": "code",
        "colab": {}
      },
      "cell_type": "code",
      "source": [
        "!mkdir Weapon_Shrink/Image\n",
        "!mkdir Weapon_Shrink/Label"
      ],
      "execution_count": 0,
      "outputs": []
    },
    {
      "metadata": {
        "id": "r1BggIDrsdYB",
        "colab_type": "code",
        "outputId": "43cba34a-1257-4260-8e8d-18db8c04c3cc",
        "colab": {
          "base_uri": "https://localhost:8080/",
          "height": 34
        }
      },
      "cell_type": "code",
      "source": [
        "cd /content/drive/'My Drive'/WeaponS/"
      ],
      "execution_count": 0,
      "outputs": [
        {
          "output_type": "stream",
          "text": [
            "/content/drive/My Drive/WeaponS\n"
          ],
          "name": "stdout"
        }
      ]
    },
    {
      "metadata": {
        "id": "f7ApdA_Osjc5",
        "colab_type": "code",
        "colab": {}
      },
      "cell_type": "code",
      "source": [
        "mv /content/data.py /content/darkflow/darkflow/net/yolov2/"
      ],
      "execution_count": 0,
      "outputs": []
    },
    {
      "metadata": {
        "id": "KCxJCI4_32va",
        "colab_type": "code",
        "colab": {}
      },
      "cell_type": "code",
      "source": [
        ""
      ],
      "execution_count": 0,
      "outputs": []
    },
    {
      "metadata": {
        "id": "YAt-x6b_sjSU",
        "colab_type": "code",
        "outputId": "be33b52f-a548-43c3-aecd-fb7661aa948c",
        "colab": {
          "base_uri": "https://localhost:8080/",
          "height": 34
        }
      },
      "cell_type": "code",
      "source": [
        "cd .."
      ],
      "execution_count": 0,
      "outputs": [
        {
          "output_type": "stream",
          "text": [
            "/content/drive/My Drive\n"
          ],
          "name": "stdout"
        }
      ]
    },
    {
      "metadata": {
        "id": "4tAbyvGyszmJ",
        "colab_type": "code",
        "outputId": "9fdbc143-dc2c-42d1-89d9-dcbec27ec2ab",
        "colab": {
          "base_uri": "https://localhost:8080/",
          "height": 34
        }
      },
      "cell_type": "code",
      "source": [
        "cd /content/drive/'My Drive'/WeaponS_bbox"
      ],
      "execution_count": 0,
      "outputs": [
        {
          "output_type": "stream",
          "text": [
            "/content/drive/My Drive/WeaponS_bbox\n"
          ],
          "name": "stdout"
        }
      ]
    },
    {
      "metadata": {
        "id": "0fIRr9cys214",
        "colab_type": "code",
        "colab": {}
      },
      "cell_type": "code",
      "source": [
        "%mv"
      ],
      "execution_count": 0,
      "outputs": []
    },
    {
      "metadata": {
        "id": "MMIDd3DfrhRq",
        "colab_type": "code",
        "colab": {}
      },
      "cell_type": "code",
      "source": [
        "%cp /content/drive/'My Drive'/WeaponS_bbox/\"armas (\"{1..10}\")\".xml  /content/drive/'My Drive'/Weapon_Shrink/Label/"
      ],
      "execution_count": 0,
      "outputs": []
    },
    {
      "metadata": {
        "id": "QVFWE6iWsxT8",
        "colab_type": "code",
        "colab": {}
      },
      "cell_type": "code",
      "source": [
        "%cp \"armas (\"{1..10}\")\".jpg /content/drive/'My Drive'/Weapon_Shrink/Image"
      ],
      "execution_count": 0,
      "outputs": []
    },
    {
      "metadata": {
        "id": "lsfvI7QBuFHj",
        "colab_type": "code",
        "outputId": "db775723-cd0b-413e-e56c-68ad3620f86a",
        "colab": {
          "base_uri": "https://localhost:8080/",
          "height": 34
        }
      },
      "cell_type": "code",
      "source": [
        "cd /content/drive/My Drive/darkflow"
      ],
      "execution_count": 0,
      "outputs": [
        {
          "output_type": "stream",
          "text": [
            "/content/drive/My Drive/darkflow\n"
          ],
          "name": "stdout"
        }
      ]
    },
    {
      "metadata": {
        "id": "-sx7b9onIpqZ",
        "colab_type": "code",
        "outputId": "e79b291d-7fb7-48bb-b4be-80c52280e860",
        "colab": {
          "base_uri": "https://localhost:8080/",
          "height": 289
        }
      },
      "cell_type": "code",
      "source": [
        "ls -l"
      ],
      "execution_count": 0,
      "outputs": [
        {
          "output_type": "stream",
          "text": [
            "total 14911\n",
            "drwx------ 4 root root     4096 Mar 24 13:44 \u001b[0m\u001b[01;34mbuild\u001b[0m/\n",
            "drwx------ 4 root root     4096 Mar 24 13:44 \u001b[01;34mcfg\u001b[0m/\n",
            "drwx------ 7 root root     4096 Mar 24 13:44 \u001b[01;34mdarkflow\u001b[0m/\n",
            "drwx------ 2 root root     4096 Mar 24 13:44 \u001b[01;34mdarkflow.egg-info\u001b[0m/\n",
            "-rw------- 1 root root 14900940 Mar 24 13:46 demo.gif\n",
            "-rw------- 1 root root       94 Mar 24 13:44 flow\n",
            "drwx------ 2 root root     4096 Mar 24 13:44 \u001b[01;34mImage\u001b[0m/\n",
            "drwx------ 2 root root     4096 Mar 24 13:44 \u001b[01;34mLabel\u001b[0m/\n",
            "-rw------- 1 root root        6 Mar 24 13:44 labels.txt\n",
            "-rw------- 1 root root    35141 Mar 24 13:44 LICENSE\n",
            "-rw------- 1 root root   283380 Mar 24 13:46 preview.png\n",
            "-rw------- 1 root root    11539 Mar 24 13:44 README.md\n",
            "drwx------ 2 root root     4096 Mar 24 13:44 \u001b[01;34msample_img\u001b[0m/\n",
            "-rw------- 1 root root     2575 Mar 24 13:44 setup.py\n",
            "drwx------ 3 root root     4096 Mar 24 13:44 \u001b[01;34mtest\u001b[0m/\n"
          ],
          "name": "stdout"
        }
      ]
    },
    {
      "metadata": {
        "id": "dAjnDOf_JTW1",
        "colab_type": "code",
        "colab": {}
      },
      "cell_type": "code",
      "source": [
        "rm -r /content/darkflow"
      ],
      "execution_count": 0,
      "outputs": []
    },
    {
      "metadata": {
        "id": "6ibtwGOlJaJd",
        "colab_type": "code",
        "colab": {}
      },
      "cell_type": "code",
      "source": [
        "cp -r /content/drive/'My Drive'/darkflow  /content"
      ],
      "execution_count": 0,
      "outputs": []
    },
    {
      "metadata": {
        "id": "TF1fiKWbJqe4",
        "colab_type": "code",
        "outputId": "cfb2245e-d1a5-48b3-86e1-d1b230aa34ce",
        "colab": {
          "base_uri": "https://localhost:8080/",
          "height": 34
        }
      },
      "cell_type": "code",
      "source": [
        "cd /content/darkflow"
      ],
      "execution_count": 0,
      "outputs": [
        {
          "output_type": "stream",
          "text": [
            "/content/darkflow\n"
          ],
          "name": "stdout"
        }
      ]
    },
    {
      "metadata": {
        "id": "5glSLF6z5OQt",
        "colab_type": "code",
        "colab": {}
      },
      "cell_type": "code",
      "source": [
        "!cp -r /content/drive/'My Drive'/WeaponS_bbox/Weapon_Shrink  /content/darkflow/"
      ],
      "execution_count": 0,
      "outputs": []
    },
    {
      "metadata": {
        "id": "x2ZhePC6B6zh",
        "colab_type": "code",
        "colab": {}
      },
      "cell_type": "code",
      "source": [
        "!rm -r /content/darkflow/Weapon_Shrink"
      ],
      "execution_count": 0,
      "outputs": []
    },
    {
      "metadata": {
        "id": "hfjEURP19Ff2",
        "colab_type": "code",
        "colab": {}
      },
      "cell_type": "code",
      "source": [
        "mv /content/darkflow/darkflow/net/flow.py /content/darkflow/darkflow/net/flow_0.py"
      ],
      "execution_count": 0,
      "outputs": []
    },
    {
      "metadata": {
        "id": "YV8zeJZd87JZ",
        "colab_type": "code",
        "colab": {}
      },
      "cell_type": "code",
      "source": [
        "mv /content/predict.py   /content/darkflow/darkflow/net/yolov2/"
      ],
      "execution_count": 0,
      "outputs": []
    },
    {
      "metadata": {
        "id": "NmwWDCrtEnWp",
        "colab_type": "code",
        "colab": {}
      },
      "cell_type": "code",
      "source": [
        "mv /content/darkflow/darkflow/utils/im_transform.py  /content/darkflow/darkflow/utils/im_transform_new.py"
      ],
      "execution_count": 0,
      "outputs": []
    },
    {
      "metadata": {
        "id": "inyHjCQzEuO1",
        "colab_type": "code",
        "colab": {}
      },
      "cell_type": "code",
      "source": [
        "mv /content/darkflow/darkflow/utils/im_transform_0.py  /content/darkflow/darkflow/utils/im_transform.py"
      ],
      "execution_count": 0,
      "outputs": []
    },
    {
      "metadata": {
        "id": "nNesJUfDqNPO",
        "colab_type": "text"
      },
      "cell_type": "markdown",
      "source": [
        "# Training the model"
      ]
    },
    {
      "metadata": {
        "id": "zY0-p4yxqM7j",
        "colab_type": "code",
        "colab": {}
      },
      "cell_type": "code",
      "source": [
        ""
      ],
      "execution_count": 0,
      "outputs": []
    },
    {
      "metadata": {
        "id": "_yuGasNIjtjb",
        "colab_type": "code",
        "outputId": "986fb42f-27c9-4ce2-e642-645b3c4e3ddf",
        "colab": {
          "base_uri": "https://localhost:8080/",
          "height": 4355
        }
      },
      "cell_type": "code",
      "source": [
        "!python3 flow --model cfg/yolo-new.cfg \\\n",
        "    --train --trainer adam \\\n",
        "    --dataset \"/content/darkflow/Weapon_Shrink/Image/\" \\\n",
        "    --annotation \"/content/darkflow/Weapon_Shrink/Label/\"\\\n",
        "    --gpu 0.8\\\n",
        "    --epoch 5\\\n",
        "    --threshold 0.5\n",
        "\n",
        "\n",
        "\n",
        "# !python3 flow --model cfg/yolo-new.cfg  --train --trainer adam  --dataset \"/Image\" --annotation \"/Label\"\n"
      ],
      "execution_count": 0,
      "outputs": [
        {
          "output_type": "stream",
          "text": [
            "\n",
            "Parsing cfg/yolo-new.cfg\n",
            "Loading None ...\n",
            "Finished in 0.00012683868408203125s\n",
            "\n",
            "Building net ...\n",
            "Source | Train? | Layer description                | Output size\n",
            "-------+--------+----------------------------------+---------------\n",
            "WARNING:tensorflow:From /usr/local/lib/python3.6/dist-packages/tensorflow/python/framework/op_def_library.py:263: colocate_with (from tensorflow.python.framework.ops) is deprecated and will be removed in a future version.\n",
            "Instructions for updating:\n",
            "Colocations handled automatically by placer.\n",
            "       |        | input                            | (?, 608, 608, 3)\n",
            " Init  |  Yep!  | conv 3x3p1_1  +bnorm  leaky      | (?, 608, 608, 32)\n",
            " Load  |  Yep!  | maxp 2x2p0_2                     | (?, 304, 304, 32)\n",
            " Init  |  Yep!  | conv 3x3p1_1  +bnorm  leaky      | (?, 304, 304, 64)\n",
            " Load  |  Yep!  | maxp 2x2p0_2                     | (?, 152, 152, 64)\n",
            " Init  |  Yep!  | conv 3x3p1_1  +bnorm  leaky      | (?, 152, 152, 128)\n",
            " Init  |  Yep!  | conv 1x1p0_1  +bnorm  leaky      | (?, 152, 152, 64)\n",
            " Init  |  Yep!  | conv 3x3p1_1  +bnorm  leaky      | (?, 152, 152, 128)\n",
            " Load  |  Yep!  | maxp 2x2p0_2                     | (?, 76, 76, 128)\n",
            " Init  |  Yep!  | conv 3x3p1_1  +bnorm  leaky      | (?, 76, 76, 256)\n",
            " Init  |  Yep!  | conv 1x1p0_1  +bnorm  leaky      | (?, 76, 76, 128)\n",
            " Init  |  Yep!  | conv 3x3p1_1  +bnorm  leaky      | (?, 76, 76, 256)\n",
            " Load  |  Yep!  | maxp 2x2p0_2                     | (?, 38, 38, 256)\n",
            " Init  |  Yep!  | conv 3x3p1_1  +bnorm  leaky      | (?, 38, 38, 512)\n",
            " Init  |  Yep!  | conv 1x1p0_1  +bnorm  leaky      | (?, 38, 38, 256)\n",
            " Init  |  Yep!  | conv 3x3p1_1  +bnorm  leaky      | (?, 38, 38, 512)\n",
            " Init  |  Yep!  | conv 1x1p0_1  +bnorm  leaky      | (?, 38, 38, 256)\n",
            " Init  |  Yep!  | conv 3x3p1_1  +bnorm  leaky      | (?, 38, 38, 512)\n",
            " Load  |  Yep!  | maxp 2x2p0_2                     | (?, 19, 19, 512)\n",
            " Init  |  Yep!  | conv 3x3p1_1  +bnorm  leaky      | (?, 19, 19, 1024)\n",
            " Init  |  Yep!  | conv 1x1p0_1  +bnorm  leaky      | (?, 19, 19, 512)\n",
            " Init  |  Yep!  | conv 3x3p1_1  +bnorm  leaky      | (?, 19, 19, 1024)\n",
            " Init  |  Yep!  | conv 1x1p0_1  +bnorm  leaky      | (?, 19, 19, 512)\n",
            " Init  |  Yep!  | conv 3x3p1_1  +bnorm  leaky      | (?, 19, 19, 1024)\n",
            " Init  |  Yep!  | conv 3x3p1_1  +bnorm  leaky      | (?, 19, 19, 1024)\n",
            " Init  |  Yep!  | conv 3x3p1_1  +bnorm  leaky      | (?, 19, 19, 1024)\n",
            " Load  |  Yep!  | concat [16]                      | (?, 38, 38, 512)\n",
            " Init  |  Yep!  | conv 1x1p0_1  +bnorm  leaky      | (?, 38, 38, 64)\n",
            " Load  |  Yep!  | local flatten 2x2                | (?, 19, 19, 256)\n",
            " Load  |  Yep!  | concat [27, 24]                  | (?, 19, 19, 1280)\n",
            " Init  |  Yep!  | conv 3x3p1_1  +bnorm  leaky      | (?, 19, 19, 1024)\n",
            " Init  |  Yep!  | conv 1x1p0_1    linear           | (?, 19, 19, 30)\n",
            "-------+--------+----------------------------------+---------------\n",
            "GPU mode with 1.0 usage\n",
            "cfg/yolo-new.cfg loss hyper-parameters:\n",
            "\tH       = 19\n",
            "\tW       = 19\n",
            "\tbox     = 5\n",
            "\tclasses = 1\n",
            "\tscales  = [1.0, 5.0, 1.0, 1.0]\n",
            "WARNING:tensorflow:From /content/darkflow/darkflow/net/yolov2/train.py:87: to_float (from tensorflow.python.ops.math_ops) is deprecated and will be removed in a future version.\n",
            "Instructions for updating:\n",
            "Use tf.cast instead.\n",
            "Building cfg/yolo-new.cfg loss\n",
            "Building cfg/yolo-new.cfg train op\n",
            "WARNING:tensorflow:From /usr/local/lib/python3.6/dist-packages/tensorflow/python/ops/math_ops.py:3066: to_int32 (from tensorflow.python.ops.math_ops) is deprecated and will be removed in a future version.\n",
            "Instructions for updating:\n",
            "Use tf.cast instead.\n",
            "2019-03-25 13:44:27.963346: I tensorflow/core/platform/profile_utils/cpu_utils.cc:94] CPU Frequency: 2300000000 Hz\n",
            "2019-03-25 13:44:27.963779: I tensorflow/compiler/xla/service/service.cc:150] XLA service 0x286f440 executing computations on platform Host. Devices:\n",
            "2019-03-25 13:44:27.963819: I tensorflow/compiler/xla/service/service.cc:158]   StreamExecutor device (0): <undefined>, <undefined>\n",
            "2019-03-25 13:44:28.071572: I tensorflow/stream_executor/cuda/cuda_gpu_executor.cc:998] successful NUMA node read from SysFS had negative value (-1), but there must be at least one NUMA node, so returning NUMA node zero\n",
            "2019-03-25 13:44:28.072209: I tensorflow/compiler/xla/service/service.cc:150] XLA service 0x286f020 executing computations on platform CUDA. Devices:\n",
            "2019-03-25 13:44:28.072325: I tensorflow/compiler/xla/service/service.cc:158]   StreamExecutor device (0): Tesla K80, Compute Capability 3.7\n",
            "2019-03-25 13:44:28.072767: I tensorflow/core/common_runtime/gpu/gpu_device.cc:1433] Found device 0 with properties: \n",
            "name: Tesla K80 major: 3 minor: 7 memoryClockRate(GHz): 0.8235\n",
            "pciBusID: 0000:00:04.0\n",
            "totalMemory: 11.17GiB freeMemory: 11.10GiB\n",
            "2019-03-25 13:44:28.072801: I tensorflow/core/common_runtime/gpu/gpu_device.cc:1512] Adding visible gpu devices: 0\n",
            "2019-03-25 13:44:28.387358: I tensorflow/core/common_runtime/gpu/gpu_device.cc:984] Device interconnect StreamExecutor with strength 1 edge matrix:\n",
            "2019-03-25 13:44:28.387433: I tensorflow/core/common_runtime/gpu/gpu_device.cc:990]      0 \n",
            "2019-03-25 13:44:28.387475: I tensorflow/core/common_runtime/gpu/gpu_device.cc:1003] 0:   N \n",
            "2019-03-25 13:44:28.387790: W tensorflow/core/common_runtime/gpu/gpu_bfc_allocator.cc:42] Overriding allow_growth setting because the TF_FORCE_GPU_ALLOW_GROWTH environment variable is set. Original config value was 0.\n",
            "2019-03-25 13:44:28.387870: I tensorflow/core/common_runtime/gpu/gpu_device.cc:1115] Created TensorFlow device (/job:localhost/replica:0/task:0/device:GPU:0 with 11441 MB memory) -> physical GPU (device: 0, name: Tesla K80, pci bus id: 0000:00:04.0, compute capability: 3.7)\n",
            "Finished in 12.716789484024048s\n",
            "\n",
            "Enter training ...\n",
            "\n",
            "cfg/yolo-new.cfg parsing /content/darkflow/Weapon_Shrink/Label/\n",
            "Parsing for ['pistol'] \n",
            "[====================>]100%  armas (7).xml\n",
            "Statistics:\n",
            "pistol: 13\n",
            "Dataset size: 10\n",
            "Dataset of 10 instance(s)\n",
            "/content/darkflow/Weapon_Shrink/Image/\n",
            "armas (1).jpg\n",
            "path: /content/darkflow/Weapon_Shrink/Image/armas (1).jpg\n",
            "/content/darkflow/Weapon_Shrink/Image/\n",
            "armas (3).jpg\n",
            "path: /content/darkflow/Weapon_Shrink/Image/armas (3).jpg\n",
            "/content/darkflow/Weapon_Shrink/Image/\n",
            "armas (8).jpg\n",
            "path: /content/darkflow/Weapon_Shrink/Image/armas (8).jpg\n",
            "/content/darkflow/Weapon_Shrink/Image/\n",
            "armas (7).jpg\n",
            "path: /content/darkflow/Weapon_Shrink/Image/armas (7).jpg\n",
            "/content/darkflow/Weapon_Shrink/Image/\n",
            "armas (6).jpg\n",
            "path: /content/darkflow/Weapon_Shrink/Image/armas (6).jpg\n",
            "/content/darkflow/Weapon_Shrink/Image/\n",
            "armas (4).jpg\n",
            "path: /content/darkflow/Weapon_Shrink/Image/armas (4).jpg\n",
            "/content/darkflow/Weapon_Shrink/Image/\n",
            "armas (10).jpg\n",
            "path: /content/darkflow/Weapon_Shrink/Image/armas (10).jpg\n",
            "/content/darkflow/Weapon_Shrink/Image/\n",
            "armas (2).jpg\n",
            "path: /content/darkflow/Weapon_Shrink/Image/armas (2).jpg\n",
            "/content/darkflow/Weapon_Shrink/Image/\n",
            "armas (5).jpg\n",
            "path: /content/darkflow/Weapon_Shrink/Image/armas (5).jpg\n",
            "/content/darkflow/Weapon_Shrink/Image/\n",
            "armas (9).jpg\n",
            "path: /content/darkflow/Weapon_Shrink/Image/armas (9).jpg\n",
            "Training statistics: \n",
            "\tLearning rate : 1e-05\n",
            "\tBatch size    : 10\n",
            "\tEpoch number  : 5\n",
            "\tBackup every  : 2000\n",
            "2019-03-25 13:44:37.043520: E tensorflow/stream_executor/cuda/cuda_driver.cc:806] failed to allocate 3.17G (3405971456 bytes) from device: CUDA_ERROR_OUT_OF_MEMORY: out of memory\n",
            "step 1 - loss 226.05026245117188 - moving ave loss 226.05026245117188\n",
            "Finish 1 epoch(es)\n",
            "/content/darkflow/Weapon_Shrink/Image/\n",
            "armas (2).jpg\n",
            "path: /content/darkflow/Weapon_Shrink/Image/armas (2).jpg\n",
            "/content/darkflow/Weapon_Shrink/Image/\n",
            "armas (8).jpg\n",
            "path: /content/darkflow/Weapon_Shrink/Image/armas (8).jpg\n",
            "/content/darkflow/Weapon_Shrink/Image/\n",
            "armas (4).jpg\n",
            "path: /content/darkflow/Weapon_Shrink/Image/armas (4).jpg\n",
            "/content/darkflow/Weapon_Shrink/Image/\n",
            "armas (9).jpg\n",
            "path: /content/darkflow/Weapon_Shrink/Image/armas (9).jpg\n",
            "/content/darkflow/Weapon_Shrink/Image/\n",
            "armas (6).jpg\n",
            "path: /content/darkflow/Weapon_Shrink/Image/armas (6).jpg\n",
            "/content/darkflow/Weapon_Shrink/Image/\n",
            "armas (5).jpg\n",
            "path: /content/darkflow/Weapon_Shrink/Image/armas (5).jpg\n",
            "/content/darkflow/Weapon_Shrink/Image/\n",
            "armas (3).jpg\n",
            "path: /content/darkflow/Weapon_Shrink/Image/armas (3).jpg\n",
            "/content/darkflow/Weapon_Shrink/Image/\n",
            "armas (1).jpg\n",
            "path: /content/darkflow/Weapon_Shrink/Image/armas (1).jpg\n",
            "/content/darkflow/Weapon_Shrink/Image/\n",
            "armas (10).jpg\n",
            "path: /content/darkflow/Weapon_Shrink/Image/armas (10).jpg\n",
            "/content/darkflow/Weapon_Shrink/Image/\n",
            "armas (7).jpg\n",
            "path: /content/darkflow/Weapon_Shrink/Image/armas (7).jpg\n",
            "step 2 - loss 225.9689483642578 - moving ave loss 226.04213104248046\n",
            "Finish 2 epoch(es)\n",
            "/content/darkflow/Weapon_Shrink/Image/\n",
            "armas (5).jpg\n",
            "path: /content/darkflow/Weapon_Shrink/Image/armas (5).jpg\n",
            "/content/darkflow/Weapon_Shrink/Image/\n",
            "armas (4).jpg\n",
            "path: /content/darkflow/Weapon_Shrink/Image/armas (4).jpg\n",
            "/content/darkflow/Weapon_Shrink/Image/\n",
            "armas (10).jpg\n",
            "path: /content/darkflow/Weapon_Shrink/Image/armas (10).jpg\n",
            "/content/darkflow/Weapon_Shrink/Image/\n",
            "armas (7).jpg\n",
            "path: /content/darkflow/Weapon_Shrink/Image/armas (7).jpg\n",
            "/content/darkflow/Weapon_Shrink/Image/\n",
            "armas (3).jpg\n",
            "path: /content/darkflow/Weapon_Shrink/Image/armas (3).jpg\n",
            "/content/darkflow/Weapon_Shrink/Image/\n",
            "armas (1).jpg\n",
            "path: /content/darkflow/Weapon_Shrink/Image/armas (1).jpg\n",
            "/content/darkflow/Weapon_Shrink/Image/\n",
            "armas (8).jpg\n",
            "path: /content/darkflow/Weapon_Shrink/Image/armas (8).jpg\n",
            "/content/darkflow/Weapon_Shrink/Image/\n",
            "armas (2).jpg\n",
            "path: /content/darkflow/Weapon_Shrink/Image/armas (2).jpg\n",
            "/content/darkflow/Weapon_Shrink/Image/\n",
            "armas (9).jpg\n",
            "path: /content/darkflow/Weapon_Shrink/Image/armas (9).jpg\n",
            "/content/darkflow/Weapon_Shrink/Image/\n",
            "armas (6).jpg\n",
            "path: /content/darkflow/Weapon_Shrink/Image/armas (6).jpg\n",
            "step 3 - loss 225.8833465576172 - moving ave loss 226.02625259399414\n",
            "Finish 3 epoch(es)\n",
            "/content/darkflow/Weapon_Shrink/Image/\n",
            "armas (10).jpg\n",
            "path: /content/darkflow/Weapon_Shrink/Image/armas (10).jpg\n",
            "/content/darkflow/Weapon_Shrink/Image/\n",
            "armas (9).jpg\n",
            "path: /content/darkflow/Weapon_Shrink/Image/armas (9).jpg\n",
            "/content/darkflow/Weapon_Shrink/Image/\n",
            "armas (8).jpg\n",
            "path: /content/darkflow/Weapon_Shrink/Image/armas (8).jpg\n",
            "/content/darkflow/Weapon_Shrink/Image/\n",
            "armas (6).jpg\n",
            "path: /content/darkflow/Weapon_Shrink/Image/armas (6).jpg\n",
            "/content/darkflow/Weapon_Shrink/Image/\n",
            "armas (4).jpg\n",
            "path: /content/darkflow/Weapon_Shrink/Image/armas (4).jpg\n",
            "/content/darkflow/Weapon_Shrink/Image/\n",
            "armas (5).jpg\n",
            "path: /content/darkflow/Weapon_Shrink/Image/armas (5).jpg\n",
            "/content/darkflow/Weapon_Shrink/Image/\n",
            "armas (1).jpg\n",
            "path: /content/darkflow/Weapon_Shrink/Image/armas (1).jpg\n",
            "/content/darkflow/Weapon_Shrink/Image/\n",
            "armas (2).jpg\n",
            "path: /content/darkflow/Weapon_Shrink/Image/armas (2).jpg\n",
            "/content/darkflow/Weapon_Shrink/Image/\n",
            "armas (7).jpg\n",
            "path: /content/darkflow/Weapon_Shrink/Image/armas (7).jpg\n",
            "/content/darkflow/Weapon_Shrink/Image/\n",
            "armas (3).jpg\n",
            "path: /content/darkflow/Weapon_Shrink/Image/armas (3).jpg\n",
            "step 4 - loss 225.84585571289062 - moving ave loss 226.0082129058838\n",
            "Finish 4 epoch(es)\n",
            "/content/darkflow/Weapon_Shrink/Image/\n",
            "armas (3).jpg\n",
            "path: /content/darkflow/Weapon_Shrink/Image/armas (3).jpg\n",
            "/content/darkflow/Weapon_Shrink/Image/\n",
            "armas (9).jpg\n",
            "path: /content/darkflow/Weapon_Shrink/Image/armas (9).jpg\n",
            "/content/darkflow/Weapon_Shrink/Image/\n",
            "armas (8).jpg\n",
            "path: /content/darkflow/Weapon_Shrink/Image/armas (8).jpg\n",
            "/content/darkflow/Weapon_Shrink/Image/\n",
            "armas (5).jpg\n",
            "path: /content/darkflow/Weapon_Shrink/Image/armas (5).jpg\n",
            "/content/darkflow/Weapon_Shrink/Image/\n",
            "armas (4).jpg\n",
            "path: /content/darkflow/Weapon_Shrink/Image/armas (4).jpg\n",
            "/content/darkflow/Weapon_Shrink/Image/\n",
            "armas (1).jpg\n",
            "path: /content/darkflow/Weapon_Shrink/Image/armas (1).jpg\n",
            "/content/darkflow/Weapon_Shrink/Image/\n",
            "armas (6).jpg\n",
            "path: /content/darkflow/Weapon_Shrink/Image/armas (6).jpg\n",
            "/content/darkflow/Weapon_Shrink/Image/\n",
            "armas (7).jpg\n",
            "path: /content/darkflow/Weapon_Shrink/Image/armas (7).jpg\n",
            "/content/darkflow/Weapon_Shrink/Image/\n",
            "armas (10).jpg\n",
            "path: /content/darkflow/Weapon_Shrink/Image/armas (10).jpg\n",
            "/content/darkflow/Weapon_Shrink/Image/\n",
            "armas (2).jpg\n",
            "path: /content/darkflow/Weapon_Shrink/Image/armas (2).jpg\n",
            "step 5 - loss 225.7720184326172 - moving ave loss 225.98459345855713\n",
            "Finish 5 epoch(es)\n",
            "Checkpoint at step 5\n",
            "Training finished, exit.\n"
          ],
          "name": "stdout"
        }
      ]
    },
    {
      "metadata": {
        "id": "o1s-3j3Rdc0B",
        "colab_type": "code",
        "outputId": "886578a0-39a7-45b6-bd4e-551c9a898d9d",
        "colab": {
          "base_uri": "https://localhost:8080/",
          "height": 1244
        }
      },
      "cell_type": "code",
      "source": [
        "!python3 flow --model cfg/yolo-new.cfg \\\n",
        "    --imgdir \"/content/darkflow/Weapon_Shrink/Image/\" \\\n",
        "    --load -1 \\\n",
        "    --gpu 1.0\\\n",
        "    --json True\n"
      ],
      "execution_count": 0,
      "outputs": [
        {
          "output_type": "stream",
          "text": [
            "\n",
            "Parsing cfg/yolo-new.cfg\n",
            "Loading None ...\n",
            "Finished in 0.00015497207641601562s\n",
            "\n",
            "Building net ...\n",
            "Source | Train? | Layer description                | Output size\n",
            "-------+--------+----------------------------------+---------------\n",
            "WARNING:tensorflow:From /usr/local/lib/python3.6/dist-packages/tensorflow/python/framework/op_def_library.py:263: colocate_with (from tensorflow.python.framework.ops) is deprecated and will be removed in a future version.\n",
            "Instructions for updating:\n",
            "Colocations handled automatically by placer.\n",
            "       |        | input                            | (?, 608, 608, 3)\n",
            " Init  |  Yep!  | conv 3x3p1_1  +bnorm  leaky      | (?, 608, 608, 32)\n",
            " Load  |  Yep!  | maxp 2x2p0_2                     | (?, 304, 304, 32)\n",
            " Init  |  Yep!  | conv 3x3p1_1  +bnorm  leaky      | (?, 304, 304, 64)\n",
            " Load  |  Yep!  | maxp 2x2p0_2                     | (?, 152, 152, 64)\n",
            " Init  |  Yep!  | conv 3x3p1_1  +bnorm  leaky      | (?, 152, 152, 128)\n",
            " Init  |  Yep!  | conv 1x1p0_1  +bnorm  leaky      | (?, 152, 152, 64)\n",
            " Init  |  Yep!  | conv 3x3p1_1  +bnorm  leaky      | (?, 152, 152, 128)\n",
            " Load  |  Yep!  | maxp 2x2p0_2                     | (?, 76, 76, 128)\n",
            " Init  |  Yep!  | conv 3x3p1_1  +bnorm  leaky      | (?, 76, 76, 256)\n",
            " Init  |  Yep!  | conv 1x1p0_1  +bnorm  leaky      | (?, 76, 76, 128)\n",
            " Init  |  Yep!  | conv 3x3p1_1  +bnorm  leaky      | (?, 76, 76, 256)\n",
            " Load  |  Yep!  | maxp 2x2p0_2                     | (?, 38, 38, 256)\n",
            " Init  |  Yep!  | conv 3x3p1_1  +bnorm  leaky      | (?, 38, 38, 512)\n",
            " Init  |  Yep!  | conv 1x1p0_1  +bnorm  leaky      | (?, 38, 38, 256)\n",
            " Init  |  Yep!  | conv 3x3p1_1  +bnorm  leaky      | (?, 38, 38, 512)\n",
            " Init  |  Yep!  | conv 1x1p0_1  +bnorm  leaky      | (?, 38, 38, 256)\n",
            " Init  |  Yep!  | conv 3x3p1_1  +bnorm  leaky      | (?, 38, 38, 512)\n",
            " Load  |  Yep!  | maxp 2x2p0_2                     | (?, 19, 19, 512)\n",
            " Init  |  Yep!  | conv 3x3p1_1  +bnorm  leaky      | (?, 19, 19, 1024)\n",
            " Init  |  Yep!  | conv 1x1p0_1  +bnorm  leaky      | (?, 19, 19, 512)\n",
            " Init  |  Yep!  | conv 3x3p1_1  +bnorm  leaky      | (?, 19, 19, 1024)\n",
            " Init  |  Yep!  | conv 1x1p0_1  +bnorm  leaky      | (?, 19, 19, 512)\n",
            " Init  |  Yep!  | conv 3x3p1_1  +bnorm  leaky      | (?, 19, 19, 1024)\n",
            " Init  |  Yep!  | conv 3x3p1_1  +bnorm  leaky      | (?, 19, 19, 1024)\n",
            " Init  |  Yep!  | conv 3x3p1_1  +bnorm  leaky      | (?, 19, 19, 1024)\n",
            " Load  |  Yep!  | concat [16]                      | (?, 38, 38, 512)\n",
            " Init  |  Yep!  | conv 1x1p0_1  +bnorm  leaky      | (?, 38, 38, 64)\n",
            " Load  |  Yep!  | local flatten 2x2                | (?, 19, 19, 256)\n",
            " Load  |  Yep!  | concat [27, 24]                  | (?, 19, 19, 1280)\n",
            " Init  |  Yep!  | conv 3x3p1_1  +bnorm  leaky      | (?, 19, 19, 1024)\n",
            " Init  |  Yep!  | conv 1x1p0_1    linear           | (?, 19, 19, 30)\n",
            "-------+--------+----------------------------------+---------------\n",
            "GPU mode with 1.0 usage\n",
            "2019-03-25 13:47:47.712430: I tensorflow/core/platform/profile_utils/cpu_utils.cc:94] CPU Frequency: 2300000000 Hz\n",
            "2019-03-25 13:47:47.712776: I tensorflow/compiler/xla/service/service.cc:150] XLA service 0x27ff860 executing computations on platform Host. Devices:\n",
            "2019-03-25 13:47:47.712815: I tensorflow/compiler/xla/service/service.cc:158]   StreamExecutor device (0): <undefined>, <undefined>\n",
            "2019-03-25 13:47:47.813940: I tensorflow/stream_executor/cuda/cuda_gpu_executor.cc:998] successful NUMA node read from SysFS had negative value (-1), but there must be at least one NUMA node, so returning NUMA node zero\n",
            "2019-03-25 13:47:47.814617: I tensorflow/compiler/xla/service/service.cc:150] XLA service 0x27ff440 executing computations on platform CUDA. Devices:\n",
            "2019-03-25 13:47:47.814655: I tensorflow/compiler/xla/service/service.cc:158]   StreamExecutor device (0): Tesla K80, Compute Capability 3.7\n",
            "2019-03-25 13:47:47.815074: I tensorflow/core/common_runtime/gpu/gpu_device.cc:1433] Found device 0 with properties: \n",
            "name: Tesla K80 major: 3 minor: 7 memoryClockRate(GHz): 0.8235\n",
            "pciBusID: 0000:00:04.0\n",
            "totalMemory: 11.17GiB freeMemory: 11.10GiB\n",
            "2019-03-25 13:47:47.815123: I tensorflow/core/common_runtime/gpu/gpu_device.cc:1512] Adding visible gpu devices: 0\n",
            "2019-03-25 13:47:48.135822: I tensorflow/core/common_runtime/gpu/gpu_device.cc:984] Device interconnect StreamExecutor with strength 1 edge matrix:\n",
            "2019-03-25 13:47:48.135913: I tensorflow/core/common_runtime/gpu/gpu_device.cc:990]      0 \n",
            "2019-03-25 13:47:48.135946: I tensorflow/core/common_runtime/gpu/gpu_device.cc:1003] 0:   N \n",
            "2019-03-25 13:47:48.136222: W tensorflow/core/common_runtime/gpu/gpu_bfc_allocator.cc:42] Overriding allow_growth setting because the TF_FORCE_GPU_ALLOW_GROWTH environment variable is set. Original config value was 0.\n",
            "2019-03-25 13:47:48.136296: I tensorflow/core/common_runtime/gpu/gpu_device.cc:1115] Created TensorFlow device (/job:localhost/replica:0/task:0/device:GPU:0 with 11441 MB memory) -> physical GPU (device: 0, name: Tesla K80, pci bus id: 0000:00:04.0, compute capability: 3.7)\n",
            "Loading from ./ckpt/yolo-new-5\n",
            "WARNING:tensorflow:From /usr/local/lib/python3.6/dist-packages/tensorflow/python/training/saver.py:1266: checkpoint_exists (from tensorflow.python.training.checkpoint_management) is deprecated and will be removed in a future version.\n",
            "Instructions for updating:\n",
            "Use standard file APIs to check for files with this prefix.\n",
            "Finished in 7.30696177482605s\n",
            "\n",
            "Forwarding 10 inputs ...\n",
            "Total time = 3.0622901916503906s / 10 inps = 3.2655298401392194 ips\n",
            "Post processing 10 inputs ...\n",
            "Total time = 0.5801200866699219s / 10 inps = 17.23781029097485 ips\n"
          ],
          "name": "stdout"
        }
      ]
    },
    {
      "metadata": {
        "id": "vfkGWCdXD5_H",
        "colab_type": "code",
        "outputId": "9cb89656-b884-4a21-a91b-4a7624fbd835",
        "colab": {
          "base_uri": "https://localhost:8080/",
          "height": 204
        }
      },
      "cell_type": "code",
      "source": [
        "# run on full data\n",
        "!wget https://pjreddie.com/media/files/yolov2.weights"
      ],
      "execution_count": 0,
      "outputs": [
        {
          "output_type": "stream",
          "text": [
            "--2019-03-25 14:03:34--  https://pjreddie.com/media/files/yolov2.weights\n",
            "Resolving pjreddie.com (pjreddie.com)... 128.208.3.39\n",
            "Connecting to pjreddie.com (pjreddie.com)|128.208.3.39|:443... connected.\n",
            "HTTP request sent, awaiting response... 200 OK\n",
            "Length: 203934260 (194M) [application/octet-stream]\n",
            "Saving to: ‘yolov2.weights’\n",
            "\n",
            "yolov2.weights      100%[===================>] 194.49M  21.9MB/s    in 10s     \n",
            "\n",
            "2019-03-25 14:03:45 (19.2 MB/s) - ‘yolov2.weights’ saved [203934260/203934260]\n",
            "\n"
          ],
          "name": "stdout"
        }
      ]
    },
    {
      "metadata": {
        "id": "5OZv4tVKO2YK",
        "colab_type": "code",
        "outputId": "e9b7b769-7bb7-46e8-9ab6-1d44d4f1f18d",
        "colab": {
          "base_uri": "https://localhost:8080/",
          "height": 204
        }
      },
      "cell_type": "code",
      "source": [
        "!wget https://github.com/pjreddie/darknet/blob/master/cfg/yolov2.cfg"
      ],
      "execution_count": 0,
      "outputs": [
        {
          "output_type": "stream",
          "text": [
            "--2019-03-25 14:35:36--  https://github.com/pjreddie/darknet/blob/master/cfg/yolov2.cfg\n",
            "Resolving github.com (github.com)... 140.82.118.3, 140.82.118.4\n",
            "Connecting to github.com (github.com)|140.82.118.3|:443... connected.\n",
            "HTTP request sent, awaiting response... 200 OK\n",
            "Length: unspecified [text/html]\n",
            "Saving to: ‘yolov2.cfg.1’\n",
            "\n",
            "\ryolov2.cfg.1            [<=>                 ]       0  --.-KB/s               \ryolov2.cfg.1            [ <=>                ] 100.34K   434KB/s               \ryolov2.cfg.1            [  <=>               ] 111.58K   482KB/s    in 0.2s    \n",
            "\n",
            "2019-03-25 14:35:37 (482 KB/s) - ‘yolov2.cfg.1’ saved [114254]\n",
            "\n"
          ],
          "name": "stdout"
        }
      ]
    },
    {
      "metadata": {
        "id": "Q-mMbtlgLiOc",
        "colab_type": "code",
        "colab": {}
      },
      "cell_type": "code",
      "source": [
        "cp /content/tiny-yolo-voc_4.cfg /content/darkflow/cfg/"
      ],
      "execution_count": 0,
      "outputs": []
    },
    {
      "metadata": {
        "id": "_uUKYEUSWYDb",
        "colab_type": "code",
        "colab": {}
      },
      "cell_type": "code",
      "source": [
        "cp /content/darkflow/tiny-yolo-voc.weights /content/darkflow/bin"
      ],
      "execution_count": 0,
      "outputs": []
    },
    {
      "metadata": {
        "id": "IKvfcLLGT_FQ",
        "colab_type": "code",
        "outputId": "5dba2cbe-7fd0-4f35-dfeb-db2ec3ebff57",
        "colab": {
          "base_uri": "https://localhost:8080/",
          "height": 224
        }
      },
      "cell_type": "code",
      "source": [
        "!wget https://raw.githubusercontent.com/leetenki/YOLOtiny_v2_chainer/master/tiny-yolo-voc.weights\n",
        "  "
      ],
      "execution_count": 0,
      "outputs": [
        {
          "output_type": "stream",
          "text": [
            "--2019-03-25 14:53:25--  https://raw.githubusercontent.com/leetenki/YOLOtiny_v2_chainer/master/tiny-yolo-voc.weights\n",
            "Resolving raw.githubusercontent.com (raw.githubusercontent.com)... 151.101.0.133, 151.101.64.133, 151.101.128.133, ...\n",
            "Connecting to raw.githubusercontent.com (raw.githubusercontent.com)|151.101.0.133|:443... connected.\n",
            "HTTP request sent, awaiting response... 200 OK\n",
            "Length: 63471556 (61M) [application/octet-stream]\n",
            "Saving to: ‘tiny-yolo-voc.weights’\n",
            "\n",
            "tiny-yolo-voc.weigh 100%[===================>]  60.53M   187MB/s    in 0.3s    \n",
            "\n",
            "2019-03-25 14:53:27 (187 MB/s) - ‘tiny-yolo-voc.weights’ saved [63471556/63471556]\n",
            "\n"
          ],
          "name": "stdout"
        }
      ]
    },
    {
      "metadata": {
        "id": "1OOXBY11WSp1",
        "colab_type": "code",
        "outputId": "6220bd56-3fa5-4399-886a-df2b5ba523b3",
        "colab": {
          "base_uri": "https://localhost:8080/",
          "height": 34
        }
      },
      "cell_type": "code",
      "source": [
        "pwd()"
      ],
      "execution_count": 0,
      "outputs": [
        {
          "output_type": "execute_result",
          "data": {
            "text/plain": [
              "'/content/darkflow'"
            ]
          },
          "metadata": {
            "tags": []
          },
          "execution_count": 95
        }
      ]
    },
    {
      "metadata": {
        "id": "QEXh08-9T-7P",
        "colab_type": "code",
        "colab": {}
      },
      "cell_type": "code",
      "source": [
        "python3 flow --model cfg/tiny-yolo-voc-3c.cfg --load bin/tiny-yolo-voc.weights --train --annotation train/Annotations --dataset train/Images"
      ],
      "execution_count": 0,
      "outputs": []
    },
    {
      "metadata": {
        "id": "SAHc7uV2KerT",
        "colab_type": "code",
        "outputId": "65f1f330-5400-4f88-dcc6-2c3790edd217",
        "colab": {
          "base_uri": "https://localhost:8080/",
          "height": 4100
        }
      },
      "cell_type": "code",
      "source": [
        "!python3 flow --model cfg/tiny-yolo-voc_4.cfg \\\n",
        "    --load bin/tiny-yolo-voc.weights --train \\\n",
        "    --trainer adam \\\n",
        "    --dataset \"/content/darkflow/Weapon_Shrink/Image/\" \\\n",
        "    --annotation \"/content/darkflow/Weapon_Shrink/Label/\"\\\n",
        "    --gpu 0.8\\\n",
        "    --epoch 5\\\n",
        "    --threshold 1\n",
        "    "
      ],
      "execution_count": 0,
      "outputs": [
        {
          "output_type": "stream",
          "text": [
            "\n",
            "Parsing ./cfg/tiny-yolo-voc.cfg\n",
            "Parsing cfg/tiny-yolo-voc_4.cfg\n",
            "Loading bin/tiny-yolo-voc.weights ...\n",
            "Successfully identified 63471556 bytes\n",
            "Finished in 0.005736589431762695s\n",
            "\n",
            "Building net ...\n",
            "Source | Train? | Layer description                | Output size\n",
            "-------+--------+----------------------------------+---------------\n",
            "WARNING:tensorflow:From /usr/local/lib/python3.6/dist-packages/tensorflow/python/framework/op_def_library.py:263: colocate_with (from tensorflow.python.framework.ops) is deprecated and will be removed in a future version.\n",
            "Instructions for updating:\n",
            "Colocations handled automatically by placer.\n",
            "       |        | input                            | (?, 416, 416, 3)\n",
            " Load  |  Yep!  | conv 3x3p1_1  +bnorm  leaky      | (?, 416, 416, 16)\n",
            " Load  |  Yep!  | maxp 2x2p0_2                     | (?, 208, 208, 16)\n",
            " Load  |  Yep!  | conv 3x3p1_1  +bnorm  leaky      | (?, 208, 208, 32)\n",
            " Load  |  Yep!  | maxp 2x2p0_2                     | (?, 104, 104, 32)\n",
            " Load  |  Yep!  | conv 3x3p1_1  +bnorm  leaky      | (?, 104, 104, 64)\n",
            " Load  |  Yep!  | maxp 2x2p0_2                     | (?, 52, 52, 64)\n",
            " Load  |  Yep!  | conv 3x3p1_1  +bnorm  leaky      | (?, 52, 52, 128)\n",
            " Load  |  Yep!  | maxp 2x2p0_2                     | (?, 26, 26, 128)\n",
            " Load  |  Yep!  | conv 3x3p1_1  +bnorm  leaky      | (?, 26, 26, 256)\n",
            " Load  |  Yep!  | maxp 2x2p0_2                     | (?, 13, 13, 256)\n",
            " Load  |  Yep!  | conv 3x3p1_1  +bnorm  leaky      | (?, 13, 13, 512)\n",
            " Load  |  Yep!  | maxp 2x2p0_1                     | (?, 13, 13, 512)\n",
            " Load  |  Yep!  | conv 3x3p1_1  +bnorm  leaky      | (?, 13, 13, 1024)\n",
            " Load  |  Yep!  | conv 3x3p1_1  +bnorm  leaky      | (?, 13, 13, 1024)\n",
            " Init  |  Yep!  | conv 1x1p0_1    linear           | (?, 13, 13, 30)\n",
            "-------+--------+----------------------------------+---------------\n",
            "GPU mode with 0.8 usage\n",
            "cfg/tiny-yolo-voc_4.cfg loss hyper-parameters:\n",
            "\tH       = 13\n",
            "\tW       = 13\n",
            "\tbox     = 5\n",
            "\tclasses = 1\n",
            "\tscales  = [1.0, 5.0, 1.0, 1.0]\n",
            "WARNING:tensorflow:From /content/darkflow/darkflow/net/yolov2/train.py:87: to_float (from tensorflow.python.ops.math_ops) is deprecated and will be removed in a future version.\n",
            "Instructions for updating:\n",
            "Use tf.cast instead.\n",
            "Building cfg/tiny-yolo-voc_4.cfg loss\n",
            "Building cfg/tiny-yolo-voc_4.cfg train op\n",
            "WARNING:tensorflow:From /usr/local/lib/python3.6/dist-packages/tensorflow/python/ops/math_ops.py:3066: to_int32 (from tensorflow.python.ops.math_ops) is deprecated and will be removed in a future version.\n",
            "Instructions for updating:\n",
            "Use tf.cast instead.\n",
            "2019-03-25 15:18:44.010509: I tensorflow/core/platform/profile_utils/cpu_utils.cc:94] CPU Frequency: 2300000000 Hz\n",
            "2019-03-25 15:18:44.011124: I tensorflow/compiler/xla/service/service.cc:150] XLA service 0x184f860 executing computations on platform Host. Devices:\n",
            "2019-03-25 15:18:44.011166: I tensorflow/compiler/xla/service/service.cc:158]   StreamExecutor device (0): <undefined>, <undefined>\n",
            "2019-03-25 15:18:44.114483: I tensorflow/stream_executor/cuda/cuda_gpu_executor.cc:998] successful NUMA node read from SysFS had negative value (-1), but there must be at least one NUMA node, so returning NUMA node zero\n",
            "2019-03-25 15:18:44.115164: I tensorflow/compiler/xla/service/service.cc:150] XLA service 0x184f440 executing computations on platform CUDA. Devices:\n",
            "2019-03-25 15:18:44.115218: I tensorflow/compiler/xla/service/service.cc:158]   StreamExecutor device (0): Tesla K80, Compute Capability 3.7\n",
            "2019-03-25 15:18:44.115711: I tensorflow/core/common_runtime/gpu/gpu_device.cc:1433] Found device 0 with properties: \n",
            "name: Tesla K80 major: 3 minor: 7 memoryClockRate(GHz): 0.8235\n",
            "pciBusID: 0000:00:04.0\n",
            "totalMemory: 11.17GiB freeMemory: 11.10GiB\n",
            "2019-03-25 15:18:44.115745: I tensorflow/core/common_runtime/gpu/gpu_device.cc:1512] Adding visible gpu devices: 0\n",
            "2019-03-25 15:18:44.486367: I tensorflow/core/common_runtime/gpu/gpu_device.cc:984] Device interconnect StreamExecutor with strength 1 edge matrix:\n",
            "2019-03-25 15:18:44.486451: I tensorflow/core/common_runtime/gpu/gpu_device.cc:990]      0 \n",
            "2019-03-25 15:18:44.486482: I tensorflow/core/common_runtime/gpu/gpu_device.cc:1003] 0:   N \n",
            "2019-03-25 15:18:44.486810: W tensorflow/core/common_runtime/gpu/gpu_bfc_allocator.cc:42] Overriding allow_growth setting because the TF_FORCE_GPU_ALLOW_GROWTH environment variable is set. Original config value was 0.\n",
            "2019-03-25 15:18:44.486906: I tensorflow/core/common_runtime/gpu/gpu_device.cc:1115] Created TensorFlow device (/job:localhost/replica:0/task:0/device:GPU:0 with 9152 MB memory) -> physical GPU (device: 0, name: Tesla K80, pci bus id: 0000:00:04.0, compute capability: 3.7)\n",
            "Finished in 4.459514856338501s\n",
            "\n",
            "Enter training ...\n",
            "\n",
            "cfg/tiny-yolo-voc_4.cfg parsing /content/darkflow/Weapon_Shrink/Label/\n",
            "Parsing for ['pistol'] \n",
            "[====================>]100%  armas (7).xml\n",
            "Statistics:\n",
            "pistol: 13\n",
            "Dataset size: 10\n",
            "Dataset of 10 instance(s)\n",
            "/content/darkflow/Weapon_Shrink/Image/\n",
            "armas (2).jpg\n",
            "path: /content/darkflow/Weapon_Shrink/Image/armas (2).jpg\n",
            "/content/darkflow/Weapon_Shrink/Image/\n",
            "armas (4).jpg\n",
            "path: /content/darkflow/Weapon_Shrink/Image/armas (4).jpg\n",
            "/content/darkflow/Weapon_Shrink/Image/\n",
            "armas (7).jpg\n",
            "path: /content/darkflow/Weapon_Shrink/Image/armas (7).jpg\n",
            "/content/darkflow/Weapon_Shrink/Image/\n",
            "armas (8).jpg\n",
            "path: /content/darkflow/Weapon_Shrink/Image/armas (8).jpg\n",
            "/content/darkflow/Weapon_Shrink/Image/\n",
            "armas (9).jpg\n",
            "path: /content/darkflow/Weapon_Shrink/Image/armas (9).jpg\n",
            "/content/darkflow/Weapon_Shrink/Image/\n",
            "armas (1).jpg\n",
            "path: /content/darkflow/Weapon_Shrink/Image/armas (1).jpg\n",
            "/content/darkflow/Weapon_Shrink/Image/\n",
            "armas (6).jpg\n",
            "path: /content/darkflow/Weapon_Shrink/Image/armas (6).jpg\n",
            "/content/darkflow/Weapon_Shrink/Image/\n",
            "armas (5).jpg\n",
            "path: /content/darkflow/Weapon_Shrink/Image/armas (5).jpg\n",
            "/content/darkflow/Weapon_Shrink/Image/\n",
            "armas (3).jpg\n",
            "path: /content/darkflow/Weapon_Shrink/Image/armas (3).jpg\n",
            "/content/darkflow/Weapon_Shrink/Image/\n",
            "armas (10).jpg\n",
            "path: /content/darkflow/Weapon_Shrink/Image/armas (10).jpg\n",
            "Training statistics: \n",
            "\tLearning rate : 1e-05\n",
            "\tBatch size    : 10\n",
            "\tEpoch number  : 5\n",
            "\tBackup every  : 2000\n",
            "step 1 - loss 109.396240234375 - moving ave loss 109.396240234375\n",
            "Finish 1 epoch(es)\n",
            "/content/darkflow/Weapon_Shrink/Image/\n",
            "armas (7).jpg\n",
            "path: /content/darkflow/Weapon_Shrink/Image/armas (7).jpg\n",
            "/content/darkflow/Weapon_Shrink/Image/\n",
            "armas (3).jpg\n",
            "path: /content/darkflow/Weapon_Shrink/Image/armas (3).jpg\n",
            "/content/darkflow/Weapon_Shrink/Image/\n",
            "armas (2).jpg\n",
            "path: /content/darkflow/Weapon_Shrink/Image/armas (2).jpg\n",
            "/content/darkflow/Weapon_Shrink/Image/\n",
            "armas (6).jpg\n",
            "path: /content/darkflow/Weapon_Shrink/Image/armas (6).jpg\n",
            "/content/darkflow/Weapon_Shrink/Image/\n",
            "armas (9).jpg\n",
            "path: /content/darkflow/Weapon_Shrink/Image/armas (9).jpg\n",
            "/content/darkflow/Weapon_Shrink/Image/\n",
            "armas (1).jpg\n",
            "path: /content/darkflow/Weapon_Shrink/Image/armas (1).jpg\n",
            "/content/darkflow/Weapon_Shrink/Image/\n",
            "armas (5).jpg\n",
            "path: /content/darkflow/Weapon_Shrink/Image/armas (5).jpg\n",
            "/content/darkflow/Weapon_Shrink/Image/\n",
            "armas (10).jpg\n",
            "path: /content/darkflow/Weapon_Shrink/Image/armas (10).jpg\n",
            "/content/darkflow/Weapon_Shrink/Image/\n",
            "armas (4).jpg\n",
            "path: /content/darkflow/Weapon_Shrink/Image/armas (4).jpg\n",
            "/content/darkflow/Weapon_Shrink/Image/\n",
            "armas (8).jpg\n",
            "path: /content/darkflow/Weapon_Shrink/Image/armas (8).jpg\n",
            "step 2 - loss 108.43563079833984 - moving ave loss 109.30017929077148\n",
            "Finish 2 epoch(es)\n",
            "/content/darkflow/Weapon_Shrink/Image/\n",
            "armas (4).jpg\n",
            "path: /content/darkflow/Weapon_Shrink/Image/armas (4).jpg\n",
            "/content/darkflow/Weapon_Shrink/Image/\n",
            "armas (3).jpg\n",
            "path: /content/darkflow/Weapon_Shrink/Image/armas (3).jpg\n",
            "/content/darkflow/Weapon_Shrink/Image/\n",
            "armas (1).jpg\n",
            "path: /content/darkflow/Weapon_Shrink/Image/armas (1).jpg\n",
            "/content/darkflow/Weapon_Shrink/Image/\n",
            "armas (6).jpg\n",
            "path: /content/darkflow/Weapon_Shrink/Image/armas (6).jpg\n",
            "/content/darkflow/Weapon_Shrink/Image/\n",
            "armas (8).jpg\n",
            "path: /content/darkflow/Weapon_Shrink/Image/armas (8).jpg\n",
            "/content/darkflow/Weapon_Shrink/Image/\n",
            "armas (2).jpg\n",
            "path: /content/darkflow/Weapon_Shrink/Image/armas (2).jpg\n",
            "/content/darkflow/Weapon_Shrink/Image/\n",
            "armas (9).jpg\n",
            "path: /content/darkflow/Weapon_Shrink/Image/armas (9).jpg\n",
            "/content/darkflow/Weapon_Shrink/Image/\n",
            "armas (5).jpg\n",
            "path: /content/darkflow/Weapon_Shrink/Image/armas (5).jpg\n",
            "/content/darkflow/Weapon_Shrink/Image/\n",
            "armas (10).jpg\n",
            "path: /content/darkflow/Weapon_Shrink/Image/armas (10).jpg\n",
            "/content/darkflow/Weapon_Shrink/Image/\n",
            "armas (7).jpg\n",
            "path: /content/darkflow/Weapon_Shrink/Image/armas (7).jpg\n",
            "step 3 - loss 108.09676361083984 - moving ave loss 109.17983772277832\n",
            "Finish 3 epoch(es)\n",
            "/content/darkflow/Weapon_Shrink/Image/\n",
            "armas (5).jpg\n",
            "path: /content/darkflow/Weapon_Shrink/Image/armas (5).jpg\n",
            "/content/darkflow/Weapon_Shrink/Image/\n",
            "armas (2).jpg\n",
            "path: /content/darkflow/Weapon_Shrink/Image/armas (2).jpg\n",
            "/content/darkflow/Weapon_Shrink/Image/\n",
            "armas (7).jpg\n",
            "path: /content/darkflow/Weapon_Shrink/Image/armas (7).jpg\n",
            "/content/darkflow/Weapon_Shrink/Image/\n",
            "armas (4).jpg\n",
            "path: /content/darkflow/Weapon_Shrink/Image/armas (4).jpg\n",
            "/content/darkflow/Weapon_Shrink/Image/\n",
            "armas (8).jpg\n",
            "path: /content/darkflow/Weapon_Shrink/Image/armas (8).jpg\n",
            "/content/darkflow/Weapon_Shrink/Image/\n",
            "armas (3).jpg\n",
            "path: /content/darkflow/Weapon_Shrink/Image/armas (3).jpg\n",
            "/content/darkflow/Weapon_Shrink/Image/\n",
            "armas (10).jpg\n",
            "path: /content/darkflow/Weapon_Shrink/Image/armas (10).jpg\n",
            "/content/darkflow/Weapon_Shrink/Image/\n",
            "armas (1).jpg\n",
            "path: /content/darkflow/Weapon_Shrink/Image/armas (1).jpg\n",
            "/content/darkflow/Weapon_Shrink/Image/\n",
            "armas (6).jpg\n",
            "path: /content/darkflow/Weapon_Shrink/Image/armas (6).jpg\n",
            "/content/darkflow/Weapon_Shrink/Image/\n",
            "armas (9).jpg\n",
            "path: /content/darkflow/Weapon_Shrink/Image/armas (9).jpg\n",
            "step 4 - loss 107.39107513427734 - moving ave loss 109.00096146392822\n",
            "Finish 4 epoch(es)\n",
            "/content/darkflow/Weapon_Shrink/Image/\n",
            "armas (10).jpg\n",
            "path: /content/darkflow/Weapon_Shrink/Image/armas (10).jpg\n",
            "/content/darkflow/Weapon_Shrink/Image/\n",
            "armas (7).jpg\n",
            "path: /content/darkflow/Weapon_Shrink/Image/armas (7).jpg\n",
            "/content/darkflow/Weapon_Shrink/Image/\n",
            "armas (3).jpg\n",
            "path: /content/darkflow/Weapon_Shrink/Image/armas (3).jpg\n",
            "/content/darkflow/Weapon_Shrink/Image/\n",
            "armas (5).jpg\n",
            "path: /content/darkflow/Weapon_Shrink/Image/armas (5).jpg\n",
            "/content/darkflow/Weapon_Shrink/Image/\n",
            "armas (9).jpg\n",
            "path: /content/darkflow/Weapon_Shrink/Image/armas (9).jpg\n",
            "/content/darkflow/Weapon_Shrink/Image/\n",
            "armas (8).jpg\n",
            "path: /content/darkflow/Weapon_Shrink/Image/armas (8).jpg\n",
            "/content/darkflow/Weapon_Shrink/Image/\n",
            "armas (4).jpg\n",
            "path: /content/darkflow/Weapon_Shrink/Image/armas (4).jpg\n",
            "/content/darkflow/Weapon_Shrink/Image/\n",
            "armas (6).jpg\n",
            "path: /content/darkflow/Weapon_Shrink/Image/armas (6).jpg\n",
            "/content/darkflow/Weapon_Shrink/Image/\n",
            "armas (2).jpg\n",
            "path: /content/darkflow/Weapon_Shrink/Image/armas (2).jpg\n",
            "/content/darkflow/Weapon_Shrink/Image/\n",
            "armas (1).jpg\n",
            "path: /content/darkflow/Weapon_Shrink/Image/armas (1).jpg\n",
            "step 5 - loss 106.83174896240234 - moving ave loss 108.78404021377563\n",
            "Finish 5 epoch(es)\n",
            "Checkpoint at step 5\n",
            "Training finished, exit.\n"
          ],
          "name": "stdout"
        }
      ]
    },
    {
      "metadata": {
        "id": "6FYz1iQxaygP",
        "colab_type": "code",
        "colab": {}
      },
      "cell_type": "code",
      "source": [
        "rm -r /content/darkflow/Weapon_Shrink/Image/out"
      ],
      "execution_count": 0,
      "outputs": []
    },
    {
      "metadata": {
        "id": "qwU5VeAGK6N4",
        "colab_type": "code",
        "outputId": "fe987784-5da3-40ba-9fd9-23117b1bdf9f",
        "colab": {
          "base_uri": "https://localhost:8080/",
          "height": 972
        }
      },
      "cell_type": "code",
      "source": [
        "!python3 flow --model cfg/tiny-yolo-voc_4.cfg  \\\n",
        "    --imgdir \"/content/darkflow/Weapon_Shrink/Image/\" \\\n",
        "    --load -1 \\\n",
        "    --gpu 1.0\\\n",
        "    \n"
      ],
      "execution_count": 0,
      "outputs": [
        {
          "output_type": "stream",
          "text": [
            "\n",
            "Parsing cfg/tiny-yolo-voc_4.cfg\n",
            "Loading None ...\n",
            "Finished in 8.058547973632812e-05s\n",
            "\n",
            "Building net ...\n",
            "Source | Train? | Layer description                | Output size\n",
            "-------+--------+----------------------------------+---------------\n",
            "WARNING:tensorflow:From /usr/local/lib/python3.6/dist-packages/tensorflow/python/framework/op_def_library.py:263: colocate_with (from tensorflow.python.framework.ops) is deprecated and will be removed in a future version.\n",
            "Instructions for updating:\n",
            "Colocations handled automatically by placer.\n",
            "       |        | input                            | (?, 416, 416, 3)\n",
            " Init  |  Yep!  | conv 3x3p1_1  +bnorm  leaky      | (?, 416, 416, 16)\n",
            " Load  |  Yep!  | maxp 2x2p0_2                     | (?, 208, 208, 16)\n",
            " Init  |  Yep!  | conv 3x3p1_1  +bnorm  leaky      | (?, 208, 208, 32)\n",
            " Load  |  Yep!  | maxp 2x2p0_2                     | (?, 104, 104, 32)\n",
            " Init  |  Yep!  | conv 3x3p1_1  +bnorm  leaky      | (?, 104, 104, 64)\n",
            " Load  |  Yep!  | maxp 2x2p0_2                     | (?, 52, 52, 64)\n",
            " Init  |  Yep!  | conv 3x3p1_1  +bnorm  leaky      | (?, 52, 52, 128)\n",
            " Load  |  Yep!  | maxp 2x2p0_2                     | (?, 26, 26, 128)\n",
            " Init  |  Yep!  | conv 3x3p1_1  +bnorm  leaky      | (?, 26, 26, 256)\n",
            " Load  |  Yep!  | maxp 2x2p0_2                     | (?, 13, 13, 256)\n",
            " Init  |  Yep!  | conv 3x3p1_1  +bnorm  leaky      | (?, 13, 13, 512)\n",
            " Load  |  Yep!  | maxp 2x2p0_1                     | (?, 13, 13, 512)\n",
            " Init  |  Yep!  | conv 3x3p1_1  +bnorm  leaky      | (?, 13, 13, 1024)\n",
            " Init  |  Yep!  | conv 3x3p1_1  +bnorm  leaky      | (?, 13, 13, 1024)\n",
            " Init  |  Yep!  | conv 1x1p0_1    linear           | (?, 13, 13, 30)\n",
            "-------+--------+----------------------------------+---------------\n",
            "GPU mode with 1.0 usage\n",
            "2019-03-25 15:19:05.470720: I tensorflow/core/platform/profile_utils/cpu_utils.cc:94] CPU Frequency: 2300000000 Hz\n",
            "2019-03-25 15:19:05.471099: I tensorflow/compiler/xla/service/service.cc:150] XLA service 0x1ac3860 executing computations on platform Host. Devices:\n",
            "2019-03-25 15:19:05.471141: I tensorflow/compiler/xla/service/service.cc:158]   StreamExecutor device (0): <undefined>, <undefined>\n",
            "2019-03-25 15:19:05.568732: I tensorflow/stream_executor/cuda/cuda_gpu_executor.cc:998] successful NUMA node read from SysFS had negative value (-1), but there must be at least one NUMA node, so returning NUMA node zero\n",
            "2019-03-25 15:19:05.569343: I tensorflow/compiler/xla/service/service.cc:150] XLA service 0x1ac3440 executing computations on platform CUDA. Devices:\n",
            "2019-03-25 15:19:05.569385: I tensorflow/compiler/xla/service/service.cc:158]   StreamExecutor device (0): Tesla K80, Compute Capability 3.7\n",
            "2019-03-25 15:19:05.569777: I tensorflow/core/common_runtime/gpu/gpu_device.cc:1433] Found device 0 with properties: \n",
            "name: Tesla K80 major: 3 minor: 7 memoryClockRate(GHz): 0.8235\n",
            "pciBusID: 0000:00:04.0\n",
            "totalMemory: 11.17GiB freeMemory: 11.10GiB\n",
            "2019-03-25 15:19:05.569810: I tensorflow/core/common_runtime/gpu/gpu_device.cc:1512] Adding visible gpu devices: 0\n",
            "2019-03-25 15:19:05.912346: I tensorflow/core/common_runtime/gpu/gpu_device.cc:984] Device interconnect StreamExecutor with strength 1 edge matrix:\n",
            "2019-03-25 15:19:05.912428: I tensorflow/core/common_runtime/gpu/gpu_device.cc:990]      0 \n",
            "2019-03-25 15:19:05.912455: I tensorflow/core/common_runtime/gpu/gpu_device.cc:1003] 0:   N \n",
            "2019-03-25 15:19:05.912735: W tensorflow/core/common_runtime/gpu/gpu_bfc_allocator.cc:42] Overriding allow_growth setting because the TF_FORCE_GPU_ALLOW_GROWTH environment variable is set. Original config value was 0.\n",
            "2019-03-25 15:19:05.912809: I tensorflow/core/common_runtime/gpu/gpu_device.cc:1115] Created TensorFlow device (/job:localhost/replica:0/task:0/device:GPU:0 with 11441 MB memory) -> physical GPU (device: 0, name: Tesla K80, pci bus id: 0000:00:04.0, compute capability: 3.7)\n",
            "Loading from ./ckpt/tiny-yolo-voc_4-5\n",
            "WARNING:tensorflow:From /usr/local/lib/python3.6/dist-packages/tensorflow/python/training/saver.py:1266: checkpoint_exists (from tensorflow.python.training.checkpoint_management) is deprecated and will be removed in a future version.\n",
            "Instructions for updating:\n",
            "Use standard file APIs to check for files with this prefix.\n",
            "Finished in 2.7858476638793945s\n",
            "\n",
            "Forwarding 10 inputs ...\n",
            "Total time = 1.6495208740234375s / 10 inps = 6.062366446814612 ips\n",
            "Post processing 10 inputs ...\n",
            "Total time = 0.2714686393737793s / 10 inps = 36.83666748051592 ips\n"
          ],
          "name": "stdout"
        }
      ]
    },
    {
      "metadata": {
        "id": "I1Il1rGXBJcq",
        "colab_type": "code",
        "colab": {}
      },
      "cell_type": "code",
      "source": [
        "!mkdir /content/sampleimage"
      ],
      "execution_count": 0,
      "outputs": []
    },
    {
      "metadata": {
        "id": "8sKGIi6DBy7C",
        "colab_type": "code",
        "colab": {}
      },
      "cell_type": "code",
      "source": [
        "!mkdir /content/samplelabel"
      ],
      "execution_count": 0,
      "outputs": []
    },
    {
      "metadata": {
        "id": "AU4KRcxDOgE5",
        "colab_type": "code",
        "colab": {}
      },
      "cell_type": "code",
      "source": [
        "!mkdir /content/sampletest"
      ],
      "execution_count": 0,
      "outputs": []
    },
    {
      "metadata": {
        "id": "M43FhHveA3WZ",
        "colab_type": "code",
        "colab": {}
      },
      "cell_type": "code",
      "source": [
        "\n",
        "%cp /content/drive/'My Drive'/WeaponS/'armas ('{10..90}')'.jpg  /content/sampleimage/"
      ],
      "execution_count": 0,
      "outputs": []
    },
    {
      "metadata": {
        "id": "EWwsGyo5OiwL",
        "colab_type": "code",
        "colab": {}
      },
      "cell_type": "code",
      "source": [
        "\n",
        "%cp /content/drive/'My Drive'/WeaponS/'armas ('{10..90}')'.jpg  /content/sampleimage/"
      ],
      "execution_count": 0,
      "outputs": []
    },
    {
      "metadata": {
        "id": "pRQflTMEB14h",
        "colab_type": "code",
        "colab": {}
      },
      "cell_type": "code",
      "source": [
        "\n",
        "%cp /content/drive/'My Drive'/WeaponS_bbox/'armas ('{10..90}')'.xml  /content/samplelabel/"
      ],
      "execution_count": 0,
      "outputs": []
    },
    {
      "metadata": {
        "id": "p92MJOwncJsG",
        "colab_type": "code",
        "outputId": "82136673-5766-4619-f395-1b5c7eda403f",
        "colab": {
          "base_uri": "https://localhost:8080/",
          "height": 22290
        }
      },
      "cell_type": "code",
      "source": [
        "#full data\n",
        "!python3 flow --model cfg/tiny-yolo-voc_4.cfg \\\n",
        "    --load bin/tiny-yolo-voc.weights --train \\\n",
        "    --trainer adam   --dataset \"/content/sampleimage/\" \\\n",
        "    --annotation \"/content/samplelabel/\"\\\n",
        "    --gpu 0.8\\\n",
        "    --epoch 5\\\n",
        "    --threshold 0.9\n",
        "    "
      ],
      "execution_count": 0,
      "outputs": [
        {
          "output_type": "stream",
          "text": [
            "\n",
            "Parsing ./cfg/tiny-yolo-voc.cfg\n",
            "Parsing cfg/tiny-yolo-voc_4.cfg\n",
            "Loading bin/tiny-yolo-voc.weights ...\n",
            "Successfully identified 63471556 bytes\n",
            "Finished in 0.0060999393463134766s\n",
            "\n",
            "Building net ...\n",
            "Source | Train? | Layer description                | Output size\n",
            "-------+--------+----------------------------------+---------------\n",
            "WARNING:tensorflow:From /usr/local/lib/python3.6/dist-packages/tensorflow/python/framework/op_def_library.py:263: colocate_with (from tensorflow.python.framework.ops) is deprecated and will be removed in a future version.\n",
            "Instructions for updating:\n",
            "Colocations handled automatically by placer.\n",
            "       |        | input                            | (?, 416, 416, 3)\n",
            " Load  |  Yep!  | conv 3x3p1_1  +bnorm  leaky      | (?, 416, 416, 16)\n",
            " Load  |  Yep!  | maxp 2x2p0_2                     | (?, 208, 208, 16)\n",
            " Load  |  Yep!  | conv 3x3p1_1  +bnorm  leaky      | (?, 208, 208, 32)\n",
            " Load  |  Yep!  | maxp 2x2p0_2                     | (?, 104, 104, 32)\n",
            " Load  |  Yep!  | conv 3x3p1_1  +bnorm  leaky      | (?, 104, 104, 64)\n",
            " Load  |  Yep!  | maxp 2x2p0_2                     | (?, 52, 52, 64)\n",
            " Load  |  Yep!  | conv 3x3p1_1  +bnorm  leaky      | (?, 52, 52, 128)\n",
            " Load  |  Yep!  | maxp 2x2p0_2                     | (?, 26, 26, 128)\n",
            " Load  |  Yep!  | conv 3x3p1_1  +bnorm  leaky      | (?, 26, 26, 256)\n",
            " Load  |  Yep!  | maxp 2x2p0_2                     | (?, 13, 13, 256)\n",
            " Load  |  Yep!  | conv 3x3p1_1  +bnorm  leaky      | (?, 13, 13, 512)\n",
            " Load  |  Yep!  | maxp 2x2p0_1                     | (?, 13, 13, 512)\n",
            " Load  |  Yep!  | conv 3x3p1_1  +bnorm  leaky      | (?, 13, 13, 1024)\n",
            " Load  |  Yep!  | conv 3x3p1_1  +bnorm  leaky      | (?, 13, 13, 1024)\n",
            " Init  |  Yep!  | conv 1x1p0_1    linear           | (?, 13, 13, 30)\n",
            "-------+--------+----------------------------------+---------------\n",
            "GPU mode with 0.8 usage\n",
            "cfg/tiny-yolo-voc_4.cfg loss hyper-parameters:\n",
            "\tH       = 13\n",
            "\tW       = 13\n",
            "\tbox     = 5\n",
            "\tclasses = 1\n",
            "\tscales  = [1.0, 5.0, 1.0, 1.0]\n",
            "WARNING:tensorflow:From /content/darkflow/darkflow/net/yolov2/train.py:87: to_float (from tensorflow.python.ops.math_ops) is deprecated and will be removed in a future version.\n",
            "Instructions for updating:\n",
            "Use tf.cast instead.\n",
            "Building cfg/tiny-yolo-voc_4.cfg loss\n",
            "Building cfg/tiny-yolo-voc_4.cfg train op\n",
            "WARNING:tensorflow:From /usr/local/lib/python3.6/dist-packages/tensorflow/python/ops/math_ops.py:3066: to_int32 (from tensorflow.python.ops.math_ops) is deprecated and will be removed in a future version.\n",
            "Instructions for updating:\n",
            "Use tf.cast instead.\n",
            "2019-03-25 18:57:34.127051: I tensorflow/core/platform/profile_utils/cpu_utils.cc:94] CPU Frequency: 2300000000 Hz\n",
            "2019-03-25 18:57:34.127745: I tensorflow/compiler/xla/service/service.cc:150] XLA service 0x3317860 executing computations on platform Host. Devices:\n",
            "2019-03-25 18:57:34.127795: I tensorflow/compiler/xla/service/service.cc:158]   StreamExecutor device (0): <undefined>, <undefined>\n",
            "2019-03-25 18:57:34.228372: I tensorflow/stream_executor/cuda/cuda_gpu_executor.cc:998] successful NUMA node read from SysFS had negative value (-1), but there must be at least one NUMA node, so returning NUMA node zero\n",
            "2019-03-25 18:57:34.229216: I tensorflow/compiler/xla/service/service.cc:150] XLA service 0x3317440 executing computations on platform CUDA. Devices:\n",
            "2019-03-25 18:57:34.229268: I tensorflow/compiler/xla/service/service.cc:158]   StreamExecutor device (0): Tesla K80, Compute Capability 3.7\n",
            "2019-03-25 18:57:34.229669: I tensorflow/core/common_runtime/gpu/gpu_device.cc:1433] Found device 0 with properties: \n",
            "name: Tesla K80 major: 3 minor: 7 memoryClockRate(GHz): 0.8235\n",
            "pciBusID: 0000:00:04.0\n",
            "totalMemory: 11.17GiB freeMemory: 11.10GiB\n",
            "2019-03-25 18:57:34.229703: I tensorflow/core/common_runtime/gpu/gpu_device.cc:1512] Adding visible gpu devices: 0\n",
            "2019-03-25 18:57:34.594645: I tensorflow/core/common_runtime/gpu/gpu_device.cc:984] Device interconnect StreamExecutor with strength 1 edge matrix:\n",
            "2019-03-25 18:57:34.594707: I tensorflow/core/common_runtime/gpu/gpu_device.cc:990]      0 \n",
            "2019-03-25 18:57:34.594737: I tensorflow/core/common_runtime/gpu/gpu_device.cc:1003] 0:   N \n",
            "2019-03-25 18:57:34.595026: W tensorflow/core/common_runtime/gpu/gpu_bfc_allocator.cc:42] Overriding allow_growth setting because the TF_FORCE_GPU_ALLOW_GROWTH environment variable is set. Original config value was 0.\n",
            "2019-03-25 18:57:34.595093: I tensorflow/core/common_runtime/gpu/gpu_device.cc:1115] Created TensorFlow device (/job:localhost/replica:0/task:0/device:GPU:0 with 9152 MB memory) -> physical GPU (device: 0, name: Tesla K80, pci bus id: 0000:00:04.0, compute capability: 3.7)\n",
            "Finished in 4.465557336807251s\n",
            "\n",
            "Enter training ...\n",
            "\n",
            "cfg/tiny-yolo-voc_4.cfg parsing /content/samplelabel/\n",
            "Parsing for ['pistol'] \n",
            "[====================>]100%  armas (67).xml\n",
            "Statistics:\n",
            "pistol: 93\n",
            "Dataset size: 81\n",
            "Dataset of 81 instance(s)\n",
            "/content/sampleimage/\n",
            "armas (74).jpg\n",
            "path: /content/sampleimage/armas (74).jpg\n",
            "/content/sampleimage/\n",
            "armas (14).jpg\n",
            "path: /content/sampleimage/armas (14).jpg\n",
            "/content/sampleimage/\n",
            "armas (37).jpg\n",
            "path: /content/sampleimage/armas (37).jpg\n",
            "/content/sampleimage/\n",
            "armas (51).jpg\n",
            "path: /content/sampleimage/armas (51).jpg\n",
            "/content/sampleimage/\n",
            "armas (28).jpg\n",
            "path: /content/sampleimage/armas (28).jpg\n",
            "/content/sampleimage/\n",
            "armas (36).jpg\n",
            "path: /content/sampleimage/armas (36).jpg\n",
            "/content/sampleimage/\n",
            "armas (88).jpg\n",
            "path: /content/sampleimage/armas (88).jpg\n",
            "/content/sampleimage/\n",
            "armas (81).jpg\n",
            "path: /content/sampleimage/armas (81).jpg\n",
            "/content/sampleimage/\n",
            "armas (86).jpg\n",
            "path: /content/sampleimage/armas (86).jpg\n",
            "/content/sampleimage/\n",
            "armas (10).jpg\n",
            "path: /content/sampleimage/armas (10).jpg\n",
            "/content/sampleimage/\n",
            "armas (32).jpg\n",
            "path: /content/sampleimage/armas (32).jpg\n",
            "/content/sampleimage/\n",
            "armas (41).jpg\n",
            "path: /content/sampleimage/armas (41).jpg\n",
            "/content/sampleimage/\n",
            "armas (55).jpg\n",
            "path: /content/sampleimage/armas (55).jpg\n",
            "/content/sampleimage/\n",
            "armas (79).jpg\n",
            "path: /content/sampleimage/armas (79).jpg\n",
            "/content/sampleimage/\n",
            "armas (72).jpg\n",
            "path: /content/sampleimage/armas (72).jpg\n",
            "/content/sampleimage/\n",
            "armas (66).jpg\n",
            "path: /content/sampleimage/armas (66).jpg\n",
            "Training statistics: \n",
            "\tLearning rate : 1e-05\n",
            "\tBatch size    : 16\n",
            "\tEpoch number  : 5\n",
            "\tBackup every  : 2000\n",
            "step 1 - loss 109.49030303955078 - moving ave loss 109.4903030395508\n",
            "/content/sampleimage/\n",
            "armas (30).jpg\n",
            "path: /content/sampleimage/armas (30).jpg\n",
            "/content/sampleimage/\n",
            "armas (56).jpg\n",
            "path: /content/sampleimage/armas (56).jpg\n",
            "/content/sampleimage/\n",
            "armas (42).jpg\n",
            "path: /content/sampleimage/armas (42).jpg\n",
            "/content/sampleimage/\n",
            "armas (68).jpg\n",
            "path: /content/sampleimage/armas (68).jpg\n",
            "/content/sampleimage/\n",
            "armas (12).jpg\n",
            "path: /content/sampleimage/armas (12).jpg\n",
            "/content/sampleimage/\n",
            "armas (69).jpg\n",
            "path: /content/sampleimage/armas (69).jpg\n",
            "/content/sampleimage/\n",
            "armas (49).jpg\n",
            "path: /content/sampleimage/armas (49).jpg\n",
            "/content/sampleimage/\n",
            "armas (16).jpg\n",
            "path: /content/sampleimage/armas (16).jpg\n",
            "/content/sampleimage/\n",
            "armas (35).jpg\n",
            "path: /content/sampleimage/armas (35).jpg\n",
            "/content/sampleimage/\n",
            "armas (22).jpg\n",
            "path: /content/sampleimage/armas (22).jpg\n",
            "/content/sampleimage/\n",
            "armas (31).jpg\n",
            "path: /content/sampleimage/armas (31).jpg\n",
            "/content/sampleimage/\n",
            "armas (61).jpg\n",
            "path: /content/sampleimage/armas (61).jpg\n",
            "/content/sampleimage/\n",
            "armas (80).jpg\n",
            "path: /content/sampleimage/armas (80).jpg\n",
            "/content/sampleimage/\n",
            "armas (13).jpg\n",
            "path: /content/sampleimage/armas (13).jpg\n",
            "/content/sampleimage/\n",
            "armas (60).jpg\n",
            "path: /content/sampleimage/armas (60).jpg\n",
            "/content/sampleimage/\n",
            "armas (65).jpg\n",
            "path: /content/sampleimage/armas (65).jpg\n",
            "step 2 - loss 109.24282836914062 - moving ave loss 109.46555557250977\n",
            "/content/sampleimage/\n",
            "armas (21).jpg\n",
            "path: /content/sampleimage/armas (21).jpg\n",
            "/content/sampleimage/\n",
            "armas (15).jpg\n",
            "path: /content/sampleimage/armas (15).jpg\n",
            "/content/sampleimage/\n",
            "armas (27).jpg\n",
            "path: /content/sampleimage/armas (27).jpg\n",
            "/content/sampleimage/\n",
            "armas (75).jpg\n",
            "path: /content/sampleimage/armas (75).jpg\n",
            "/content/sampleimage/\n",
            "armas (26).jpg\n",
            "path: /content/sampleimage/armas (26).jpg\n",
            "/content/sampleimage/\n",
            "armas (50).jpg\n",
            "path: /content/sampleimage/armas (50).jpg\n",
            "/content/sampleimage/\n",
            "armas (23).jpg\n",
            "path: /content/sampleimage/armas (23).jpg\n",
            "/content/sampleimage/\n",
            "armas (64).jpg\n",
            "path: /content/sampleimage/armas (64).jpg\n",
            "/content/sampleimage/\n",
            "armas (48).jpg\n",
            "path: /content/sampleimage/armas (48).jpg\n",
            "/content/sampleimage/\n",
            "armas (33).jpg\n",
            "path: /content/sampleimage/armas (33).jpg\n",
            "/content/sampleimage/\n",
            "armas (46).jpg\n",
            "path: /content/sampleimage/armas (46).jpg\n",
            "/content/sampleimage/\n",
            "armas (52).jpg\n",
            "path: /content/sampleimage/armas (52).jpg\n",
            "/content/sampleimage/\n",
            "armas (70).jpg\n",
            "path: /content/sampleimage/armas (70).jpg\n",
            "/content/sampleimage/\n",
            "armas (89).jpg\n",
            "path: /content/sampleimage/armas (89).jpg\n",
            "/content/sampleimage/\n",
            "armas (44).jpg\n",
            "path: /content/sampleimage/armas (44).jpg\n",
            "/content/sampleimage/\n",
            "armas (40).jpg\n",
            "path: /content/sampleimage/armas (40).jpg\n",
            "step 3 - loss 108.53929138183594 - moving ave loss 109.37292915344239\n",
            "/content/sampleimage/\n",
            "armas (34).jpg\n",
            "path: /content/sampleimage/armas (34).jpg\n",
            "/content/sampleimage/\n",
            "armas (84).jpg\n",
            "path: /content/sampleimage/armas (84).jpg\n",
            "/content/sampleimage/\n",
            "armas (57).jpg\n",
            "path: /content/sampleimage/armas (57).jpg\n",
            "/content/sampleimage/\n",
            "armas (59).jpg\n",
            "path: /content/sampleimage/armas (59).jpg\n",
            "/content/sampleimage/\n",
            "armas (47).jpg\n",
            "path: /content/sampleimage/armas (47).jpg\n",
            "/content/sampleimage/\n",
            "armas (62).jpg\n",
            "path: /content/sampleimage/armas (62).jpg\n",
            "/content/sampleimage/\n",
            "armas (24).jpg\n",
            "path: /content/sampleimage/armas (24).jpg\n",
            "/content/sampleimage/\n",
            "armas (54).jpg\n",
            "path: /content/sampleimage/armas (54).jpg\n",
            "/content/sampleimage/\n",
            "armas (67).jpg\n",
            "path: /content/sampleimage/armas (67).jpg\n",
            "/content/sampleimage/\n",
            "armas (11).jpg\n",
            "path: /content/sampleimage/armas (11).jpg\n",
            "/content/sampleimage/\n",
            "armas (76).jpg\n",
            "path: /content/sampleimage/armas (76).jpg\n",
            "/content/sampleimage/\n",
            "armas (29).jpg\n",
            "path: /content/sampleimage/armas (29).jpg\n",
            "/content/sampleimage/\n",
            "armas (83).jpg\n",
            "path: /content/sampleimage/armas (83).jpg\n",
            "/content/sampleimage/\n",
            "armas (82).jpg\n",
            "path: /content/sampleimage/armas (82).jpg\n",
            "/content/sampleimage/\n",
            "armas (17).jpg\n",
            "path: /content/sampleimage/armas (17).jpg\n",
            "/content/sampleimage/\n",
            "armas (19).jpg\n",
            "path: /content/sampleimage/armas (19).jpg\n",
            "step 4 - loss 108.29096984863281 - moving ave loss 109.26473322296144\n",
            "/content/sampleimage/\n",
            "armas (58).jpg\n",
            "path: /content/sampleimage/armas (58).jpg\n",
            "/content/sampleimage/\n",
            "armas (20).jpg\n",
            "path: /content/sampleimage/armas (20).jpg\n",
            "/content/sampleimage/\n",
            "armas (85).jpg\n",
            "path: /content/sampleimage/armas (85).jpg\n",
            "/content/sampleimage/\n",
            "armas (45).jpg\n",
            "path: /content/sampleimage/armas (45).jpg\n",
            "/content/sampleimage/\n",
            "armas (78).jpg\n",
            "path: /content/sampleimage/armas (78).jpg\n",
            "/content/sampleimage/\n",
            "armas (77).jpg\n",
            "path: /content/sampleimage/armas (77).jpg\n",
            "/content/sampleimage/\n",
            "armas (90).jpg\n",
            "path: /content/sampleimage/armas (90).jpg\n",
            "/content/sampleimage/\n",
            "armas (38).jpg\n",
            "path: /content/sampleimage/armas (38).jpg\n",
            "/content/sampleimage/\n",
            "armas (43).jpg\n",
            "path: /content/sampleimage/armas (43).jpg\n",
            "/content/sampleimage/\n",
            "armas (39).jpg\n",
            "path: /content/sampleimage/armas (39).jpg\n",
            "/content/sampleimage/\n",
            "armas (71).jpg\n",
            "path: /content/sampleimage/armas (71).jpg\n",
            "/content/sampleimage/\n",
            "armas (25).jpg\n",
            "path: /content/sampleimage/armas (25).jpg\n",
            "/content/sampleimage/\n",
            "armas (73).jpg\n",
            "path: /content/sampleimage/armas (73).jpg\n",
            "/content/sampleimage/\n",
            "armas (53).jpg\n",
            "path: /content/sampleimage/armas (53).jpg\n",
            "/content/sampleimage/\n",
            "armas (87).jpg\n",
            "path: /content/sampleimage/armas (87).jpg\n",
            "/content/sampleimage/\n",
            "armas (63).jpg\n",
            "path: /content/sampleimage/armas (63).jpg\n",
            "step 5 - loss 107.62228393554688 - moving ave loss 109.10048829421999\n",
            "Finish 1 epoch(es)\n",
            "/content/sampleimage/\n",
            "armas (45).jpg\n",
            "path: /content/sampleimage/armas (45).jpg\n",
            "/content/sampleimage/\n",
            "armas (22).jpg\n",
            "path: /content/sampleimage/armas (22).jpg\n",
            "/content/sampleimage/\n",
            "armas (43).jpg\n",
            "path: /content/sampleimage/armas (43).jpg\n",
            "/content/sampleimage/\n",
            "armas (88).jpg\n",
            "path: /content/sampleimage/armas (88).jpg\n",
            "/content/sampleimage/\n",
            "armas (23).jpg\n",
            "path: /content/sampleimage/armas (23).jpg\n",
            "/content/sampleimage/\n",
            "armas (84).jpg\n",
            "path: /content/sampleimage/armas (84).jpg\n",
            "/content/sampleimage/\n",
            "armas (16).jpg\n",
            "path: /content/sampleimage/armas (16).jpg\n",
            "/content/sampleimage/\n",
            "armas (89).jpg\n",
            "path: /content/sampleimage/armas (89).jpg\n",
            "/content/sampleimage/\n",
            "armas (33).jpg\n",
            "path: /content/sampleimage/armas (33).jpg\n",
            "/content/sampleimage/\n",
            "armas (51).jpg\n",
            "path: /content/sampleimage/armas (51).jpg\n",
            "/content/sampleimage/\n",
            "armas (39).jpg\n",
            "path: /content/sampleimage/armas (39).jpg\n",
            "/content/sampleimage/\n",
            "armas (87).jpg\n",
            "path: /content/sampleimage/armas (87).jpg\n",
            "/content/sampleimage/\n",
            "armas (21).jpg\n",
            "path: /content/sampleimage/armas (21).jpg\n",
            "/content/sampleimage/\n",
            "armas (15).jpg\n",
            "path: /content/sampleimage/armas (15).jpg\n",
            "/content/sampleimage/\n",
            "armas (79).jpg\n",
            "path: /content/sampleimage/armas (79).jpg\n",
            "/content/sampleimage/\n",
            "armas (44).jpg\n",
            "path: /content/sampleimage/armas (44).jpg\n",
            "step 6 - loss 106.76498413085938 - moving ave loss 108.86693787788393\n",
            "/content/sampleimage/\n",
            "armas (13).jpg\n",
            "path: /content/sampleimage/armas (13).jpg\n",
            "/content/sampleimage/\n",
            "armas (32).jpg\n",
            "path: /content/sampleimage/armas (32).jpg\n",
            "/content/sampleimage/\n",
            "armas (72).jpg\n",
            "path: /content/sampleimage/armas (72).jpg\n",
            "/content/sampleimage/\n",
            "armas (60).jpg\n",
            "path: /content/sampleimage/armas (60).jpg\n",
            "/content/sampleimage/\n",
            "armas (67).jpg\n",
            "path: /content/sampleimage/armas (67).jpg\n",
            "/content/sampleimage/\n",
            "armas (41).jpg\n",
            "path: /content/sampleimage/armas (41).jpg\n",
            "/content/sampleimage/\n",
            "armas (82).jpg\n",
            "path: /content/sampleimage/armas (82).jpg\n",
            "/content/sampleimage/\n",
            "armas (55).jpg\n",
            "path: /content/sampleimage/armas (55).jpg\n",
            "/content/sampleimage/\n",
            "armas (26).jpg\n",
            "path: /content/sampleimage/armas (26).jpg\n",
            "/content/sampleimage/\n",
            "armas (61).jpg\n",
            "path: /content/sampleimage/armas (61).jpg\n",
            "/content/sampleimage/\n",
            "armas (48).jpg\n",
            "path: /content/sampleimage/armas (48).jpg\n",
            "/content/sampleimage/\n",
            "armas (10).jpg\n",
            "path: /content/sampleimage/armas (10).jpg\n",
            "/content/sampleimage/\n",
            "armas (50).jpg\n",
            "path: /content/sampleimage/armas (50).jpg\n",
            "/content/sampleimage/\n",
            "armas (73).jpg\n",
            "path: /content/sampleimage/armas (73).jpg\n",
            "/content/sampleimage/\n",
            "armas (62).jpg\n",
            "path: /content/sampleimage/armas (62).jpg\n",
            "/content/sampleimage/\n",
            "armas (40).jpg\n",
            "path: /content/sampleimage/armas (40).jpg\n",
            "step 7 - loss 106.6376953125 - moving ave loss 108.64401362134554\n",
            "/content/sampleimage/\n",
            "armas (66).jpg\n",
            "path: /content/sampleimage/armas (66).jpg\n",
            "/content/sampleimage/\n",
            "armas (31).jpg\n",
            "path: /content/sampleimage/armas (31).jpg\n",
            "/content/sampleimage/\n",
            "armas (28).jpg\n",
            "path: /content/sampleimage/armas (28).jpg\n",
            "/content/sampleimage/\n",
            "armas (71).jpg\n",
            "path: /content/sampleimage/armas (71).jpg\n",
            "/content/sampleimage/\n",
            "armas (20).jpg\n",
            "path: /content/sampleimage/armas (20).jpg\n",
            "/content/sampleimage/\n",
            "armas (70).jpg\n",
            "path: /content/sampleimage/armas (70).jpg\n",
            "/content/sampleimage/\n",
            "armas (25).jpg\n",
            "path: /content/sampleimage/armas (25).jpg\n",
            "/content/sampleimage/\n",
            "armas (37).jpg\n",
            "path: /content/sampleimage/armas (37).jpg\n",
            "/content/sampleimage/\n",
            "armas (63).jpg\n",
            "path: /content/sampleimage/armas (63).jpg\n",
            "/content/sampleimage/\n",
            "armas (11).jpg\n",
            "path: /content/sampleimage/armas (11).jpg\n",
            "/content/sampleimage/\n",
            "armas (46).jpg\n",
            "path: /content/sampleimage/armas (46).jpg\n",
            "/content/sampleimage/\n",
            "armas (75).jpg\n",
            "path: /content/sampleimage/armas (75).jpg\n",
            "/content/sampleimage/\n",
            "armas (64).jpg\n",
            "path: /content/sampleimage/armas (64).jpg\n",
            "/content/sampleimage/\n",
            "armas (76).jpg\n",
            "path: /content/sampleimage/armas (76).jpg\n",
            "/content/sampleimage/\n",
            "armas (42).jpg\n",
            "path: /content/sampleimage/armas (42).jpg\n",
            "/content/sampleimage/\n",
            "armas (59).jpg\n",
            "path: /content/sampleimage/armas (59).jpg\n",
            "step 8 - loss 106.15451049804688 - moving ave loss 108.39506330901567\n",
            "/content/sampleimage/\n",
            "armas (38).jpg\n",
            "path: /content/sampleimage/armas (38).jpg\n",
            "/content/sampleimage/\n",
            "armas (30).jpg\n",
            "path: /content/sampleimage/armas (30).jpg\n",
            "/content/sampleimage/\n",
            "armas (29).jpg\n",
            "path: /content/sampleimage/armas (29).jpg\n",
            "/content/sampleimage/\n",
            "armas (54).jpg\n",
            "path: /content/sampleimage/armas (54).jpg\n",
            "/content/sampleimage/\n",
            "armas (77).jpg\n",
            "path: /content/sampleimage/armas (77).jpg\n",
            "/content/sampleimage/\n",
            "armas (74).jpg\n",
            "path: /content/sampleimage/armas (74).jpg\n",
            "/content/sampleimage/\n",
            "armas (81).jpg\n",
            "path: /content/sampleimage/armas (81).jpg\n",
            "/content/sampleimage/\n",
            "armas (69).jpg\n",
            "path: /content/sampleimage/armas (69).jpg\n",
            "/content/sampleimage/\n",
            "armas (14).jpg\n",
            "path: /content/sampleimage/armas (14).jpg\n",
            "/content/sampleimage/\n",
            "armas (85).jpg\n",
            "path: /content/sampleimage/armas (85).jpg\n",
            "/content/sampleimage/\n",
            "armas (18).jpg\n",
            "path: /content/sampleimage/armas (18).jpg\n",
            "/content/sampleimage/\n",
            "armas (36).jpg\n",
            "path: /content/sampleimage/armas (36).jpg\n",
            "/content/sampleimage/\n",
            "armas (83).jpg\n",
            "path: /content/sampleimage/armas (83).jpg\n",
            "/content/sampleimage/\n",
            "armas (24).jpg\n",
            "path: /content/sampleimage/armas (24).jpg\n",
            "/content/sampleimage/\n",
            "armas (52).jpg\n",
            "path: /content/sampleimage/armas (52).jpg\n",
            "/content/sampleimage/\n",
            "armas (86).jpg\n",
            "path: /content/sampleimage/armas (86).jpg\n",
            "step 9 - loss 105.37117004394531 - moving ave loss 108.09267398250863\n",
            "/content/sampleimage/\n",
            "armas (35).jpg\n",
            "path: /content/sampleimage/armas (35).jpg\n",
            "/content/sampleimage/\n",
            "armas (58).jpg\n",
            "path: /content/sampleimage/armas (58).jpg\n",
            "/content/sampleimage/\n",
            "armas (27).jpg\n",
            "path: /content/sampleimage/armas (27).jpg\n",
            "/content/sampleimage/\n",
            "armas (47).jpg\n",
            "path: /content/sampleimage/armas (47).jpg\n",
            "/content/sampleimage/\n",
            "armas (65).jpg\n",
            "path: /content/sampleimage/armas (65).jpg\n",
            "/content/sampleimage/\n",
            "armas (34).jpg\n",
            "path: /content/sampleimage/armas (34).jpg\n",
            "/content/sampleimage/\n",
            "armas (68).jpg\n",
            "path: /content/sampleimage/armas (68).jpg\n",
            "/content/sampleimage/\n",
            "armas (78).jpg\n",
            "path: /content/sampleimage/armas (78).jpg\n",
            "/content/sampleimage/\n",
            "armas (57).jpg\n",
            "path: /content/sampleimage/armas (57).jpg\n",
            "/content/sampleimage/\n",
            "armas (12).jpg\n",
            "path: /content/sampleimage/armas (12).jpg\n",
            "/content/sampleimage/\n",
            "armas (19).jpg\n",
            "path: /content/sampleimage/armas (19).jpg\n",
            "/content/sampleimage/\n",
            "armas (80).jpg\n",
            "path: /content/sampleimage/armas (80).jpg\n",
            "/content/sampleimage/\n",
            "armas (90).jpg\n",
            "path: /content/sampleimage/armas (90).jpg\n",
            "/content/sampleimage/\n",
            "armas (17).jpg\n",
            "path: /content/sampleimage/armas (17).jpg\n",
            "/content/sampleimage/\n",
            "armas (49).jpg\n",
            "path: /content/sampleimage/armas (49).jpg\n",
            "/content/sampleimage/\n",
            "armas (56).jpg\n",
            "path: /content/sampleimage/armas (56).jpg\n",
            "step 10 - loss 105.05938720703125 - moving ave loss 107.78934530496089\n",
            "Finish 2 epoch(es)\n",
            "/content/sampleimage/\n",
            "armas (70).jpg\n",
            "path: /content/sampleimage/armas (70).jpg\n",
            "/content/sampleimage/\n",
            "armas (83).jpg\n",
            "path: /content/sampleimage/armas (83).jpg\n",
            "/content/sampleimage/\n",
            "armas (66).jpg\n",
            "path: /content/sampleimage/armas (66).jpg\n",
            "/content/sampleimage/\n",
            "armas (65).jpg\n",
            "path: /content/sampleimage/armas (65).jpg\n",
            "/content/sampleimage/\n",
            "armas (47).jpg\n",
            "path: /content/sampleimage/armas (47).jpg\n",
            "/content/sampleimage/\n",
            "armas (29).jpg\n",
            "path: /content/sampleimage/armas (29).jpg\n",
            "/content/sampleimage/\n",
            "armas (67).jpg\n",
            "path: /content/sampleimage/armas (67).jpg\n",
            "/content/sampleimage/\n",
            "armas (34).jpg\n",
            "path: /content/sampleimage/armas (34).jpg\n",
            "/content/sampleimage/\n",
            "armas (18).jpg\n",
            "path: /content/sampleimage/armas (18).jpg\n",
            "/content/sampleimage/\n",
            "armas (30).jpg\n",
            "path: /content/sampleimage/armas (30).jpg\n",
            "/content/sampleimage/\n",
            "armas (51).jpg\n",
            "path: /content/sampleimage/armas (51).jpg\n",
            "/content/sampleimage/\n",
            "armas (89).jpg\n",
            "path: /content/sampleimage/armas (89).jpg\n",
            "/content/sampleimage/\n",
            "armas (17).jpg\n",
            "path: /content/sampleimage/armas (17).jpg\n",
            "/content/sampleimage/\n",
            "armas (45).jpg\n",
            "path: /content/sampleimage/armas (45).jpg\n",
            "/content/sampleimage/\n",
            "armas (33).jpg\n",
            "path: /content/sampleimage/armas (33).jpg\n",
            "/content/sampleimage/\n",
            "armas (86).jpg\n",
            "path: /content/sampleimage/armas (86).jpg\n",
            "step 11 - loss 104.29937744140625 - moving ave loss 107.44034851860543\n",
            "/content/sampleimage/\n",
            "armas (52).jpg\n",
            "path: /content/sampleimage/armas (52).jpg\n",
            "/content/sampleimage/\n",
            "armas (19).jpg\n",
            "path: /content/sampleimage/armas (19).jpg\n",
            "/content/sampleimage/\n",
            "armas (72).jpg\n",
            "path: /content/sampleimage/armas (72).jpg\n",
            "/content/sampleimage/\n",
            "armas (40).jpg\n",
            "path: /content/sampleimage/armas (40).jpg\n",
            "/content/sampleimage/\n",
            "armas (49).jpg\n",
            "path: /content/sampleimage/armas (49).jpg\n",
            "/content/sampleimage/\n",
            "armas (53).jpg\n",
            "path: /content/sampleimage/armas (53).jpg\n",
            "/content/sampleimage/\n",
            "armas (46).jpg\n",
            "path: /content/sampleimage/armas (46).jpg\n",
            "/content/sampleimage/\n",
            "armas (60).jpg\n",
            "path: /content/sampleimage/armas (60).jpg\n",
            "/content/sampleimage/\n",
            "armas (24).jpg\n",
            "path: /content/sampleimage/armas (24).jpg\n",
            "/content/sampleimage/\n",
            "armas (31).jpg\n",
            "path: /content/sampleimage/armas (31).jpg\n",
            "/content/sampleimage/\n",
            "armas (71).jpg\n",
            "path: /content/sampleimage/armas (71).jpg\n",
            "/content/sampleimage/\n",
            "armas (20).jpg\n",
            "path: /content/sampleimage/armas (20).jpg\n",
            "/content/sampleimage/\n",
            "armas (50).jpg\n",
            "path: /content/sampleimage/armas (50).jpg\n",
            "/content/sampleimage/\n",
            "armas (15).jpg\n",
            "path: /content/sampleimage/armas (15).jpg\n",
            "/content/sampleimage/\n",
            "armas (35).jpg\n",
            "path: /content/sampleimage/armas (35).jpg\n",
            "/content/sampleimage/\n",
            "armas (26).jpg\n",
            "path: /content/sampleimage/armas (26).jpg\n",
            "step 12 - loss 104.124267578125 - moving ave loss 107.10874042455738\n",
            "/content/sampleimage/\n",
            "armas (14).jpg\n",
            "path: /content/sampleimage/armas (14).jpg\n",
            "/content/sampleimage/\n",
            "armas (39).jpg\n",
            "path: /content/sampleimage/armas (39).jpg\n",
            "/content/sampleimage/\n",
            "armas (61).jpg\n",
            "path: /content/sampleimage/armas (61).jpg\n",
            "/content/sampleimage/\n",
            "armas (78).jpg\n",
            "path: /content/sampleimage/armas (78).jpg\n",
            "/content/sampleimage/\n",
            "armas (37).jpg\n",
            "path: /content/sampleimage/armas (37).jpg\n",
            "/content/sampleimage/\n",
            "armas (32).jpg\n",
            "path: /content/sampleimage/armas (32).jpg\n",
            "/content/sampleimage/\n",
            "armas (16).jpg\n",
            "path: /content/sampleimage/armas (16).jpg\n",
            "/content/sampleimage/\n",
            "armas (77).jpg\n",
            "path: /content/sampleimage/armas (77).jpg\n",
            "/content/sampleimage/\n",
            "armas (28).jpg\n",
            "path: /content/sampleimage/armas (28).jpg\n",
            "/content/sampleimage/\n",
            "armas (87).jpg\n",
            "path: /content/sampleimage/armas (87).jpg\n",
            "/content/sampleimage/\n",
            "armas (36).jpg\n",
            "path: /content/sampleimage/armas (36).jpg\n",
            "/content/sampleimage/\n",
            "armas (85).jpg\n",
            "path: /content/sampleimage/armas (85).jpg\n",
            "/content/sampleimage/\n",
            "armas (48).jpg\n",
            "path: /content/sampleimage/armas (48).jpg\n",
            "/content/sampleimage/\n",
            "armas (54).jpg\n",
            "path: /content/sampleimage/armas (54).jpg\n",
            "/content/sampleimage/\n",
            "armas (42).jpg\n",
            "path: /content/sampleimage/armas (42).jpg\n",
            "/content/sampleimage/\n",
            "armas (69).jpg\n",
            "path: /content/sampleimage/armas (69).jpg\n",
            "step 13 - loss 103.4393081665039 - moving ave loss 106.74179719875204\n",
            "/content/sampleimage/\n",
            "armas (68).jpg\n",
            "path: /content/sampleimage/armas (68).jpg\n",
            "/content/sampleimage/\n",
            "armas (90).jpg\n",
            "path: /content/sampleimage/armas (90).jpg\n",
            "/content/sampleimage/\n",
            "armas (10).jpg\n",
            "path: /content/sampleimage/armas (10).jpg\n",
            "/content/sampleimage/\n",
            "armas (79).jpg\n",
            "path: /content/sampleimage/armas (79).jpg\n",
            "/content/sampleimage/\n",
            "armas (81).jpg\n",
            "path: /content/sampleimage/armas (81).jpg\n",
            "/content/sampleimage/\n",
            "armas (64).jpg\n",
            "path: /content/sampleimage/armas (64).jpg\n",
            "/content/sampleimage/\n",
            "armas (62).jpg\n",
            "path: /content/sampleimage/armas (62).jpg\n",
            "/content/sampleimage/\n",
            "armas (84).jpg\n",
            "path: /content/sampleimage/armas (84).jpg\n",
            "/content/sampleimage/\n",
            "armas (41).jpg\n",
            "path: /content/sampleimage/armas (41).jpg\n",
            "/content/sampleimage/\n",
            "armas (76).jpg\n",
            "path: /content/sampleimage/armas (76).jpg\n",
            "/content/sampleimage/\n",
            "armas (25).jpg\n",
            "path: /content/sampleimage/armas (25).jpg\n",
            "/content/sampleimage/\n",
            "armas (57).jpg\n",
            "path: /content/sampleimage/armas (57).jpg\n",
            "/content/sampleimage/\n",
            "armas (38).jpg\n",
            "path: /content/sampleimage/armas (38).jpg\n",
            "/content/sampleimage/\n",
            "armas (80).jpg\n",
            "path: /content/sampleimage/armas (80).jpg\n",
            "/content/sampleimage/\n",
            "armas (11).jpg\n",
            "path: /content/sampleimage/armas (11).jpg\n",
            "/content/sampleimage/\n",
            "armas (88).jpg\n",
            "path: /content/sampleimage/armas (88).jpg\n",
            "step 14 - loss 103.39407348632812 - moving ave loss 106.40702482750966\n",
            "/content/sampleimage/\n",
            "armas (55).jpg\n",
            "path: /content/sampleimage/armas (55).jpg\n",
            "/content/sampleimage/\n",
            "armas (74).jpg\n",
            "path: /content/sampleimage/armas (74).jpg\n",
            "/content/sampleimage/\n",
            "armas (22).jpg\n",
            "path: /content/sampleimage/armas (22).jpg\n",
            "/content/sampleimage/\n",
            "armas (73).jpg\n",
            "path: /content/sampleimage/armas (73).jpg\n",
            "/content/sampleimage/\n",
            "armas (59).jpg\n",
            "path: /content/sampleimage/armas (59).jpg\n",
            "/content/sampleimage/\n",
            "armas (56).jpg\n",
            "path: /content/sampleimage/armas (56).jpg\n",
            "/content/sampleimage/\n",
            "armas (21).jpg\n",
            "path: /content/sampleimage/armas (21).jpg\n",
            "/content/sampleimage/\n",
            "armas (13).jpg\n",
            "path: /content/sampleimage/armas (13).jpg\n",
            "/content/sampleimage/\n",
            "armas (44).jpg\n",
            "path: /content/sampleimage/armas (44).jpg\n",
            "/content/sampleimage/\n",
            "armas (75).jpg\n",
            "path: /content/sampleimage/armas (75).jpg\n",
            "/content/sampleimage/\n",
            "armas (23).jpg\n",
            "path: /content/sampleimage/armas (23).jpg\n",
            "/content/sampleimage/\n",
            "armas (63).jpg\n",
            "path: /content/sampleimage/armas (63).jpg\n",
            "/content/sampleimage/\n",
            "armas (82).jpg\n",
            "path: /content/sampleimage/armas (82).jpg\n",
            "/content/sampleimage/\n",
            "armas (12).jpg\n",
            "path: /content/sampleimage/armas (12).jpg\n",
            "/content/sampleimage/\n",
            "armas (27).jpg\n",
            "path: /content/sampleimage/armas (27).jpg\n",
            "/content/sampleimage/\n",
            "armas (43).jpg\n",
            "path: /content/sampleimage/armas (43).jpg\n",
            "step 15 - loss 102.72857666015625 - moving ave loss 106.03918001077432\n",
            "Finish 3 epoch(es)\n",
            "/content/sampleimage/\n",
            "armas (75).jpg\n",
            "path: /content/sampleimage/armas (75).jpg\n",
            "/content/sampleimage/\n",
            "armas (43).jpg\n",
            "path: /content/sampleimage/armas (43).jpg\n",
            "/content/sampleimage/\n",
            "armas (85).jpg\n",
            "path: /content/sampleimage/armas (85).jpg\n",
            "/content/sampleimage/\n",
            "armas (31).jpg\n",
            "path: /content/sampleimage/armas (31).jpg\n",
            "/content/sampleimage/\n",
            "armas (83).jpg\n",
            "path: /content/sampleimage/armas (83).jpg\n",
            "/content/sampleimage/\n",
            "armas (67).jpg\n",
            "path: /content/sampleimage/armas (67).jpg\n",
            "/content/sampleimage/\n",
            "armas (37).jpg\n",
            "path: /content/sampleimage/armas (37).jpg\n",
            "/content/sampleimage/\n",
            "armas (13).jpg\n",
            "path: /content/sampleimage/armas (13).jpg\n",
            "/content/sampleimage/\n",
            "armas (87).jpg\n",
            "path: /content/sampleimage/armas (87).jpg\n",
            "/content/sampleimage/\n",
            "armas (53).jpg\n",
            "path: /content/sampleimage/armas (53).jpg\n",
            "/content/sampleimage/\n",
            "armas (59).jpg\n",
            "path: /content/sampleimage/armas (59).jpg\n",
            "/content/sampleimage/\n",
            "armas (88).jpg\n",
            "path: /content/sampleimage/armas (88).jpg\n",
            "/content/sampleimage/\n",
            "armas (86).jpg\n",
            "path: /content/sampleimage/armas (86).jpg\n",
            "/content/sampleimage/\n",
            "armas (10).jpg\n",
            "path: /content/sampleimage/armas (10).jpg\n",
            "/content/sampleimage/\n",
            "armas (89).jpg\n",
            "path: /content/sampleimage/armas (89).jpg\n",
            "/content/sampleimage/\n",
            "armas (78).jpg\n",
            "path: /content/sampleimage/armas (78).jpg\n",
            "step 16 - loss 102.0761947631836 - moving ave loss 105.64288148601524\n",
            "/content/sampleimage/\n",
            "armas (84).jpg\n",
            "path: /content/sampleimage/armas (84).jpg\n",
            "/content/sampleimage/\n",
            "armas (50).jpg\n",
            "path: /content/sampleimage/armas (50).jpg\n",
            "/content/sampleimage/\n",
            "armas (68).jpg\n",
            "path: /content/sampleimage/armas (68).jpg\n",
            "/content/sampleimage/\n",
            "armas (71).jpg\n",
            "path: /content/sampleimage/armas (71).jpg\n",
            "/content/sampleimage/\n",
            "armas (39).jpg\n",
            "path: /content/sampleimage/armas (39).jpg\n",
            "/content/sampleimage/\n",
            "armas (56).jpg\n",
            "path: /content/sampleimage/armas (56).jpg\n",
            "/content/sampleimage/\n",
            "armas (54).jpg\n",
            "path: /content/sampleimage/armas (54).jpg\n",
            "/content/sampleimage/\n",
            "armas (38).jpg\n",
            "path: /content/sampleimage/armas (38).jpg\n",
            "/content/sampleimage/\n",
            "armas (29).jpg\n",
            "path: /content/sampleimage/armas (29).jpg\n",
            "/content/sampleimage/\n",
            "armas (64).jpg\n",
            "path: /content/sampleimage/armas (64).jpg\n",
            "/content/sampleimage/\n",
            "armas (24).jpg\n",
            "path: /content/sampleimage/armas (24).jpg\n",
            "/content/sampleimage/\n",
            "armas (69).jpg\n",
            "path: /content/sampleimage/armas (69).jpg\n",
            "/content/sampleimage/\n",
            "armas (33).jpg\n",
            "path: /content/sampleimage/armas (33).jpg\n",
            "/content/sampleimage/\n",
            "armas (15).jpg\n",
            "path: /content/sampleimage/armas (15).jpg\n",
            "/content/sampleimage/\n",
            "armas (34).jpg\n",
            "path: /content/sampleimage/armas (34).jpg\n",
            "/content/sampleimage/\n",
            "armas (26).jpg\n",
            "path: /content/sampleimage/armas (26).jpg\n",
            "step 17 - loss 101.67222595214844 - moving ave loss 105.24581593262857\n",
            "/content/sampleimage/\n",
            "armas (21).jpg\n",
            "path: /content/sampleimage/armas (21).jpg\n",
            "/content/sampleimage/\n",
            "armas (58).jpg\n",
            "path: /content/sampleimage/armas (58).jpg\n",
            "/content/sampleimage/\n",
            "armas (90).jpg\n",
            "path: /content/sampleimage/armas (90).jpg\n",
            "/content/sampleimage/\n",
            "armas (12).jpg\n",
            "path: /content/sampleimage/armas (12).jpg\n",
            "/content/sampleimage/\n",
            "armas (23).jpg\n",
            "path: /content/sampleimage/armas (23).jpg\n",
            "/content/sampleimage/\n",
            "armas (55).jpg\n",
            "path: /content/sampleimage/armas (55).jpg\n",
            "/content/sampleimage/\n",
            "armas (77).jpg\n",
            "path: /content/sampleimage/armas (77).jpg\n",
            "/content/sampleimage/\n",
            "armas (17).jpg\n",
            "path: /content/sampleimage/armas (17).jpg\n",
            "/content/sampleimage/\n",
            "armas (16).jpg\n",
            "path: /content/sampleimage/armas (16).jpg\n",
            "/content/sampleimage/\n",
            "armas (52).jpg\n",
            "path: /content/sampleimage/armas (52).jpg\n",
            "/content/sampleimage/\n",
            "armas (14).jpg\n",
            "path: /content/sampleimage/armas (14).jpg\n",
            "/content/sampleimage/\n",
            "armas (32).jpg\n",
            "path: /content/sampleimage/armas (32).jpg\n",
            "/content/sampleimage/\n",
            "armas (41).jpg\n",
            "path: /content/sampleimage/armas (41).jpg\n",
            "/content/sampleimage/\n",
            "armas (42).jpg\n",
            "path: /content/sampleimage/armas (42).jpg\n",
            "/content/sampleimage/\n",
            "armas (81).jpg\n",
            "path: /content/sampleimage/armas (81).jpg\n",
            "/content/sampleimage/\n",
            "armas (25).jpg\n",
            "path: /content/sampleimage/armas (25).jpg\n",
            "step 18 - loss 100.95089721679688 - moving ave loss 104.8163240610454\n",
            "/content/sampleimage/\n",
            "armas (76).jpg\n",
            "path: /content/sampleimage/armas (76).jpg\n",
            "/content/sampleimage/\n",
            "armas (19).jpg\n",
            "path: /content/sampleimage/armas (19).jpg\n",
            "/content/sampleimage/\n",
            "armas (20).jpg\n",
            "path: /content/sampleimage/armas (20).jpg\n",
            "/content/sampleimage/\n",
            "armas (44).jpg\n",
            "path: /content/sampleimage/armas (44).jpg\n",
            "/content/sampleimage/\n",
            "armas (11).jpg\n",
            "path: /content/sampleimage/armas (11).jpg\n",
            "/content/sampleimage/\n",
            "armas (49).jpg\n",
            "path: /content/sampleimage/armas (49).jpg\n",
            "/content/sampleimage/\n",
            "armas (80).jpg\n",
            "path: /content/sampleimage/armas (80).jpg\n",
            "/content/sampleimage/\n",
            "armas (22).jpg\n",
            "path: /content/sampleimage/armas (22).jpg\n",
            "/content/sampleimage/\n",
            "armas (30).jpg\n",
            "path: /content/sampleimage/armas (30).jpg\n",
            "/content/sampleimage/\n",
            "armas (62).jpg\n",
            "path: /content/sampleimage/armas (62).jpg\n",
            "/content/sampleimage/\n",
            "armas (79).jpg\n",
            "path: /content/sampleimage/armas (79).jpg\n",
            "/content/sampleimage/\n",
            "armas (66).jpg\n",
            "path: /content/sampleimage/armas (66).jpg\n",
            "/content/sampleimage/\n",
            "armas (46).jpg\n",
            "path: /content/sampleimage/armas (46).jpg\n",
            "/content/sampleimage/\n",
            "armas (57).jpg\n",
            "path: /content/sampleimage/armas (57).jpg\n",
            "/content/sampleimage/\n",
            "armas (70).jpg\n",
            "path: /content/sampleimage/armas (70).jpg\n",
            "/content/sampleimage/\n",
            "armas (60).jpg\n",
            "path: /content/sampleimage/armas (60).jpg\n",
            "step 19 - loss 100.77728271484375 - moving ave loss 104.41241992642524\n",
            "/content/sampleimage/\n",
            "armas (74).jpg\n",
            "path: /content/sampleimage/armas (74).jpg\n",
            "/content/sampleimage/\n",
            "armas (18).jpg\n",
            "path: /content/sampleimage/armas (18).jpg\n",
            "/content/sampleimage/\n",
            "armas (73).jpg\n",
            "path: /content/sampleimage/armas (73).jpg\n",
            "/content/sampleimage/\n",
            "armas (27).jpg\n",
            "path: /content/sampleimage/armas (27).jpg\n",
            "/content/sampleimage/\n",
            "armas (36).jpg\n",
            "path: /content/sampleimage/armas (36).jpg\n",
            "/content/sampleimage/\n",
            "armas (40).jpg\n",
            "path: /content/sampleimage/armas (40).jpg\n",
            "/content/sampleimage/\n",
            "armas (61).jpg\n",
            "path: /content/sampleimage/armas (61).jpg\n",
            "/content/sampleimage/\n",
            "armas (28).jpg\n",
            "path: /content/sampleimage/armas (28).jpg\n",
            "/content/sampleimage/\n",
            "armas (47).jpg\n",
            "path: /content/sampleimage/armas (47).jpg\n",
            "/content/sampleimage/\n",
            "armas (45).jpg\n",
            "path: /content/sampleimage/armas (45).jpg\n",
            "/content/sampleimage/\n",
            "armas (82).jpg\n",
            "path: /content/sampleimage/armas (82).jpg\n",
            "/content/sampleimage/\n",
            "armas (63).jpg\n",
            "path: /content/sampleimage/armas (63).jpg\n",
            "/content/sampleimage/\n",
            "armas (48).jpg\n",
            "path: /content/sampleimage/armas (48).jpg\n",
            "/content/sampleimage/\n",
            "armas (51).jpg\n",
            "path: /content/sampleimage/armas (51).jpg\n",
            "/content/sampleimage/\n",
            "armas (65).jpg\n",
            "path: /content/sampleimage/armas (65).jpg\n",
            "/content/sampleimage/\n",
            "armas (72).jpg\n",
            "path: /content/sampleimage/armas (72).jpg\n",
            "step 20 - loss 100.05975341796875 - moving ave loss 103.97715327557961\n",
            "Finish 4 epoch(es)\n",
            "/content/sampleimage/\n",
            "armas (86).jpg\n",
            "path: /content/sampleimage/armas (86).jpg\n",
            "/content/sampleimage/\n",
            "armas (74).jpg\n",
            "path: /content/sampleimage/armas (74).jpg\n",
            "/content/sampleimage/\n",
            "armas (58).jpg\n",
            "path: /content/sampleimage/armas (58).jpg\n",
            "/content/sampleimage/\n",
            "armas (65).jpg\n",
            "path: /content/sampleimage/armas (65).jpg\n",
            "/content/sampleimage/\n",
            "armas (31).jpg\n",
            "path: /content/sampleimage/armas (31).jpg\n",
            "/content/sampleimage/\n",
            "armas (13).jpg\n",
            "path: /content/sampleimage/armas (13).jpg\n",
            "/content/sampleimage/\n",
            "armas (11).jpg\n",
            "path: /content/sampleimage/armas (11).jpg\n",
            "/content/sampleimage/\n",
            "armas (68).jpg\n",
            "path: /content/sampleimage/armas (68).jpg\n",
            "/content/sampleimage/\n",
            "armas (17).jpg\n",
            "path: /content/sampleimage/armas (17).jpg\n",
            "/content/sampleimage/\n",
            "armas (34).jpg\n",
            "path: /content/sampleimage/armas (34).jpg\n",
            "/content/sampleimage/\n",
            "armas (10).jpg\n",
            "path: /content/sampleimage/armas (10).jpg\n",
            "/content/sampleimage/\n",
            "armas (59).jpg\n",
            "path: /content/sampleimage/armas (59).jpg\n",
            "/content/sampleimage/\n",
            "armas (90).jpg\n",
            "path: /content/sampleimage/armas (90).jpg\n",
            "/content/sampleimage/\n",
            "armas (20).jpg\n",
            "path: /content/sampleimage/armas (20).jpg\n",
            "/content/sampleimage/\n",
            "armas (56).jpg\n",
            "path: /content/sampleimage/armas (56).jpg\n",
            "/content/sampleimage/\n",
            "armas (42).jpg\n",
            "path: /content/sampleimage/armas (42).jpg\n",
            "step 21 - loss 99.83086395263672 - moving ave loss 103.56252434328532\n",
            "/content/sampleimage/\n",
            "armas (19).jpg\n",
            "path: /content/sampleimage/armas (19).jpg\n",
            "/content/sampleimage/\n",
            "armas (62).jpg\n",
            "path: /content/sampleimage/armas (62).jpg\n",
            "/content/sampleimage/\n",
            "armas (14).jpg\n",
            "path: /content/sampleimage/armas (14).jpg\n",
            "/content/sampleimage/\n",
            "armas (82).jpg\n",
            "path: /content/sampleimage/armas (82).jpg\n",
            "/content/sampleimage/\n",
            "armas (43).jpg\n",
            "path: /content/sampleimage/armas (43).jpg\n",
            "/content/sampleimage/\n",
            "armas (75).jpg\n",
            "path: /content/sampleimage/armas (75).jpg\n",
            "/content/sampleimage/\n",
            "armas (72).jpg\n",
            "path: /content/sampleimage/armas (72).jpg\n",
            "/content/sampleimage/\n",
            "armas (89).jpg\n",
            "path: /content/sampleimage/armas (89).jpg\n",
            "/content/sampleimage/\n",
            "armas (55).jpg\n",
            "path: /content/sampleimage/armas (55).jpg\n",
            "/content/sampleimage/\n",
            "armas (71).jpg\n",
            "path: /content/sampleimage/armas (71).jpg\n",
            "/content/sampleimage/\n",
            "armas (87).jpg\n",
            "path: /content/sampleimage/armas (87).jpg\n",
            "/content/sampleimage/\n",
            "armas (26).jpg\n",
            "path: /content/sampleimage/armas (26).jpg\n",
            "/content/sampleimage/\n",
            "armas (44).jpg\n",
            "path: /content/sampleimage/armas (44).jpg\n",
            "/content/sampleimage/\n",
            "armas (41).jpg\n",
            "path: /content/sampleimage/armas (41).jpg\n",
            "/content/sampleimage/\n",
            "armas (77).jpg\n",
            "path: /content/sampleimage/armas (77).jpg\n",
            "/content/sampleimage/\n",
            "armas (64).jpg\n",
            "path: /content/sampleimage/armas (64).jpg\n",
            "step 22 - loss 99.4800033569336 - moving ave loss 103.15427224465016\n",
            "/content/sampleimage/\n",
            "armas (61).jpg\n",
            "path: /content/sampleimage/armas (61).jpg\n",
            "/content/sampleimage/\n",
            "armas (63).jpg\n",
            "path: /content/sampleimage/armas (63).jpg\n",
            "/content/sampleimage/\n",
            "armas (78).jpg\n",
            "path: /content/sampleimage/armas (78).jpg\n",
            "/content/sampleimage/\n",
            "armas (30).jpg\n",
            "path: /content/sampleimage/armas (30).jpg\n",
            "/content/sampleimage/\n",
            "armas (46).jpg\n",
            "path: /content/sampleimage/armas (46).jpg\n",
            "/content/sampleimage/\n",
            "armas (47).jpg\n",
            "path: /content/sampleimage/armas (47).jpg\n",
            "/content/sampleimage/\n",
            "armas (36).jpg\n",
            "path: /content/sampleimage/armas (36).jpg\n",
            "/content/sampleimage/\n",
            "armas (23).jpg\n",
            "path: /content/sampleimage/armas (23).jpg\n",
            "/content/sampleimage/\n",
            "armas (79).jpg\n",
            "path: /content/sampleimage/armas (79).jpg\n",
            "/content/sampleimage/\n",
            "armas (83).jpg\n",
            "path: /content/sampleimage/armas (83).jpg\n",
            "/content/sampleimage/\n",
            "armas (66).jpg\n",
            "path: /content/sampleimage/armas (66).jpg\n",
            "/content/sampleimage/\n",
            "armas (28).jpg\n",
            "path: /content/sampleimage/armas (28).jpg\n",
            "/content/sampleimage/\n",
            "armas (84).jpg\n",
            "path: /content/sampleimage/armas (84).jpg\n",
            "/content/sampleimage/\n",
            "armas (54).jpg\n",
            "path: /content/sampleimage/armas (54).jpg\n",
            "/content/sampleimage/\n",
            "armas (15).jpg\n",
            "path: /content/sampleimage/armas (15).jpg\n",
            "/content/sampleimage/\n",
            "armas (69).jpg\n",
            "path: /content/sampleimage/armas (69).jpg\n",
            "step 23 - loss 98.61489868164062 - moving ave loss 102.7003348883492\n",
            "/content/sampleimage/\n",
            "armas (33).jpg\n",
            "path: /content/sampleimage/armas (33).jpg\n",
            "/content/sampleimage/\n",
            "armas (53).jpg\n",
            "path: /content/sampleimage/armas (53).jpg\n",
            "/content/sampleimage/\n",
            "armas (52).jpg\n",
            "path: /content/sampleimage/armas (52).jpg\n",
            "/content/sampleimage/\n",
            "armas (32).jpg\n",
            "path: /content/sampleimage/armas (32).jpg\n",
            "/content/sampleimage/\n",
            "armas (50).jpg\n",
            "path: /content/sampleimage/armas (50).jpg\n",
            "/content/sampleimage/\n",
            "armas (57).jpg\n",
            "path: /content/sampleimage/armas (57).jpg\n",
            "/content/sampleimage/\n",
            "armas (67).jpg\n",
            "path: /content/sampleimage/armas (67).jpg\n",
            "/content/sampleimage/\n",
            "armas (40).jpg\n",
            "path: /content/sampleimage/armas (40).jpg\n",
            "/content/sampleimage/\n",
            "armas (70).jpg\n",
            "path: /content/sampleimage/armas (70).jpg\n",
            "/content/sampleimage/\n",
            "armas (25).jpg\n",
            "path: /content/sampleimage/armas (25).jpg\n",
            "/content/sampleimage/\n",
            "armas (22).jpg\n",
            "path: /content/sampleimage/armas (22).jpg\n",
            "/content/sampleimage/\n",
            "armas (48).jpg\n",
            "path: /content/sampleimage/armas (48).jpg\n",
            "/content/sampleimage/\n",
            "armas (73).jpg\n",
            "path: /content/sampleimage/armas (73).jpg\n",
            "/content/sampleimage/\n",
            "armas (35).jpg\n",
            "path: /content/sampleimage/armas (35).jpg\n",
            "/content/sampleimage/\n",
            "armas (60).jpg\n",
            "path: /content/sampleimage/armas (60).jpg\n",
            "/content/sampleimage/\n",
            "armas (88).jpg\n",
            "path: /content/sampleimage/armas (88).jpg\n",
            "step 24 - loss 98.52352905273438 - moving ave loss 102.28265430478773\n",
            "/content/sampleimage/\n",
            "armas (24).jpg\n",
            "path: /content/sampleimage/armas (24).jpg\n",
            "/content/sampleimage/\n",
            "armas (45).jpg\n",
            "path: /content/sampleimage/armas (45).jpg\n",
            "/content/sampleimage/\n",
            "armas (80).jpg\n",
            "path: /content/sampleimage/armas (80).jpg\n",
            "/content/sampleimage/\n",
            "armas (27).jpg\n",
            "path: /content/sampleimage/armas (27).jpg\n",
            "/content/sampleimage/\n",
            "armas (37).jpg\n",
            "path: /content/sampleimage/armas (37).jpg\n",
            "/content/sampleimage/\n",
            "armas (76).jpg\n",
            "path: /content/sampleimage/armas (76).jpg\n",
            "/content/sampleimage/\n",
            "armas (12).jpg\n",
            "path: /content/sampleimage/armas (12).jpg\n",
            "/content/sampleimage/\n",
            "armas (81).jpg\n",
            "path: /content/sampleimage/armas (81).jpg\n",
            "/content/sampleimage/\n",
            "armas (21).jpg\n",
            "path: /content/sampleimage/armas (21).jpg\n",
            "/content/sampleimage/\n",
            "armas (29).jpg\n",
            "path: /content/sampleimage/armas (29).jpg\n",
            "/content/sampleimage/\n",
            "armas (51).jpg\n",
            "path: /content/sampleimage/armas (51).jpg\n",
            "/content/sampleimage/\n",
            "armas (49).jpg\n",
            "path: /content/sampleimage/armas (49).jpg\n",
            "/content/sampleimage/\n",
            "armas (39).jpg\n",
            "path: /content/sampleimage/armas (39).jpg\n",
            "/content/sampleimage/\n",
            "armas (85).jpg\n",
            "path: /content/sampleimage/armas (85).jpg\n",
            "/content/sampleimage/\n",
            "armas (16).jpg\n",
            "path: /content/sampleimage/armas (16).jpg\n",
            "/content/sampleimage/\n",
            "armas (18).jpg\n",
            "path: /content/sampleimage/armas (18).jpg\n",
            "step 25 - loss 97.92062377929688 - moving ave loss 101.84645125223864\n",
            "Finish 5 epoch(es)\n",
            "Checkpoint at step 25\n",
            "Training finished, exit.\n"
          ],
          "name": "stdout"
        }
      ]
    },
    {
      "metadata": {
        "id": "eFiDv6rgcJqW",
        "colab_type": "code",
        "colab": {}
      },
      "cell_type": "code",
      "source": [
        "!rm -r /content/sampleimage/out\n",
        "\n"
      ],
      "execution_count": 0,
      "outputs": []
    },
    {
      "metadata": {
        "id": "f6sGGIpFutuO",
        "colab_type": "code",
        "outputId": "6bb7021e-1181-4bb8-8fab-f19e84cdc2d4",
        "colab": {
          "base_uri": "https://localhost:8080/",
          "height": 1312
        }
      },
      "cell_type": "code",
      "source": [
        "\n",
        "!python3 flow --model cfg/tiny-yolo-voc_4.cfg  \\\n",
        "    --imgdir \"/content/sampleimage/\" \\\n",
        "    --load -1 \\\n",
        "    --gpu 1.0\\\n",
        "    \n"
      ],
      "execution_count": 0,
      "outputs": [
        {
          "output_type": "stream",
          "text": [
            "\n",
            "Parsing cfg/tiny-yolo-voc_4.cfg\n",
            "Loading None ...\n",
            "Finished in 8.916854858398438e-05s\n",
            "\n",
            "Building net ...\n",
            "Source | Train? | Layer description                | Output size\n",
            "-------+--------+----------------------------------+---------------\n",
            "WARNING:tensorflow:From /usr/local/lib/python3.6/dist-packages/tensorflow/python/framework/op_def_library.py:263: colocate_with (from tensorflow.python.framework.ops) is deprecated and will be removed in a future version.\n",
            "Instructions for updating:\n",
            "Colocations handled automatically by placer.\n",
            "       |        | input                            | (?, 416, 416, 3)\n",
            " Init  |  Yep!  | conv 3x3p1_1  +bnorm  leaky      | (?, 416, 416, 16)\n",
            " Load  |  Yep!  | maxp 2x2p0_2                     | (?, 208, 208, 16)\n",
            " Init  |  Yep!  | conv 3x3p1_1  +bnorm  leaky      | (?, 208, 208, 32)\n",
            " Load  |  Yep!  | maxp 2x2p0_2                     | (?, 104, 104, 32)\n",
            " Init  |  Yep!  | conv 3x3p1_1  +bnorm  leaky      | (?, 104, 104, 64)\n",
            " Load  |  Yep!  | maxp 2x2p0_2                     | (?, 52, 52, 64)\n",
            " Init  |  Yep!  | conv 3x3p1_1  +bnorm  leaky      | (?, 52, 52, 128)\n",
            " Load  |  Yep!  | maxp 2x2p0_2                     | (?, 26, 26, 128)\n",
            " Init  |  Yep!  | conv 3x3p1_1  +bnorm  leaky      | (?, 26, 26, 256)\n",
            " Load  |  Yep!  | maxp 2x2p0_2                     | (?, 13, 13, 256)\n",
            " Init  |  Yep!  | conv 3x3p1_1  +bnorm  leaky      | (?, 13, 13, 512)\n",
            " Load  |  Yep!  | maxp 2x2p0_1                     | (?, 13, 13, 512)\n",
            " Init  |  Yep!  | conv 3x3p1_1  +bnorm  leaky      | (?, 13, 13, 1024)\n",
            " Init  |  Yep!  | conv 3x3p1_1  +bnorm  leaky      | (?, 13, 13, 1024)\n",
            " Init  |  Yep!  | conv 1x1p0_1    linear           | (?, 13, 13, 30)\n",
            "-------+--------+----------------------------------+---------------\n",
            "GPU mode with 1.0 usage\n",
            "2019-03-25 18:58:37.950608: I tensorflow/core/platform/profile_utils/cpu_utils.cc:94] CPU Frequency: 2300000000 Hz\n",
            "2019-03-25 18:58:37.950968: I tensorflow/compiler/xla/service/service.cc:150] XLA service 0x2e2b860 executing computations on platform Host. Devices:\n",
            "2019-03-25 18:58:37.951006: I tensorflow/compiler/xla/service/service.cc:158]   StreamExecutor device (0): <undefined>, <undefined>\n",
            "2019-03-25 18:58:38.052964: I tensorflow/stream_executor/cuda/cuda_gpu_executor.cc:998] successful NUMA node read from SysFS had negative value (-1), but there must be at least one NUMA node, so returning NUMA node zero\n",
            "2019-03-25 18:58:38.053538: I tensorflow/compiler/xla/service/service.cc:150] XLA service 0x2e2b440 executing computations on platform CUDA. Devices:\n",
            "2019-03-25 18:58:38.053573: I tensorflow/compiler/xla/service/service.cc:158]   StreamExecutor device (0): Tesla K80, Compute Capability 3.7\n",
            "2019-03-25 18:58:38.053972: I tensorflow/core/common_runtime/gpu/gpu_device.cc:1433] Found device 0 with properties: \n",
            "name: Tesla K80 major: 3 minor: 7 memoryClockRate(GHz): 0.8235\n",
            "pciBusID: 0000:00:04.0\n",
            "totalMemory: 11.17GiB freeMemory: 11.10GiB\n",
            "2019-03-25 18:58:38.054021: I tensorflow/core/common_runtime/gpu/gpu_device.cc:1512] Adding visible gpu devices: 0\n",
            "2019-03-25 18:58:38.403583: I tensorflow/core/common_runtime/gpu/gpu_device.cc:984] Device interconnect StreamExecutor with strength 1 edge matrix:\n",
            "2019-03-25 18:58:38.403652: I tensorflow/core/common_runtime/gpu/gpu_device.cc:990]      0 \n",
            "2019-03-25 18:58:38.403675: I tensorflow/core/common_runtime/gpu/gpu_device.cc:1003] 0:   N \n",
            "2019-03-25 18:58:38.403957: W tensorflow/core/common_runtime/gpu/gpu_bfc_allocator.cc:42] Overriding allow_growth setting because the TF_FORCE_GPU_ALLOW_GROWTH environment variable is set. Original config value was 0.\n",
            "2019-03-25 18:58:38.404020: I tensorflow/core/common_runtime/gpu/gpu_device.cc:1115] Created TensorFlow device (/job:localhost/replica:0/task:0/device:GPU:0 with 11441 MB memory) -> physical GPU (device: 0, name: Tesla K80, pci bus id: 0000:00:04.0, compute capability: 3.7)\n",
            "Loading from ./ckpt/tiny-yolo-voc_4-25\n",
            "WARNING:tensorflow:From /usr/local/lib/python3.6/dist-packages/tensorflow/python/training/saver.py:1266: checkpoint_exists (from tensorflow.python.training.checkpoint_management) is deprecated and will be removed in a future version.\n",
            "Instructions for updating:\n",
            "Use standard file APIs to check for files with this prefix.\n",
            "Finished in 2.7453229427337646s\n",
            "\n",
            "Forwarding 16 inputs ...\n",
            "Total time = 1.7677202224731445s / 16 inps = 9.051206065638068 ips\n",
            "Post processing 16 inputs ...\n",
            "Total time = 0.2940680980682373s / 16 inps = 54.40916612548453 ips\n",
            "Forwarding 16 inputs ...\n",
            "Total time = 0.09951663017272949s / 16 inps = 160.77714822365914 ips\n",
            "Post processing 16 inputs ...\n",
            "Total time = 0.33118605613708496s / 16 inps = 48.31121269603591 ips\n",
            "Forwarding 16 inputs ...\n",
            "Total time = 0.09828329086303711s / 16 inps = 162.79471169007593 ips\n",
            "Post processing 16 inputs ...\n",
            "Total time = 0.3290717601776123s / 16 inps = 48.62161369108125 ips\n",
            "Forwarding 16 inputs ...\n",
            "Total time = 0.09911060333251953s / 16 inps = 161.43580466682704 ips\n",
            "Post processing 16 inputs ...\n",
            "Total time = 0.3353550434112549s / 16 inps = 47.710628822655785 ips\n",
            "Forwarding 16 inputs ...\n",
            "Total time = 0.0990147590637207s / 16 inps = 161.5920712355947 ips\n",
            "Post processing 16 inputs ...\n",
            "Total time = 0.21533942222595215s / 16 inps = 74.3013045851468 ips\n",
            "Forwarding 1 inputs ...\n",
            "Total time = 0.316176176071167s / 1 inps = 3.162793643803553 ips\n",
            "Post processing 1 inputs ...\n",
            "Total time = 0.0071413516998291016s / 1 inps = 140.0295129035489 ips\n"
          ],
          "name": "stdout"
        }
      ]
    },
    {
      "metadata": {
        "id": "H0EL0hD1cJnb",
        "colab_type": "code",
        "colab": {}
      },
      "cell_type": "code",
      "source": [
        ""
      ],
      "execution_count": 0,
      "outputs": []
    },
    {
      "metadata": {
        "id": "vI3dCd_GcJkt",
        "colab_type": "code",
        "colab": {}
      },
      "cell_type": "code",
      "source": [
        ""
      ],
      "execution_count": 0,
      "outputs": []
    },
    {
      "metadata": {
        "id": "K-28BcyjU8LO",
        "colab_type": "code",
        "colab": {}
      },
      "cell_type": "code",
      "source": [
        "cp /content/labels.txt /content/darkflow"
      ],
      "execution_count": 0,
      "outputs": []
    },
    {
      "metadata": {
        "id": "EhqRf3reWJyN",
        "colab_type": "code",
        "colab": {}
      },
      "cell_type": "code",
      "source": [
        "cp /content/yolo-new.cfg /content/darkflow/cfg"
      ],
      "execution_count": 0,
      "outputs": []
    },
    {
      "metadata": {
        "id": "tLj52hBpWOff",
        "colab_type": "code",
        "outputId": "4269b455-92b7-490d-add0-4067c81d4c41",
        "colab": {
          "base_uri": "https://localhost:8080/",
          "height": 51
        }
      },
      "cell_type": "code",
      "source": [
        "cd /content/VOCdevkit/VOC2007"
      ],
      "execution_count": 0,
      "outputs": [
        {
          "output_type": "stream",
          "text": [
            "[Errno 2] No such file or directory: 'content/VOCdevkit/VOC2007'\n",
            "/content/darkflow\n"
          ],
          "name": "stdout"
        }
      ]
    },
    {
      "metadata": {
        "id": "ga76Xip4YS_K",
        "colab_type": "code",
        "colab": {}
      },
      "cell_type": "code",
      "source": [
        "mkdir /content/VOCdevkit/VOC2007/sampleimage"
      ],
      "execution_count": 0,
      "outputs": []
    },
    {
      "metadata": {
        "id": "VBueM9Bmd0tC",
        "colab_type": "code",
        "colab": {}
      },
      "cell_type": "code",
      "source": [
        "mkdir /content/VOCdevkit/VOC2007/sampletest"
      ],
      "execution_count": 0,
      "outputs": []
    },
    {
      "metadata": {
        "id": "Dl9_vWyfYWS1",
        "colab_type": "code",
        "outputId": "c40c9616-89d9-4aaa-9cf7-3f93e975bed9",
        "colab": {
          "base_uri": "https://localhost:8080/",
          "height": 34
        }
      },
      "cell_type": "code",
      "source": [
        "mkdir /content/VOCdevkit/VOC2007/samplelabel"
      ],
      "execution_count": 0,
      "outputs": [
        {
          "output_type": "stream",
          "text": [
            "mkdir: cannot create directory ‘/content/VOCdevkit/VOC2007/samplelabel’: File exists\n"
          ],
          "name": "stdout"
        }
      ]
    },
    {
      "metadata": {
        "id": "fw5cOzPMX6x7",
        "colab_type": "code",
        "colab": {}
      },
      "cell_type": "code",
      "source": [
        "%cp /content/VOCdevkit/VOC2007/JPEGImages/{000013..000014}.jpg /content/VOCdevkit/VOC2007/sampletest"
      ],
      "execution_count": 0,
      "outputs": []
    },
    {
      "metadata": {
        "id": "a-kp4J69YugY",
        "colab_type": "code",
        "outputId": "c24944b9-9f63-4604-8639-3d47e542c01d",
        "colab": {
          "base_uri": "https://localhost:8080/",
          "height": 68
        }
      },
      "cell_type": "code",
      "source": [
        "%cp /content/VOCdevkit/VOC2007/Annotations/{000001..000009}.xml /content/VOCdevkit/VOC2007/samplelabel/"
      ],
      "execution_count": 0,
      "outputs": [
        {
          "output_type": "stream",
          "text": [
            "cp: cannot stat '/content/VOCdevkit/VOC2007/Annotations/000005.xml': No such file or directory\n",
            "cp: cannot stat '/content/VOCdevkit/VOC2007/Annotations/000007.xml': No such file or directory\n",
            "cp: cannot stat '/content/VOCdevkit/VOC2007/Annotations/000009.xml': No such file or directory\n"
          ],
          "name": "stdout"
        }
      ]
    },
    {
      "metadata": {
        "id": "glYkCeQWY4Dz",
        "colab_type": "code",
        "outputId": "6c9a68b3-48f1-4a55-b32e-9cea0fbb49d7",
        "colab": {
          "base_uri": "https://localhost:8080/",
          "height": 1278
        }
      },
      "cell_type": "code",
      "source": [
        "!python flow --model cfg/yolo-new.cfg  --demo camera --gpu 1.0"
      ],
      "execution_count": 0,
      "outputs": [
        {
          "output_type": "stream",
          "text": [
            "\n",
            "Parsing cfg/yolo-new.cfg\n",
            "Loading None ...\n",
            "Finished in 0.00020742416381835938s\n",
            "\n",
            "Building net ...\n",
            "Source | Train? | Layer description                | Output size\n",
            "-------+--------+----------------------------------+---------------\n",
            "WARNING:tensorflow:From /usr/local/lib/python3.6/dist-packages/tensorflow/python/framework/op_def_library.py:263: colocate_with (from tensorflow.python.framework.ops) is deprecated and will be removed in a future version.\n",
            "Instructions for updating:\n",
            "Colocations handled automatically by placer.\n",
            "       |        | input                            | (?, 608, 608, 3)\n",
            " Init  |  Yep!  | conv 3x3p1_1  +bnorm  leaky      | (?, 608, 608, 32)\n",
            " Load  |  Yep!  | maxp 2x2p0_2                     | (?, 304, 304, 32)\n",
            " Init  |  Yep!  | conv 3x3p1_1  +bnorm  leaky      | (?, 304, 304, 64)\n",
            " Load  |  Yep!  | maxp 2x2p0_2                     | (?, 152, 152, 64)\n",
            " Init  |  Yep!  | conv 3x3p1_1  +bnorm  leaky      | (?, 152, 152, 128)\n",
            " Init  |  Yep!  | conv 1x1p0_1  +bnorm  leaky      | (?, 152, 152, 64)\n",
            " Init  |  Yep!  | conv 3x3p1_1  +bnorm  leaky      | (?, 152, 152, 128)\n",
            " Load  |  Yep!  | maxp 2x2p0_2                     | (?, 76, 76, 128)\n",
            " Init  |  Yep!  | conv 3x3p1_1  +bnorm  leaky      | (?, 76, 76, 256)\n",
            " Init  |  Yep!  | conv 1x1p0_1  +bnorm  leaky      | (?, 76, 76, 128)\n",
            " Init  |  Yep!  | conv 3x3p1_1  +bnorm  leaky      | (?, 76, 76, 256)\n",
            " Load  |  Yep!  | maxp 2x2p0_2                     | (?, 38, 38, 256)\n",
            " Init  |  Yep!  | conv 3x3p1_1  +bnorm  leaky      | (?, 38, 38, 512)\n",
            " Init  |  Yep!  | conv 1x1p0_1  +bnorm  leaky      | (?, 38, 38, 256)\n",
            " Init  |  Yep!  | conv 3x3p1_1  +bnorm  leaky      | (?, 38, 38, 512)\n",
            " Init  |  Yep!  | conv 1x1p0_1  +bnorm  leaky      | (?, 38, 38, 256)\n",
            " Init  |  Yep!  | conv 3x3p1_1  +bnorm  leaky      | (?, 38, 38, 512)\n",
            " Load  |  Yep!  | maxp 2x2p0_2                     | (?, 19, 19, 512)\n",
            " Init  |  Yep!  | conv 3x3p1_1  +bnorm  leaky      | (?, 19, 19, 1024)\n",
            " Init  |  Yep!  | conv 1x1p0_1  +bnorm  leaky      | (?, 19, 19, 512)\n",
            " Init  |  Yep!  | conv 3x3p1_1  +bnorm  leaky      | (?, 19, 19, 1024)\n",
            " Init  |  Yep!  | conv 1x1p0_1  +bnorm  leaky      | (?, 19, 19, 512)\n",
            " Init  |  Yep!  | conv 3x3p1_1  +bnorm  leaky      | (?, 19, 19, 1024)\n",
            " Init  |  Yep!  | conv 3x3p1_1  +bnorm  leaky      | (?, 19, 19, 1024)\n",
            " Init  |  Yep!  | conv 3x3p1_1  +bnorm  leaky      | (?, 19, 19, 1024)\n",
            " Load  |  Yep!  | concat [16]                      | (?, 38, 38, 512)\n",
            " Init  |  Yep!  | conv 1x1p0_1  +bnorm  leaky      | (?, 38, 38, 64)\n",
            " Load  |  Yep!  | local flatten 2x2                | (?, 19, 19, 256)\n",
            " Load  |  Yep!  | concat [27, 24]                  | (?, 19, 19, 1280)\n",
            " Init  |  Yep!  | conv 3x3p1_1  +bnorm  leaky      | (?, 19, 19, 1024)\n",
            " Init  |  Yep!  | conv 1x1p0_1    linear           | (?, 19, 19, 125)\n",
            "-------+--------+----------------------------------+---------------\n",
            "GPU mode with 1.0 usage\n",
            "2019-03-24 11:47:06.709401: I tensorflow/core/platform/profile_utils/cpu_utils.cc:94] CPU Frequency: 2300000000 Hz\n",
            "2019-03-24 11:47:06.709724: I tensorflow/compiler/xla/service/service.cc:150] XLA service 0x19af180 executing computations on platform Host. Devices:\n",
            "2019-03-24 11:47:06.709764: I tensorflow/compiler/xla/service/service.cc:158]   StreamExecutor device (0): <undefined>, <undefined>\n",
            "2019-03-24 11:47:06.809989: I tensorflow/stream_executor/cuda/cuda_gpu_executor.cc:998] successful NUMA node read from SysFS had negative value (-1), but there must be at least one NUMA node, so returning NUMA node zero\n",
            "2019-03-24 11:47:06.810591: I tensorflow/compiler/xla/service/service.cc:150] XLA service 0x19aed60 executing computations on platform CUDA. Devices:\n",
            "2019-03-24 11:47:06.810627: I tensorflow/compiler/xla/service/service.cc:158]   StreamExecutor device (0): Tesla K80, Compute Capability 3.7\n",
            "2019-03-24 11:47:06.811058: I tensorflow/core/common_runtime/gpu/gpu_device.cc:1433] Found device 0 with properties: \n",
            "name: Tesla K80 major: 3 minor: 7 memoryClockRate(GHz): 0.8235\n",
            "pciBusID: 0000:00:04.0\n",
            "totalMemory: 11.17GiB freeMemory: 11.10GiB\n",
            "2019-03-24 11:47:06.811093: I tensorflow/core/common_runtime/gpu/gpu_device.cc:1512] Adding visible gpu devices: 0\n",
            "2019-03-24 11:47:07.129613: I tensorflow/core/common_runtime/gpu/gpu_device.cc:984] Device interconnect StreamExecutor with strength 1 edge matrix:\n",
            "2019-03-24 11:47:07.129685: I tensorflow/core/common_runtime/gpu/gpu_device.cc:990]      0 \n",
            "2019-03-24 11:47:07.129704: I tensorflow/core/common_runtime/gpu/gpu_device.cc:1003] 0:   N \n",
            "2019-03-24 11:47:07.129995: W tensorflow/core/common_runtime/gpu/gpu_bfc_allocator.cc:42] Overriding allow_growth setting because the TF_FORCE_GPU_ALLOW_GROWTH environment variable is set. Original config value was 0.\n",
            "2019-03-24 11:47:07.130061: I tensorflow/core/common_runtime/gpu/gpu_device.cc:1115] Created TensorFlow device (/job:localhost/replica:0/task:0/device:GPU:0 with 11441 MB memory) -> physical GPU (device: 0, name: Tesla K80, pci bus id: 0000:00:04.0, compute capability: 3.7)\n",
            "Finished in 6.927920341491699s\n",
            "\n",
            "VIDEOIO ERROR: V4L: can't open camera by index 0\n",
            "Press [ESC] to quit demo\n",
            "Traceback (most recent call last):\n",
            "  File \"flow\", line 6, in <module>\n",
            "    cliHandler(sys.argv)\n",
            "  File \"/content/darkflow/darkflow/cli.py\", line 29, in cliHandler\n",
            "    tfnet.camera()\n",
            "  File \"/content/darkflow/darkflow/net/help.py\", line 84, in camera\n",
            "    'Cannot capture source'\n",
            "AssertionError: Cannot capture source\n"
          ],
          "name": "stdout"
        }
      ]
    },
    {
      "metadata": {
        "id": "EFCOk2Q-hUG_",
        "colab_type": "code",
        "colab": {}
      },
      "cell_type": "code",
      "source": [
        ""
      ],
      "execution_count": 0,
      "outputs": []
    }
  ]
}